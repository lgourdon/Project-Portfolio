{
 "cells": [
  {
   "cell_type": "markdown",
   "metadata": {},
   "source": [
    "# P5.1 - Construction de l'échantillon"
   ]
  },
  {
   "cell_type": "markdown",
   "metadata": {
    "toc": true
   },
   "source": [
    "<h1>Table des matières<span class=\"tocSkip\"></span></h1>\n",
    "<div class=\"toc\"><ul class=\"toc-item\"><li><span><a href=\"#Variables-minimales-requises\" data-toc-modified-id=\"Variables-minimales-requises-1\"><span class=\"toc-item-num\">1&nbsp;&nbsp;</span>Variables minimales requises</a></span><ul class=\"toc-item\"><li><span><a href=\"#population-2013,-variation-2008-2013\" data-toc-modified-id=\"population-2013,-variation-2008-2013-1.1\"><span class=\"toc-item-num\">1.1&nbsp;&nbsp;</span>population 2013, variation 2008-2013</a></span><ul class=\"toc-item\"><li><span><a href=\"#Wrangling-et-sélection-des-variables\" data-toc-modified-id=\"Wrangling-et-sélection-des-variables-1.1.1\"><span class=\"toc-item-num\">1.1.1&nbsp;&nbsp;</span>Wrangling et sélection des variables</a></span></li><li><span><a href=\"#Traitement-des-NaN\" data-toc-modified-id=\"Traitement-des-NaN-1.1.2\"><span class=\"toc-item-num\">1.1.2&nbsp;&nbsp;</span>Traitement des NaN</a></span></li><li><span><a href=\"#Création-du-ratio-'pop_var-2008-2013'\" data-toc-modified-id=\"Création-du-ratio-'pop_var-2008-2013'-1.1.3\"><span class=\"toc-item-num\">1.1.3&nbsp;&nbsp;</span>Création du ratio 'pop_var 2008-2013'</a></span></li></ul></li><li><span><a href=\"#Ratio-protéines-animales-vs-total-protéines\" data-toc-modified-id=\"Ratio-protéines-animales-vs-total-protéines-1.2\"><span class=\"toc-item-num\">1.2&nbsp;&nbsp;</span>Ratio protéines animales vs total protéines</a></span><ul class=\"toc-item\"><li><span><a href=\"#Wrangling-et-sélection-des-variables\" data-toc-modified-id=\"Wrangling-et-sélection-des-variables-1.2.1\"><span class=\"toc-item-num\">1.2.1&nbsp;&nbsp;</span>Wrangling et sélection des variables</a></span></li><li><span><a href=\"#création-de-la-variable-'prot_ani_ratio'\" data-toc-modified-id=\"création-de-la-variable-'prot_ani_ratio'-1.2.2\"><span class=\"toc-item-num\">1.2.2&nbsp;&nbsp;</span>création de la variable 'prot_ani_ratio'</a></span></li></ul></li><li><span><a href=\"#Disponibilité-alimentaire-en-protéines-et-en-calories-par-habitant\" data-toc-modified-id=\"Disponibilité-alimentaire-en-protéines-et-en-calories-par-habitant-1.3\"><span class=\"toc-item-num\">1.3&nbsp;&nbsp;</span>Disponibilité alimentaire en protéines et en calories par habitant</a></span><ul class=\"toc-item\"><li><span><a href=\"#Wrangling-et-sélection-des-variables\" data-toc-modified-id=\"Wrangling-et-sélection-des-variables-1.3.1\"><span class=\"toc-item-num\">1.3.1&nbsp;&nbsp;</span>Wrangling et sélection des variables</a></span></li><li><span><a href=\"#création-du-dataset-'prot_g_cap_day'\" data-toc-modified-id=\"création-du-dataset-'prot_g_cap_day'-1.3.2\"><span class=\"toc-item-num\">1.3.2&nbsp;&nbsp;</span>création du dataset 'prot_g_cap_day'</a></span></li><li><span><a href=\"#Création-du-df-disponibilité-alimentaire\" data-toc-modified-id=\"Création-du-df-disponibilité-alimentaire-1.3.3\"><span class=\"toc-item-num\">1.3.3&nbsp;&nbsp;</span>Création du df disponibilité alimentaire</a></span></li></ul></li><li><span><a href=\"#Consolidation-des-tables-et-export\" data-toc-modified-id=\"Consolidation-des-tables-et-export-1.4\"><span class=\"toc-item-num\">1.4&nbsp;&nbsp;</span>Consolidation des tables et export</a></span><ul class=\"toc-item\"><li><span><a href=\"#Rappel-des-df-population,-protani-et-dsiponibilité-alimentaire\" data-toc-modified-id=\"Rappel-des-df-population,-protani-et-dsiponibilité-alimentaire-1.4.1\"><span class=\"toc-item-num\">1.4.1&nbsp;&nbsp;</span>Rappel des df population, protani et dsiponibilité alimentaire</a></span></li><li><span><a href=\"#Merge-des-3-df\" data-toc-modified-id=\"Merge-des-3-df-1.4.2\"><span class=\"toc-item-num\">1.4.2&nbsp;&nbsp;</span>Merge des 3 df</a></span></li></ul></li></ul></li><li><span><a href=\"#Ajout-de-variables-personnelles\" data-toc-modified-id=\"Ajout-de-variables-personnelles-2\"><span class=\"toc-item-num\">2&nbsp;&nbsp;</span>Ajout de variables personnelles</a></span><ul class=\"toc-item\"><li><span><a href=\"#GDP-per-cap-2013'-et-GDP-ratio-2008-2013\" data-toc-modified-id=\"GDP-per-cap-2013'-et-GDP-ratio-2008-2013-2.1\"><span class=\"toc-item-num\">2.1&nbsp;&nbsp;</span>GDP per cap 2013' et GDP ratio 2008-2013</a></span></li><li><span><a href=\"#Création-de-variables-pour-'Poultry-Meat'\" data-toc-modified-id=\"Création-de-variables-pour-'Poultry-Meat'-2.2\"><span class=\"toc-item-num\">2.2&nbsp;&nbsp;</span>Création de variables pour 'Poultry Meat'</a></span></li><li><span><a href=\"#Ease-of-doing-business-(edb-2019)\" data-toc-modified-id=\"Ease-of-doing-business-(edb-2019)-2.3\"><span class=\"toc-item-num\">2.3&nbsp;&nbsp;</span>Ease of doing business (edb 2019)</a></span></li><li><span><a href=\"#Consolidation-des-tables-et-export\" data-toc-modified-id=\"Consolidation-des-tables-et-export-2.4\"><span class=\"toc-item-num\">2.4&nbsp;&nbsp;</span>Consolidation des tables et export</a></span></li></ul></li><li><span><a href=\"#Boxplots-des-variables-retenues\" data-toc-modified-id=\"Boxplots-des-variables-retenues-3\"><span class=\"toc-item-num\">3&nbsp;&nbsp;</span>Boxplots des variables retenues</a></span><ul class=\"toc-item\"><li><span><a href=\"#Variables-imposées\" data-toc-modified-id=\"Variables-imposées-3.1\"><span class=\"toc-item-num\">3.1&nbsp;&nbsp;</span>Variables imposées</a></span><ul class=\"toc-item\"><li><span><a href=\"#pop_2013\" data-toc-modified-id=\"pop_2013-3.1.1\"><span class=\"toc-item-num\">3.1.1&nbsp;&nbsp;</span>pop_2013</a></span></li><li><span><a href=\"#pop_var\" data-toc-modified-id=\"pop_var-3.1.2\"><span class=\"toc-item-num\">3.1.2&nbsp;&nbsp;</span>pop_var</a></span></li><li><span><a href=\"#prot_ani_ratio\" data-toc-modified-id=\"prot_ani_ratio-3.1.3\"><span class=\"toc-item-num\">3.1.3&nbsp;&nbsp;</span>prot_ani_ratio</a></span></li><li><span><a href=\"#prot_g_cap_day\" data-toc-modified-id=\"prot_g_cap_day-3.1.4\"><span class=\"toc-item-num\">3.1.4&nbsp;&nbsp;</span>prot_g_cap_day</a></span></li><li><span><a href=\"#food_kcal_cap_day\" data-toc-modified-id=\"food_kcal_cap_day-3.1.5\"><span class=\"toc-item-num\">3.1.5&nbsp;&nbsp;</span>food_kcal_cap_day</a></span></li></ul></li><li><span><a href=\"#Variables-personnelles\" data-toc-modified-id=\"Variables-personnelles-3.2\"><span class=\"toc-item-num\">3.2&nbsp;&nbsp;</span>Variables personnelles</a></span><ul class=\"toc-item\"><li><span><a href=\"#gdp_2013\" data-toc-modified-id=\"gdp_2013-3.2.1\"><span class=\"toc-item-num\">3.2.1&nbsp;&nbsp;</span>gdp_2013</a></span></li><li><span><a href=\"#edb_2013\" data-toc-modified-id=\"edb_2013-3.2.2\"><span class=\"toc-item-num\">3.2.2&nbsp;&nbsp;</span>edb_2013</a></span></li><li><span><a href=\"#poultry_food_kg_cap_y\" data-toc-modified-id=\"poultry_food_kg_cap_y-3.2.3\"><span class=\"toc-item-num\">3.2.3&nbsp;&nbsp;</span>poultry_food_kg_cap_y</a></span></li><li><span><a href=\"#poultry_import_ratio\" data-toc-modified-id=\"poultry_import_ratio-3.2.4\"><span class=\"toc-item-num\">3.2.4&nbsp;&nbsp;</span>poultry_import_ratio</a></span></li></ul></li></ul></li></ul></div>"
   ]
  },
  {
   "cell_type": "code",
   "execution_count": 1,
   "metadata": {},
   "outputs": [],
   "source": [
    "# Import des librairies\n",
    "import numpy as np\n",
    "import pandas as pd\n",
    "\n",
    "import matplotlib.pyplot as plt   # visualizations\n",
    "import seaborn as sns             # visualizations\n",
    "\n",
    "%matplotlib inline"
   ]
  },
  {
   "cell_type": "code",
   "execution_count": 2,
   "metadata": {},
   "outputs": [],
   "source": [
    "# sépatateurs milliers = , et une décimale\n",
    "pd.options.display.float_format = '{:,.1f}'.format"
   ]
  },
  {
   "cell_type": "markdown",
   "metadata": {},
   "source": [
    "## Variables minimales requises"
   ]
  },
  {
   "cell_type": "markdown",
   "metadata": {},
   "source": [
    "### population 2013, variation 2008-2013\n"
   ]
  },
  {
   "cell_type": "code",
   "execution_count": 3,
   "metadata": {},
   "outputs": [
    {
     "data": {
      "text/html": [
       "<div>\n",
       "<style scoped>\n",
       "    .dataframe tbody tr th:only-of-type {\n",
       "        vertical-align: middle;\n",
       "    }\n",
       "\n",
       "    .dataframe tbody tr th {\n",
       "        vertical-align: top;\n",
       "    }\n",
       "\n",
       "    .dataframe thead th {\n",
       "        text-align: right;\n",
       "    }\n",
       "</style>\n",
       "<table border=\"1\" class=\"dataframe\">\n",
       "  <thead>\n",
       "    <tr style=\"text-align: right;\">\n",
       "      <th></th>\n",
       "      <th>Domain Code</th>\n",
       "      <th>Domain</th>\n",
       "      <th>Country Code</th>\n",
       "      <th>Country</th>\n",
       "      <th>Element Code</th>\n",
       "      <th>Element</th>\n",
       "      <th>Item Code</th>\n",
       "      <th>Item</th>\n",
       "      <th>Year Code</th>\n",
       "      <th>Year</th>\n",
       "      <th>Unit</th>\n",
       "      <th>Value</th>\n",
       "      <th>Flag</th>\n",
       "      <th>Flag Description</th>\n",
       "    </tr>\n",
       "  </thead>\n",
       "  <tbody>\n",
       "    <tr>\n",
       "      <th>0</th>\n",
       "      <td>FBS</td>\n",
       "      <td>Food Balance Sheets</td>\n",
       "      <td>2</td>\n",
       "      <td>Afghanistan</td>\n",
       "      <td>511</td>\n",
       "      <td>Total Population - Both sexes</td>\n",
       "      <td>2501</td>\n",
       "      <td>Population</td>\n",
       "      <td>2008</td>\n",
       "      <td>2008</td>\n",
       "      <td>1000 persons</td>\n",
       "      <td>27032</td>\n",
       "      <td>NaN</td>\n",
       "      <td>Official data</td>\n",
       "    </tr>\n",
       "  </tbody>\n",
       "</table>\n",
       "</div>"
      ],
      "text/plain": [
       "  Domain Code               Domain  Country Code      Country  Element Code  \\\n",
       "0         FBS  Food Balance Sheets             2  Afghanistan           511   \n",
       "\n",
       "                         Element  Item Code        Item  Year Code  Year  \\\n",
       "0  Total Population - Both sexes       2501  Population       2008  2008   \n",
       "\n",
       "           Unit  Value Flag Flag Description  \n",
       "0  1000 persons  27032  NaN    Official data  "
      ]
     },
     "execution_count": 3,
     "metadata": {},
     "output_type": "execute_result"
    }
   ],
   "source": [
    "# import des données 'population_2003_2008_2013'\n",
    "pop = pd.read_csv('data/population_2008_2013.csv')\n",
    "pop.head(1)"
   ]
  },
  {
   "cell_type": "markdown",
   "metadata": {},
   "source": [
    "#### Wrangling et sélection des variables"
   ]
  },
  {
   "cell_type": "code",
   "execution_count": 4,
   "metadata": {},
   "outputs": [
    {
     "data": {
      "text/html": [
       "<div>\n",
       "<style scoped>\n",
       "    .dataframe tbody tr th:only-of-type {\n",
       "        vertical-align: middle;\n",
       "    }\n",
       "\n",
       "    .dataframe tbody tr th {\n",
       "        vertical-align: top;\n",
       "    }\n",
       "\n",
       "    .dataframe thead th {\n",
       "        text-align: right;\n",
       "    }\n",
       "</style>\n",
       "<table border=\"1\" class=\"dataframe\">\n",
       "  <thead>\n",
       "    <tr style=\"text-align: right;\">\n",
       "      <th></th>\n",
       "      <th>ctry_cd</th>\n",
       "      <th>country</th>\n",
       "      <th>year</th>\n",
       "      <th>population</th>\n",
       "    </tr>\n",
       "  </thead>\n",
       "  <tbody>\n",
       "    <tr>\n",
       "      <th>0</th>\n",
       "      <td>2</td>\n",
       "      <td>Afghanistan</td>\n",
       "      <td>2008</td>\n",
       "      <td>27.0</td>\n",
       "    </tr>\n",
       "  </tbody>\n",
       "</table>\n",
       "</div>"
      ],
      "text/plain": [
       "   ctry_cd      country  year  population\n",
       "0        2  Afghanistan  2008        27.0"
      ]
     },
     "execution_count": 4,
     "metadata": {},
     "output_type": "execute_result"
    }
   ],
   "source": [
    "# on exclut l'agrégat \"China\" :\n",
    "pop = pop[(pop['Country'] != \"China\")]\n",
    "\n",
    "# on  divise 'population' par 1000 pour l'exprimer en millions\n",
    "pop['Value'] = pop['Value'] / 1000\n",
    "\n",
    "# copie sélective\n",
    "pop_clean = pop[['Country Code','Country','Year','Value']].copy()\n",
    "\n",
    "# on renomme les variables de pop_clean\n",
    "pop_clean.columns = ['ctry_cd','country','year','population']\n",
    "pop_clean.head(1)"
   ]
  },
  {
   "cell_type": "code",
   "execution_count": 5,
   "metadata": {},
   "outputs": [
    {
     "data": {
      "text/plain": [
       "ctry_cd     176\n",
       "country     176\n",
       "pop_2008    175\n",
       "pop_2013    174\n",
       "dtype: int64"
      ]
     },
     "execution_count": 5,
     "metadata": {},
     "output_type": "execute_result"
    }
   ],
   "source": [
    "# pivot sur 'year'\n",
    "data = pop_clean.pivot_table(\n",
    "    index=['ctry_cd','country'],\n",
    "    columns = ['year'], values=['population'], aggfunc=sum)\n",
    "data.columns = ['pop_2008', 'pop_2013']\n",
    "data = data.reset_index()\n",
    "data.count()"
   ]
  },
  {
   "cell_type": "markdown",
   "metadata": {},
   "source": [
    "#### Traitement des NaN"
   ]
  },
  {
   "cell_type": "code",
   "execution_count": 6,
   "metadata": {},
   "outputs": [
    {
     "data": {
      "text/html": [
       "<div>\n",
       "<style scoped>\n",
       "    .dataframe tbody tr th:only-of-type {\n",
       "        vertical-align: middle;\n",
       "    }\n",
       "\n",
       "    .dataframe tbody tr th {\n",
       "        vertical-align: top;\n",
       "    }\n",
       "\n",
       "    .dataframe thead th {\n",
       "        text-align: right;\n",
       "    }\n",
       "</style>\n",
       "<table border=\"1\" class=\"dataframe\">\n",
       "  <thead>\n",
       "    <tr style=\"text-align: right;\">\n",
       "      <th></th>\n",
       "      <th>ctry_cd</th>\n",
       "      <th>country</th>\n",
       "      <th>pop_2008</th>\n",
       "      <th>pop_2013</th>\n",
       "    </tr>\n",
       "  </thead>\n",
       "  <tbody>\n",
       "    <tr>\n",
       "      <th>108</th>\n",
       "      <td>151</td>\n",
       "      <td>Netherlands Antilles (former)</td>\n",
       "      <td>0.2</td>\n",
       "      <td>nan</td>\n",
       "    </tr>\n",
       "    <tr>\n",
       "      <th>142</th>\n",
       "      <td>206</td>\n",
       "      <td>Sudan (former)</td>\n",
       "      <td>41.4</td>\n",
       "      <td>nan</td>\n",
       "    </tr>\n",
       "    <tr>\n",
       "      <th>175</th>\n",
       "      <td>276</td>\n",
       "      <td>Sudan</td>\n",
       "      <td>nan</td>\n",
       "      <td>38.0</td>\n",
       "    </tr>\n",
       "  </tbody>\n",
       "</table>\n",
       "</div>"
      ],
      "text/plain": [
       "     ctry_cd                        country  pop_2008  pop_2013\n",
       "108      151  Netherlands Antilles (former)       0.2       nan\n",
       "142      206                 Sudan (former)      41.4       nan\n",
       "175      276                          Sudan       nan      38.0"
      ]
     },
     "execution_count": 6,
     "metadata": {},
     "output_type": "execute_result"
    }
   ],
   "source": [
    "# recherche de NaN\n",
    "na = data[data.isnull().any(axis=1)]\n",
    "na"
   ]
  },
  {
   "cell_type": "markdown",
   "metadata": {},
   "source": [
    "* [Antilles néerlandaises](https://fr.wikipedia.org/wiki/Dissolution_de_la_f%C3%A9d%C3%A9ration_des_Antilles_n%C3%A9erlandaises): Les Antilles néerlandaises sont dissoutes dans le cadre de la réforme étatique du Royaume des Pays-Bas du 10 octobre 2010 sous l'effet de l’amendement du statut du Royaume des Pays-Bas.\n",
    "* Le référendum d'autodétermination du Soudan du Sud a eu lieu 9 janvier 2011, le Soudan (206) en tant qu'état n'existe plus. Après avoir tenté de concaténer les ctry_cd 206 et 276, il s'avère qu'il est préférable de retirer ce pays au vu de son l'instabilité sociale. politique et économique"
   ]
  },
  {
   "cell_type": "code",
   "execution_count": 7,
   "metadata": {},
   "outputs": [
    {
     "data": {
      "text/plain": [
       "ctry_cd     173\n",
       "country     173\n",
       "pop_2008    173\n",
       "pop_2013    173\n",
       "dtype: int64"
      ]
     },
     "execution_count": 7,
     "metadata": {},
     "output_type": "execute_result"
    }
   ],
   "source": [
    "# supression des lignes NaN\n",
    "data = data.dropna()\n",
    "data.count()"
   ]
  },
  {
   "cell_type": "code",
   "execution_count": 8,
   "metadata": {},
   "outputs": [
    {
     "data": {
      "text/html": [
       "<div>\n",
       "<style scoped>\n",
       "    .dataframe tbody tr th:only-of-type {\n",
       "        vertical-align: middle;\n",
       "    }\n",
       "\n",
       "    .dataframe tbody tr th {\n",
       "        vertical-align: top;\n",
       "    }\n",
       "\n",
       "    .dataframe thead th {\n",
       "        text-align: right;\n",
       "    }\n",
       "</style>\n",
       "<table border=\"1\" class=\"dataframe\">\n",
       "  <thead>\n",
       "    <tr style=\"text-align: right;\">\n",
       "      <th></th>\n",
       "      <th>ctry_cd</th>\n",
       "      <th>country</th>\n",
       "    </tr>\n",
       "  </thead>\n",
       "  <tbody>\n",
       "    <tr>\n",
       "      <th>0</th>\n",
       "      <td>1</td>\n",
       "      <td>Armenia</td>\n",
       "    </tr>\n",
       "    <tr>\n",
       "      <th>1</th>\n",
       "      <td>2</td>\n",
       "      <td>Afghanistan</td>\n",
       "    </tr>\n",
       "  </tbody>\n",
       "</table>\n",
       "</div>"
      ],
      "text/plain": [
       "   ctry_cd      country\n",
       "0        1      Armenia\n",
       "1        2  Afghanistan"
      ]
     },
     "execution_count": 8,
     "metadata": {},
     "output_type": "execute_result"
    }
   ],
   "source": [
    "# Création d'un df-key pour 'ctry_cd' et 'country'\n",
    "ctrykey = data[['ctry_cd','country']].copy()\n",
    "ctrykey.head(2)"
   ]
  },
  {
   "cell_type": "code",
   "execution_count": 9,
   "metadata": {},
   "outputs": [
    {
     "data": {
      "text/plain": [
       "ctry_cd    173\n",
       "country    173\n",
       "dtype: int64"
      ]
     },
     "execution_count": 9,
     "metadata": {},
     "output_type": "execute_result"
    }
   ],
   "source": [
    "ctrykey.count()"
   ]
  },
  {
   "cell_type": "markdown",
   "metadata": {},
   "source": [
    "#### Création du ratio 'pop_var 2008-2013'"
   ]
  },
  {
   "cell_type": "code",
   "execution_count": 10,
   "metadata": {},
   "outputs": [
    {
     "data": {
      "text/html": [
       "<div>\n",
       "<style scoped>\n",
       "    .dataframe tbody tr th:only-of-type {\n",
       "        vertical-align: middle;\n",
       "    }\n",
       "\n",
       "    .dataframe tbody tr th {\n",
       "        vertical-align: top;\n",
       "    }\n",
       "\n",
       "    .dataframe thead th {\n",
       "        text-align: right;\n",
       "    }\n",
       "</style>\n",
       "<table border=\"1\" class=\"dataframe\">\n",
       "  <thead>\n",
       "    <tr style=\"text-align: right;\">\n",
       "      <th></th>\n",
       "      <th>pop_2013</th>\n",
       "      <th>pop_var</th>\n",
       "    </tr>\n",
       "  </thead>\n",
       "  <tbody>\n",
       "    <tr>\n",
       "      <th>count</th>\n",
       "      <td>173.0</td>\n",
       "      <td>173.0</td>\n",
       "    </tr>\n",
       "    <tr>\n",
       "      <th>mean</th>\n",
       "      <td>40.2</td>\n",
       "      <td>107.2</td>\n",
       "    </tr>\n",
       "    <tr>\n",
       "      <th>std</th>\n",
       "      <td>146.0</td>\n",
       "      <td>6.7</td>\n",
       "    </tr>\n",
       "    <tr>\n",
       "      <th>min</th>\n",
       "      <td>0.1</td>\n",
       "      <td>95.9</td>\n",
       "    </tr>\n",
       "    <tr>\n",
       "      <th>25%</th>\n",
       "      <td>2.3</td>\n",
       "      <td>102.7</td>\n",
       "    </tr>\n",
       "    <tr>\n",
       "      <th>50%</th>\n",
       "      <td>9.4</td>\n",
       "      <td>106.5</td>\n",
       "    </tr>\n",
       "    <tr>\n",
       "      <th>75%</th>\n",
       "      <td>27.8</td>\n",
       "      <td>110.7</td>\n",
       "    </tr>\n",
       "    <tr>\n",
       "      <th>max</th>\n",
       "      <td>1,385.6</td>\n",
       "      <td>140.0</td>\n",
       "    </tr>\n",
       "  </tbody>\n",
       "</table>\n",
       "</div>"
      ],
      "text/plain": [
       "       pop_2013  pop_var\n",
       "count     173.0    173.0\n",
       "mean       40.2    107.2\n",
       "std       146.0      6.7\n",
       "min         0.1     95.9\n",
       "25%         2.3    102.7\n",
       "50%         9.4    106.5\n",
       "75%        27.8    110.7\n",
       "max     1,385.6    140.0"
      ]
     },
     "execution_count": 10,
     "metadata": {},
     "output_type": "execute_result"
    }
   ],
   "source": [
    "# création de la variable 'pop_var'\n",
    "data['pop_var'] = data['pop_2013'] / data['pop_2008'] * 100\n",
    "\n",
    "# copie sélective\n",
    "deltpop = data[['ctry_cd','country','pop_2013','pop_var']].copy()\n",
    "deltpop[['pop_2013','pop_var']].describe()"
   ]
  },
  {
   "cell_type": "code",
   "execution_count": 11,
   "metadata": {},
   "outputs": [
    {
     "data": {
      "text/plain": [
       "6959.362"
      ]
     },
     "execution_count": 11,
     "metadata": {},
     "output_type": "execute_result"
    }
   ],
   "source": [
    "# population mondiale 2013 (millions)\n",
    "round(deltpop['pop_2013'].sum(),3)"
   ]
  },
  {
   "cell_type": "markdown",
   "metadata": {},
   "source": [
    "### Ratio protéines animales vs total protéines"
   ]
  },
  {
   "cell_type": "markdown",
   "metadata": {},
   "source": [
    "#### Wrangling et sélection des variables"
   ]
  },
  {
   "cell_type": "code",
   "execution_count": 12,
   "metadata": {},
   "outputs": [
    {
     "data": {
      "text/html": [
       "<div>\n",
       "<style scoped>\n",
       "    .dataframe tbody tr th:only-of-type {\n",
       "        vertical-align: middle;\n",
       "    }\n",
       "\n",
       "    .dataframe tbody tr th {\n",
       "        vertical-align: top;\n",
       "    }\n",
       "\n",
       "    .dataframe thead th {\n",
       "        text-align: right;\n",
       "    }\n",
       "</style>\n",
       "<table border=\"1\" class=\"dataframe\">\n",
       "  <thead>\n",
       "    <tr style=\"text-align: right;\">\n",
       "      <th></th>\n",
       "      <th>ctry_cd</th>\n",
       "      <th>origin</th>\n",
       "      <th>prot_kg_y</th>\n",
       "    </tr>\n",
       "  </thead>\n",
       "  <tbody>\n",
       "    <tr>\n",
       "      <th>0</th>\n",
       "      <td>1</td>\n",
       "      <td>animal</td>\n",
       "      <td>46,984,800.2</td>\n",
       "    </tr>\n",
       "    <tr>\n",
       "      <th>1</th>\n",
       "      <td>1</td>\n",
       "      <td>vegetal</td>\n",
       "      <td>50,874,846.1</td>\n",
       "    </tr>\n",
       "  </tbody>\n",
       "</table>\n",
       "</div>"
      ],
      "text/plain": [
       "   ctry_cd   origin    prot_kg_y\n",
       "0        1   animal 46,984,800.2\n",
       "1        1  vegetal 50,874,846.1"
      ]
     },
     "execution_count": 12,
     "metadata": {},
     "output_type": "execute_result"
    }
   ],
   "source": [
    "# import du df du P3 ex3 'food_supply_prot_ctry'\n",
    "prot = pd.read_csv('data/food_supply_prot_ctry.csv')\n",
    "\n",
    "# on renomme Protein supply (kg/ctry/y)'\n",
    "prot.rename(columns={'Protein supply (kg/ctry/y)':'prot_kg_y'}, inplace=True)\n",
    "\n",
    "# groupby et somme\n",
    "prot2 = prot.groupby(['ctry_cd','origin']).prot_kg_y.sum()\n",
    "prot2 = prot2.reset_index()\n",
    "prot2.head(2)"
   ]
  },
  {
   "cell_type": "code",
   "execution_count": 13,
   "metadata": {},
   "outputs": [
    {
     "data": {
      "text/html": [
       "<div>\n",
       "<style scoped>\n",
       "    .dataframe tbody tr th:only-of-type {\n",
       "        vertical-align: middle;\n",
       "    }\n",
       "\n",
       "    .dataframe tbody tr th {\n",
       "        vertical-align: top;\n",
       "    }\n",
       "\n",
       "    .dataframe thead th {\n",
       "        text-align: right;\n",
       "    }\n",
       "</style>\n",
       "<table border=\"1\" class=\"dataframe\">\n",
       "  <thead>\n",
       "    <tr style=\"text-align: right;\">\n",
       "      <th></th>\n",
       "      <th>ctry_cd</th>\n",
       "      <th>prot_ani</th>\n",
       "      <th>prot_veg</th>\n",
       "    </tr>\n",
       "  </thead>\n",
       "  <tbody>\n",
       "    <tr>\n",
       "      <th>0</th>\n",
       "      <td>1</td>\n",
       "      <td>46,984,800.2</td>\n",
       "      <td>50,874,846.1</td>\n",
       "    </tr>\n",
       "    <tr>\n",
       "      <th>1</th>\n",
       "      <td>2</td>\n",
       "      <td>136,159,570.8</td>\n",
       "      <td>513,525,654.0</td>\n",
       "    </tr>\n",
       "  </tbody>\n",
       "</table>\n",
       "</div>"
      ],
      "text/plain": [
       "   ctry_cd      prot_ani      prot_veg\n",
       "0        1  46,984,800.2  50,874,846.1\n",
       "1        2 136,159,570.8 513,525,654.0"
      ]
     },
     "execution_count": 13,
     "metadata": {},
     "output_type": "execute_result"
    }
   ],
   "source": [
    "# pivot sur 'origin'\n",
    "protani = prot2.pivot_table(index=['ctry_cd'],columns = ['origin'], values=['prot_kg_y'], aggfunc=sum)\n",
    "protani.columns = ['prot_ani', 'prot_veg']\n",
    "protani = protani.reset_index()\n",
    "protani.head(2)"
   ]
  },
  {
   "cell_type": "markdown",
   "metadata": {},
   "source": [
    "#### création de la variable 'prot_ani_ratio'"
   ]
  },
  {
   "cell_type": "code",
   "execution_count": 14,
   "metadata": {},
   "outputs": [
    {
     "data": {
      "text/html": [
       "<div>\n",
       "<style scoped>\n",
       "    .dataframe tbody tr th:only-of-type {\n",
       "        vertical-align: middle;\n",
       "    }\n",
       "\n",
       "    .dataframe tbody tr th {\n",
       "        vertical-align: top;\n",
       "    }\n",
       "\n",
       "    .dataframe thead th {\n",
       "        text-align: right;\n",
       "    }\n",
       "</style>\n",
       "<table border=\"1\" class=\"dataframe\">\n",
       "  <thead>\n",
       "    <tr style=\"text-align: right;\">\n",
       "      <th></th>\n",
       "      <th>ctry_cd</th>\n",
       "      <th>prot_ani_ratio</th>\n",
       "    </tr>\n",
       "  </thead>\n",
       "  <tbody>\n",
       "    <tr>\n",
       "      <th>0</th>\n",
       "      <td>1</td>\n",
       "      <td>48.0</td>\n",
       "    </tr>\n",
       "    <tr>\n",
       "      <th>1</th>\n",
       "      <td>2</td>\n",
       "      <td>21.0</td>\n",
       "    </tr>\n",
       "  </tbody>\n",
       "</table>\n",
       "</div>"
      ],
      "text/plain": [
       "   ctry_cd  prot_ani_ratio\n",
       "0        1            48.0\n",
       "1        2            21.0"
      ]
     },
     "execution_count": 14,
     "metadata": {},
     "output_type": "execute_result"
    }
   ],
   "source": [
    "# création de la colomne 'prot_ani_ratio'\n",
    "protani['prot_ani_ratio'] = protani['prot_ani'] / (protani['prot_ani'] + protani['prot_veg'])  * 100\n",
    "# On ne garde que les variables utiles\n",
    "protani.drop(['prot_ani', 'prot_veg'], axis=1, inplace = True)\n",
    "protani.head(2)"
   ]
  },
  {
   "cell_type": "code",
   "execution_count": 15,
   "metadata": {},
   "outputs": [
    {
     "data": {
      "text/html": [
       "<div>\n",
       "<style scoped>\n",
       "    .dataframe tbody tr th:only-of-type {\n",
       "        vertical-align: middle;\n",
       "    }\n",
       "\n",
       "    .dataframe tbody tr th {\n",
       "        vertical-align: top;\n",
       "    }\n",
       "\n",
       "    .dataframe thead th {\n",
       "        text-align: right;\n",
       "    }\n",
       "</style>\n",
       "<table border=\"1\" class=\"dataframe\">\n",
       "  <thead>\n",
       "    <tr style=\"text-align: right;\">\n",
       "      <th></th>\n",
       "      <th>ctry_cd</th>\n",
       "      <th>prot_ani_ratio</th>\n",
       "      <th>country</th>\n",
       "    </tr>\n",
       "  </thead>\n",
       "  <tbody>\n",
       "    <tr>\n",
       "      <th>0</th>\n",
       "      <td>1</td>\n",
       "      <td>48.0</td>\n",
       "      <td>Armenia</td>\n",
       "    </tr>\n",
       "    <tr>\n",
       "      <th>1</th>\n",
       "      <td>2</td>\n",
       "      <td>21.0</td>\n",
       "      <td>Afghanistan</td>\n",
       "    </tr>\n",
       "  </tbody>\n",
       "</table>\n",
       "</div>"
      ],
      "text/plain": [
       "   ctry_cd  prot_ani_ratio      country\n",
       "0        1            48.0      Armenia\n",
       "1        2            21.0  Afghanistan"
      ]
     },
     "execution_count": 15,
     "metadata": {},
     "output_type": "execute_result"
    }
   ],
   "source": [
    "# merge de protani et ctrykey  \n",
    "aniratio = pd.merge(protani,ctrykey, on=['ctry_cd'], how='outer')\n",
    "#aniratio = aniratio.reset_index()\n",
    "aniratio.head(2)"
   ]
  },
  {
   "cell_type": "code",
   "execution_count": 16,
   "metadata": {},
   "outputs": [
    {
     "data": {
      "text/plain": [
       "count   174.0\n",
       "mean     42.8\n",
       "std      16.2\n",
       "min       9.8\n",
       "25%      28.6\n",
       "50%      45.1\n",
       "75%      56.5\n",
       "max      73.1\n",
       "Name: prot_ani_ratio, dtype: float64"
      ]
     },
     "execution_count": 16,
     "metadata": {},
     "output_type": "execute_result"
    }
   ],
   "source": [
    "aniratio['prot_ani_ratio'].describe()"
   ]
  },
  {
   "cell_type": "markdown",
   "metadata": {},
   "source": [
    "### Disponibilité alimentaire en protéines et en calories par habitant"
   ]
  },
  {
   "cell_type": "markdown",
   "metadata": {},
   "source": [
    "#### Wrangling et sélection des variables"
   ]
  },
  {
   "cell_type": "code",
   "execution_count": 17,
   "metadata": {},
   "outputs": [
    {
     "data": {
      "text/html": [
       "<div>\n",
       "<style scoped>\n",
       "    .dataframe tbody tr th:only-of-type {\n",
       "        vertical-align: middle;\n",
       "    }\n",
       "\n",
       "    .dataframe tbody tr th {\n",
       "        vertical-align: top;\n",
       "    }\n",
       "\n",
       "    .dataframe thead th {\n",
       "        text-align: right;\n",
       "    }\n",
       "</style>\n",
       "<table border=\"1\" class=\"dataframe\">\n",
       "  <thead>\n",
       "    <tr style=\"text-align: right;\">\n",
       "      <th></th>\n",
       "      <th>ctry_cd</th>\n",
       "      <th>country</th>\n",
       "      <th>item_cd</th>\n",
       "      <th>item</th>\n",
       "      <th>origin</th>\n",
       "      <th>population</th>\n",
       "      <th>Domestic supply quantity</th>\n",
       "      <th>Export Quantity</th>\n",
       "      <th>Fat supply quantity (g/capita/day)</th>\n",
       "      <th>Feed</th>\n",
       "      <th>...</th>\n",
       "      <th>Food supply (kcal/capita/day)</th>\n",
       "      <th>Food supply quantity (kg/capita/yr)</th>\n",
       "      <th>Import Quantity</th>\n",
       "      <th>Losses</th>\n",
       "      <th>Other uses</th>\n",
       "      <th>Processing</th>\n",
       "      <th>Production</th>\n",
       "      <th>Protein supply quantity (g/capita/day)</th>\n",
       "      <th>Seed</th>\n",
       "      <th>Stock Variation</th>\n",
       "    </tr>\n",
       "  </thead>\n",
       "  <tbody>\n",
       "    <tr>\n",
       "      <th>0</th>\n",
       "      <td>1</td>\n",
       "      <td>Armenia</td>\n",
       "      <td>2511</td>\n",
       "      <td>Wheat and products</td>\n",
       "      <td>vegetal</td>\n",
       "      <td>2977000</td>\n",
       "      <td>554.0</td>\n",
       "      <td>1.0</td>\n",
       "      <td>3.6</td>\n",
       "      <td>93.0</td>\n",
       "      <td>...</td>\n",
       "      <td>1,024.0</td>\n",
       "      <td>130.6</td>\n",
       "      <td>361.0</td>\n",
       "      <td>32.0</td>\n",
       "      <td>0.0</td>\n",
       "      <td>10.0</td>\n",
       "      <td>312.0</td>\n",
       "      <td>30.5</td>\n",
       "      <td>30.0</td>\n",
       "      <td>-118.0</td>\n",
       "    </tr>\n",
       "  </tbody>\n",
       "</table>\n",
       "<p>1 rows × 21 columns</p>\n",
       "</div>"
      ],
      "text/plain": [
       "   ctry_cd  country  item_cd                item   origin  population  \\\n",
       "0        1  Armenia     2511  Wheat and products  vegetal     2977000   \n",
       "\n",
       "   Domestic supply quantity  Export Quantity  \\\n",
       "0                     554.0              1.0   \n",
       "\n",
       "   Fat supply quantity (g/capita/day)  Feed       ...         \\\n",
       "0                                 3.6  93.0       ...          \n",
       "\n",
       "   Food supply (kcal/capita/day)  Food supply quantity (kg/capita/yr)  \\\n",
       "0                        1,024.0                                130.6   \n",
       "\n",
       "   Import Quantity  Losses  Other uses  Processing  Production  \\\n",
       "0            361.0    32.0         0.0        10.0       312.0   \n",
       "\n",
       "   Protein supply quantity (g/capita/day)  Seed  Stock Variation  \n",
       "0                                    30.5  30.0           -118.0  \n",
       "\n",
       "[1 rows x 21 columns]"
      ]
     },
     "execution_count": 17,
     "metadata": {},
     "output_type": "execute_result"
    }
   ],
   "source": [
    "# Import du df du P3 ex3 'data_p3q3'\n",
    "datapc = pd.read_csv('data/data_p3q3.csv')\n",
    "datapc.head(1)"
   ]
  },
  {
   "cell_type": "code",
   "execution_count": 18,
   "metadata": {},
   "outputs": [
    {
     "data": {
      "text/html": [
       "<div>\n",
       "<style scoped>\n",
       "    .dataframe tbody tr th:only-of-type {\n",
       "        vertical-align: middle;\n",
       "    }\n",
       "\n",
       "    .dataframe tbody tr th {\n",
       "        vertical-align: top;\n",
       "    }\n",
       "\n",
       "    .dataframe thead th {\n",
       "        text-align: right;\n",
       "    }\n",
       "</style>\n",
       "<table border=\"1\" class=\"dataframe\">\n",
       "  <thead>\n",
       "    <tr style=\"text-align: right;\">\n",
       "      <th></th>\n",
       "      <th>ctry_cd</th>\n",
       "      <th>country</th>\n",
       "      <th>food_kcal_cap_day</th>\n",
       "      <th>prot_g_cap_day</th>\n",
       "    </tr>\n",
       "  </thead>\n",
       "  <tbody>\n",
       "    <tr>\n",
       "      <th>0</th>\n",
       "      <td>1</td>\n",
       "      <td>Armenia</td>\n",
       "      <td>1,024.0</td>\n",
       "      <td>30.5</td>\n",
       "    </tr>\n",
       "    <tr>\n",
       "      <th>1</th>\n",
       "      <td>1</td>\n",
       "      <td>Armenia</td>\n",
       "      <td>0.0</td>\n",
       "      <td>0.0</td>\n",
       "    </tr>\n",
       "  </tbody>\n",
       "</table>\n",
       "</div>"
      ],
      "text/plain": [
       "   ctry_cd  country  food_kcal_cap_day  prot_g_cap_day\n",
       "0        1  Armenia            1,024.0            30.5\n",
       "1        1  Armenia                0.0             0.0"
      ]
     },
     "execution_count": 18,
     "metadata": {},
     "output_type": "execute_result"
    }
   ],
   "source": [
    "# copie sélective\n",
    "dapc = datapc[['ctry_cd','country','Food supply (kcal/capita/day)','Protein supply quantity (g/capita/day)']].copy()\n",
    "# On renomme les variables\n",
    "dapc.rename(columns={'Food supply (kcal/capita/day)': 'food_kcal_cap_day',\n",
    "                     'Protein supply quantity (g/capita/day)': 'prot_g_cap_day'},\n",
    "            inplace=True)\n",
    "dapc.head(2)"
   ]
  },
  {
   "cell_type": "markdown",
   "metadata": {},
   "source": [
    "#### création du dataset 'prot_g_cap_day'"
   ]
  },
  {
   "cell_type": "code",
   "execution_count": 19,
   "metadata": {},
   "outputs": [
    {
     "data": {
      "text/html": [
       "<div>\n",
       "<style scoped>\n",
       "    .dataframe tbody tr th:only-of-type {\n",
       "        vertical-align: middle;\n",
       "    }\n",
       "\n",
       "    .dataframe tbody tr th {\n",
       "        vertical-align: top;\n",
       "    }\n",
       "\n",
       "    .dataframe thead th {\n",
       "        text-align: right;\n",
       "    }\n",
       "</style>\n",
       "<table border=\"1\" class=\"dataframe\">\n",
       "  <thead>\n",
       "    <tr style=\"text-align: right;\">\n",
       "      <th></th>\n",
       "      <th>ctry_cd</th>\n",
       "      <th>country</th>\n",
       "      <th>prot_g_cap_day</th>\n",
       "    </tr>\n",
       "  </thead>\n",
       "  <tbody>\n",
       "    <tr>\n",
       "      <th>0</th>\n",
       "      <td>1</td>\n",
       "      <td>Armenia</td>\n",
       "      <td>90.1</td>\n",
       "    </tr>\n",
       "    <tr>\n",
       "      <th>1</th>\n",
       "      <td>2</td>\n",
       "      <td>Afghanistan</td>\n",
       "      <td>58.3</td>\n",
       "    </tr>\n",
       "  </tbody>\n",
       "</table>\n",
       "</div>"
      ],
      "text/plain": [
       "   ctry_cd      country  prot_g_cap_day\n",
       "0        1      Armenia            90.1\n",
       "1        2  Afghanistan            58.3"
      ]
     },
     "execution_count": 19,
     "metadata": {},
     "output_type": "execute_result"
    }
   ],
   "source": [
    "# groupby et somme de 'Prot_g_cap_day'\n",
    "dapcprot = dapc.groupby(['ctry_cd','country']).prot_g_cap_day.sum()\n",
    "dapcprot = dapcprot.reset_index()\n",
    "dapcprot.head(2)"
   ]
  },
  {
   "cell_type": "code",
   "execution_count": 20,
   "metadata": {},
   "outputs": [
    {
     "data": {
      "text/plain": [
       "ctry_cd           174\n",
       "country           174\n",
       "prot_g_cap_day    174\n",
       "dtype: int64"
      ]
     },
     "execution_count": 20,
     "metadata": {},
     "output_type": "execute_result"
    }
   ],
   "source": [
    "dapcprot.count()"
   ]
  },
  {
   "cell_type": "markdown",
   "metadata": {},
   "source": [
    "#### Création du df disponibilité alimentaire"
   ]
  },
  {
   "cell_type": "code",
   "execution_count": 21,
   "metadata": {},
   "outputs": [
    {
     "data": {
      "text/html": [
       "<div>\n",
       "<style scoped>\n",
       "    .dataframe tbody tr th:only-of-type {\n",
       "        vertical-align: middle;\n",
       "    }\n",
       "\n",
       "    .dataframe tbody tr th {\n",
       "        vertical-align: top;\n",
       "    }\n",
       "\n",
       "    .dataframe thead th {\n",
       "        text-align: right;\n",
       "    }\n",
       "</style>\n",
       "<table border=\"1\" class=\"dataframe\">\n",
       "  <thead>\n",
       "    <tr style=\"text-align: right;\">\n",
       "      <th></th>\n",
       "      <th>ctry_cd</th>\n",
       "      <th>food_kcal_cap_day</th>\n",
       "    </tr>\n",
       "  </thead>\n",
       "  <tbody>\n",
       "    <tr>\n",
       "      <th>0</th>\n",
       "      <td>1</td>\n",
       "      <td>2,924.0</td>\n",
       "    </tr>\n",
       "    <tr>\n",
       "      <th>1</th>\n",
       "      <td>2</td>\n",
       "      <td>2,087.0</td>\n",
       "    </tr>\n",
       "  </tbody>\n",
       "</table>\n",
       "</div>"
      ],
      "text/plain": [
       "   ctry_cd  food_kcal_cap_day\n",
       "0        1            2,924.0\n",
       "1        2            2,087.0"
      ]
     },
     "execution_count": 21,
     "metadata": {},
     "output_type": "execute_result"
    }
   ],
   "source": [
    "# groupby et somme de 'food_kcal_cap_day'\n",
    "dapckcal = dapc.groupby(['ctry_cd']).food_kcal_cap_day.sum()\n",
    "dapckcal = dapckcal.reset_index()\n",
    "dapckcal.head(2)"
   ]
  },
  {
   "cell_type": "code",
   "execution_count": 22,
   "metadata": {},
   "outputs": [
    {
     "data": {
      "text/plain": [
       "ctry_cd              174\n",
       "food_kcal_cap_day    174\n",
       "dtype: int64"
      ]
     },
     "execution_count": 22,
     "metadata": {},
     "output_type": "execute_result"
    }
   ],
   "source": [
    "dapckcal.count()"
   ]
  },
  {
   "cell_type": "code",
   "execution_count": 23,
   "metadata": {},
   "outputs": [
    {
     "data": {
      "text/html": [
       "<div>\n",
       "<style scoped>\n",
       "    .dataframe tbody tr th:only-of-type {\n",
       "        vertical-align: middle;\n",
       "    }\n",
       "\n",
       "    .dataframe tbody tr th {\n",
       "        vertical-align: top;\n",
       "    }\n",
       "\n",
       "    .dataframe thead th {\n",
       "        text-align: right;\n",
       "    }\n",
       "</style>\n",
       "<table border=\"1\" class=\"dataframe\">\n",
       "  <thead>\n",
       "    <tr style=\"text-align: right;\">\n",
       "      <th></th>\n",
       "      <th>ctry_cd</th>\n",
       "      <th>country</th>\n",
       "      <th>prot_g_cap_day</th>\n",
       "      <th>food_kcal_cap_day</th>\n",
       "    </tr>\n",
       "  </thead>\n",
       "  <tbody>\n",
       "    <tr>\n",
       "      <th>0</th>\n",
       "      <td>1</td>\n",
       "      <td>Armenia</td>\n",
       "      <td>90.1</td>\n",
       "      <td>2,924.0</td>\n",
       "    </tr>\n",
       "    <tr>\n",
       "      <th>1</th>\n",
       "      <td>2</td>\n",
       "      <td>Afghanistan</td>\n",
       "      <td>58.3</td>\n",
       "      <td>2,087.0</td>\n",
       "    </tr>\n",
       "  </tbody>\n",
       "</table>\n",
       "</div>"
      ],
      "text/plain": [
       "   ctry_cd      country  prot_g_cap_day  food_kcal_cap_day\n",
       "0        1      Armenia            90.1            2,924.0\n",
       "1        2  Afghanistan            58.3            2,087.0"
      ]
     },
     "execution_count": 23,
     "metadata": {},
     "output_type": "execute_result"
    }
   ],
   "source": [
    "# merge de dapcprot et dapckcal  \n",
    "dispalim = pd.merge(dapcprot,dapckcal, on=['ctry_cd'], how='outer')\n",
    "dispalim.head(2)"
   ]
  },
  {
   "cell_type": "code",
   "execution_count": 24,
   "metadata": {},
   "outputs": [
    {
     "data": {
      "text/plain": [
       "ctry_cd              174\n",
       "country              174\n",
       "prot_g_cap_day       174\n",
       "food_kcal_cap_day    174\n",
       "dtype: int64"
      ]
     },
     "execution_count": 24,
     "metadata": {},
     "output_type": "execute_result"
    }
   ],
   "source": [
    "dispalim.count()"
   ]
  },
  {
   "cell_type": "markdown",
   "metadata": {},
   "source": [
    "### Consolidation des tables et export"
   ]
  },
  {
   "cell_type": "markdown",
   "metadata": {},
   "source": [
    "#### Rappel des df population, protani et dsiponibilité alimentaire"
   ]
  },
  {
   "cell_type": "code",
   "execution_count": 25,
   "metadata": {},
   "outputs": [
    {
     "data": {
      "text/html": [
       "<div>\n",
       "<style scoped>\n",
       "    .dataframe tbody tr th:only-of-type {\n",
       "        vertical-align: middle;\n",
       "    }\n",
       "\n",
       "    .dataframe tbody tr th {\n",
       "        vertical-align: top;\n",
       "    }\n",
       "\n",
       "    .dataframe thead th {\n",
       "        text-align: right;\n",
       "    }\n",
       "</style>\n",
       "<table border=\"1\" class=\"dataframe\">\n",
       "  <thead>\n",
       "    <tr style=\"text-align: right;\">\n",
       "      <th></th>\n",
       "      <th>ctry_cd</th>\n",
       "      <th>country</th>\n",
       "      <th>pop_2013</th>\n",
       "      <th>pop_var</th>\n",
       "    </tr>\n",
       "  </thead>\n",
       "  <tbody>\n",
       "    <tr>\n",
       "      <th>0</th>\n",
       "      <td>1</td>\n",
       "      <td>Armenia</td>\n",
       "      <td>3.0</td>\n",
       "      <td>100.0</td>\n",
       "    </tr>\n",
       "  </tbody>\n",
       "</table>\n",
       "</div>"
      ],
      "text/plain": [
       "   ctry_cd  country  pop_2013  pop_var\n",
       "0        1  Armenia       3.0    100.0"
      ]
     },
     "execution_count": 25,
     "metadata": {},
     "output_type": "execute_result"
    }
   ],
   "source": [
    "# population 1.1\n",
    "deltpop.head(1)"
   ]
  },
  {
   "cell_type": "code",
   "execution_count": 26,
   "metadata": {},
   "outputs": [
    {
     "data": {
      "text/plain": [
       "ctry_cd     173\n",
       "country     173\n",
       "pop_2013    173\n",
       "pop_var     173\n",
       "dtype: int64"
      ]
     },
     "execution_count": 26,
     "metadata": {},
     "output_type": "execute_result"
    }
   ],
   "source": [
    "deltpop.count()"
   ]
  },
  {
   "cell_type": "code",
   "execution_count": 27,
   "metadata": {},
   "outputs": [
    {
     "data": {
      "text/html": [
       "<div>\n",
       "<style scoped>\n",
       "    .dataframe tbody tr th:only-of-type {\n",
       "        vertical-align: middle;\n",
       "    }\n",
       "\n",
       "    .dataframe tbody tr th {\n",
       "        vertical-align: top;\n",
       "    }\n",
       "\n",
       "    .dataframe thead th {\n",
       "        text-align: right;\n",
       "    }\n",
       "</style>\n",
       "<table border=\"1\" class=\"dataframe\">\n",
       "  <thead>\n",
       "    <tr style=\"text-align: right;\">\n",
       "      <th></th>\n",
       "      <th>ctry_cd</th>\n",
       "      <th>prot_ani_ratio</th>\n",
       "      <th>country</th>\n",
       "    </tr>\n",
       "  </thead>\n",
       "  <tbody>\n",
       "    <tr>\n",
       "      <th>0</th>\n",
       "      <td>1</td>\n",
       "      <td>48.0</td>\n",
       "      <td>Armenia</td>\n",
       "    </tr>\n",
       "    <tr>\n",
       "      <th>1</th>\n",
       "      <td>2</td>\n",
       "      <td>21.0</td>\n",
       "      <td>Afghanistan</td>\n",
       "    </tr>\n",
       "  </tbody>\n",
       "</table>\n",
       "</div>"
      ],
      "text/plain": [
       "   ctry_cd  prot_ani_ratio      country\n",
       "0        1            48.0      Armenia\n",
       "1        2            21.0  Afghanistan"
      ]
     },
     "execution_count": 27,
     "metadata": {},
     "output_type": "execute_result"
    }
   ],
   "source": [
    "# ratio prot amimales\n",
    "aniratio.head(2)"
   ]
  },
  {
   "cell_type": "code",
   "execution_count": 28,
   "metadata": {},
   "outputs": [
    {
     "data": {
      "text/plain": [
       "ctry_cd           174\n",
       "prot_ani_ratio    174\n",
       "country           173\n",
       "dtype: int64"
      ]
     },
     "execution_count": 28,
     "metadata": {},
     "output_type": "execute_result"
    }
   ],
   "source": [
    "aniratio.count()"
   ]
  },
  {
   "cell_type": "code",
   "execution_count": 29,
   "metadata": {},
   "outputs": [
    {
     "data": {
      "text/html": [
       "<div>\n",
       "<style scoped>\n",
       "    .dataframe tbody tr th:only-of-type {\n",
       "        vertical-align: middle;\n",
       "    }\n",
       "\n",
       "    .dataframe tbody tr th {\n",
       "        vertical-align: top;\n",
       "    }\n",
       "\n",
       "    .dataframe thead th {\n",
       "        text-align: right;\n",
       "    }\n",
       "</style>\n",
       "<table border=\"1\" class=\"dataframe\">\n",
       "  <thead>\n",
       "    <tr style=\"text-align: right;\">\n",
       "      <th></th>\n",
       "      <th>ctry_cd</th>\n",
       "      <th>country</th>\n",
       "      <th>prot_g_cap_day</th>\n",
       "      <th>food_kcal_cap_day</th>\n",
       "    </tr>\n",
       "  </thead>\n",
       "  <tbody>\n",
       "    <tr>\n",
       "      <th>0</th>\n",
       "      <td>1</td>\n",
       "      <td>Armenia</td>\n",
       "      <td>90.1</td>\n",
       "      <td>2,924.0</td>\n",
       "    </tr>\n",
       "  </tbody>\n",
       "</table>\n",
       "</div>"
      ],
      "text/plain": [
       "   ctry_cd  country  prot_g_cap_day  food_kcal_cap_day\n",
       "0        1  Armenia            90.1            2,924.0"
      ]
     },
     "execution_count": 29,
     "metadata": {},
     "output_type": "execute_result"
    }
   ],
   "source": [
    "# disponibilité alimentaire en prot/g/cap/day et en kcal/cap/day\n",
    "dispalim.head(1)"
   ]
  },
  {
   "cell_type": "code",
   "execution_count": 30,
   "metadata": {},
   "outputs": [
    {
     "data": {
      "text/plain": [
       "ctry_cd              174\n",
       "country              174\n",
       "prot_g_cap_day       174\n",
       "food_kcal_cap_day    174\n",
       "dtype: int64"
      ]
     },
     "execution_count": 30,
     "metadata": {},
     "output_type": "execute_result"
    }
   ],
   "source": [
    "dispalim.count()"
   ]
  },
  {
   "cell_type": "markdown",
   "metadata": {},
   "source": [
    "#### Merge des 3 df"
   ]
  },
  {
   "cell_type": "code",
   "execution_count": 31,
   "metadata": {},
   "outputs": [
    {
     "data": {
      "text/html": [
       "<div>\n",
       "<style scoped>\n",
       "    .dataframe tbody tr th:only-of-type {\n",
       "        vertical-align: middle;\n",
       "    }\n",
       "\n",
       "    .dataframe tbody tr th {\n",
       "        vertical-align: top;\n",
       "    }\n",
       "\n",
       "    .dataframe thead th {\n",
       "        text-align: right;\n",
       "    }\n",
       "</style>\n",
       "<table border=\"1\" class=\"dataframe\">\n",
       "  <thead>\n",
       "    <tr style=\"text-align: right;\">\n",
       "      <th></th>\n",
       "      <th>ctry_cd</th>\n",
       "      <th>country</th>\n",
       "      <th>pop_2013</th>\n",
       "      <th>pop_var</th>\n",
       "      <th>prot_ani_ratio</th>\n",
       "      <th>prot_g_cap_day</th>\n",
       "      <th>food_kcal_cap_day</th>\n",
       "    </tr>\n",
       "  </thead>\n",
       "  <tbody>\n",
       "    <tr>\n",
       "      <th>0</th>\n",
       "      <td>1</td>\n",
       "      <td>Armenia</td>\n",
       "      <td>3.0</td>\n",
       "      <td>100.0</td>\n",
       "      <td>48.0</td>\n",
       "      <td>90.1</td>\n",
       "      <td>2,924.0</td>\n",
       "    </tr>\n",
       "    <tr>\n",
       "      <th>1</th>\n",
       "      <td>2</td>\n",
       "      <td>Afghanistan</td>\n",
       "      <td>30.6</td>\n",
       "      <td>113.0</td>\n",
       "      <td>21.0</td>\n",
       "      <td>58.3</td>\n",
       "      <td>2,087.0</td>\n",
       "    </tr>\n",
       "  </tbody>\n",
       "</table>\n",
       "</div>"
      ],
      "text/plain": [
       "   ctry_cd      country  pop_2013  pop_var  prot_ani_ratio  prot_g_cap_day  \\\n",
       "0        1      Armenia       3.0    100.0            48.0            90.1   \n",
       "1        2  Afghanistan      30.6    113.0            21.0            58.3   \n",
       "\n",
       "   food_kcal_cap_day  \n",
       "0            2,924.0  \n",
       "1            2,087.0  "
      ]
     },
     "execution_count": 31,
     "metadata": {},
     "output_type": "execute_result"
    }
   ],
   "source": [
    "# méthode de groupement rapide trouvé ici : \n",
    "# https://stackoverflow.com/questions/23668427/pandas-three-way-joining-multiple-dataframes-on-columns\n",
    "from functools import reduce\n",
    "dfs = [deltpop, aniratio, dispalim]\n",
    "dfmini = reduce(lambda left,right: pd.merge(left,right,on=['ctry_cd','country'], how='outer'), dfs)\n",
    "dfmini.reset_index()\n",
    "dfmini.head(2)"
   ]
  },
  {
   "cell_type": "code",
   "execution_count": 32,
   "metadata": {},
   "outputs": [
    {
     "data": {
      "text/html": [
       "<div>\n",
       "<style scoped>\n",
       "    .dataframe tbody tr th:only-of-type {\n",
       "        vertical-align: middle;\n",
       "    }\n",
       "\n",
       "    .dataframe tbody tr th {\n",
       "        vertical-align: top;\n",
       "    }\n",
       "\n",
       "    .dataframe thead th {\n",
       "        text-align: right;\n",
       "    }\n",
       "</style>\n",
       "<table border=\"1\" class=\"dataframe\">\n",
       "  <thead>\n",
       "    <tr style=\"text-align: right;\">\n",
       "      <th></th>\n",
       "      <th>ctry_cd</th>\n",
       "      <th>country</th>\n",
       "      <th>pop_2013</th>\n",
       "      <th>pop_var</th>\n",
       "      <th>prot_ani_ratio</th>\n",
       "      <th>prot_g_cap_day</th>\n",
       "      <th>food_kcal_cap_day</th>\n",
       "    </tr>\n",
       "  </thead>\n",
       "  <tbody>\n",
       "    <tr>\n",
       "      <th>109</th>\n",
       "      <td>154</td>\n",
       "      <td>North Macedonia</td>\n",
       "      <td>2.1</td>\n",
       "      <td>100.4</td>\n",
       "      <td>41.2</td>\n",
       "      <td>nan</td>\n",
       "      <td>nan</td>\n",
       "    </tr>\n",
       "    <tr>\n",
       "      <th>173</th>\n",
       "      <td>276</td>\n",
       "      <td>NaN</td>\n",
       "      <td>nan</td>\n",
       "      <td>nan</td>\n",
       "      <td>41.3</td>\n",
       "      <td>nan</td>\n",
       "      <td>nan</td>\n",
       "    </tr>\n",
       "    <tr>\n",
       "      <th>174</th>\n",
       "      <td>154</td>\n",
       "      <td>The former Yugoslav Republic of Macedonia</td>\n",
       "      <td>nan</td>\n",
       "      <td>nan</td>\n",
       "      <td>nan</td>\n",
       "      <td>78.4</td>\n",
       "      <td>2,946.0</td>\n",
       "    </tr>\n",
       "    <tr>\n",
       "      <th>175</th>\n",
       "      <td>276</td>\n",
       "      <td>Sudan</td>\n",
       "      <td>nan</td>\n",
       "      <td>nan</td>\n",
       "      <td>nan</td>\n",
       "      <td>70.7</td>\n",
       "      <td>2,335.0</td>\n",
       "    </tr>\n",
       "  </tbody>\n",
       "</table>\n",
       "</div>"
      ],
      "text/plain": [
       "     ctry_cd                                    country  pop_2013  pop_var  \\\n",
       "109      154                            North Macedonia       2.1    100.4   \n",
       "173      276                                        NaN       nan      nan   \n",
       "174      154  The former Yugoslav Republic of Macedonia       nan      nan   \n",
       "175      276                                      Sudan       nan      nan   \n",
       "\n",
       "     prot_ani_ratio  prot_g_cap_day  food_kcal_cap_day  \n",
       "109            41.2             nan                nan  \n",
       "173            41.3             nan                nan  \n",
       "174             nan            78.4            2,946.0  \n",
       "175             nan            70.7            2,335.0  "
      ]
     },
     "execution_count": 32,
     "metadata": {},
     "output_type": "execute_result"
    }
   ],
   "source": [
    "# recherche de NaN\n",
    "na1 = dfmini[dfmini.isnull().any(axis=1)]\n",
    "na1"
   ]
  },
  {
   "cell_type": "code",
   "execution_count": 33,
   "metadata": {},
   "outputs": [
    {
     "data": {
      "text/html": [
       "<div>\n",
       "<style scoped>\n",
       "    .dataframe tbody tr th:only-of-type {\n",
       "        vertical-align: middle;\n",
       "    }\n",
       "\n",
       "    .dataframe tbody tr th {\n",
       "        vertical-align: top;\n",
       "    }\n",
       "\n",
       "    .dataframe thead th {\n",
       "        text-align: right;\n",
       "    }\n",
       "</style>\n",
       "<table border=\"1\" class=\"dataframe\">\n",
       "  <thead>\n",
       "    <tr style=\"text-align: right;\">\n",
       "      <th></th>\n",
       "      <th>ctry_cd</th>\n",
       "      <th>country</th>\n",
       "      <th>pop_2013</th>\n",
       "      <th>pop_var</th>\n",
       "      <th>prot_ani_ratio</th>\n",
       "      <th>prot_g_cap_day</th>\n",
       "      <th>food_kcal_cap_day</th>\n",
       "    </tr>\n",
       "  </thead>\n",
       "  <tbody>\n",
       "    <tr>\n",
       "      <th>109</th>\n",
       "      <td>154</td>\n",
       "      <td>North Macedonia</td>\n",
       "      <td>2.1</td>\n",
       "      <td>100.4</td>\n",
       "      <td>41.2</td>\n",
       "      <td>nan</td>\n",
       "      <td>nan</td>\n",
       "    </tr>\n",
       "    <tr>\n",
       "      <th>174</th>\n",
       "      <td>154</td>\n",
       "      <td>The former Yugoslav Republic of Macedonia</td>\n",
       "      <td>nan</td>\n",
       "      <td>nan</td>\n",
       "      <td>nan</td>\n",
       "      <td>78.4</td>\n",
       "      <td>2,946.0</td>\n",
       "    </tr>\n",
       "    <tr>\n",
       "      <th>175</th>\n",
       "      <td>276</td>\n",
       "      <td>Sudan</td>\n",
       "      <td>nan</td>\n",
       "      <td>nan</td>\n",
       "      <td>nan</td>\n",
       "      <td>70.7</td>\n",
       "      <td>2,335.0</td>\n",
       "    </tr>\n",
       "  </tbody>\n",
       "</table>\n",
       "</div>"
      ],
      "text/plain": [
       "     ctry_cd                                    country  pop_2013  pop_var  \\\n",
       "109      154                            North Macedonia       2.1    100.4   \n",
       "174      154  The former Yugoslav Republic of Macedonia       nan      nan   \n",
       "175      276                                      Sudan       nan      nan   \n",
       "\n",
       "     prot_ani_ratio  prot_g_cap_day  food_kcal_cap_day  \n",
       "109            41.2             nan                nan  \n",
       "174             nan            78.4            2,946.0  \n",
       "175             nan            70.7            2,335.0  "
      ]
     },
     "execution_count": 33,
     "metadata": {},
     "output_type": "execute_result"
    }
   ],
   "source": [
    "# retrait du NaN col country\n",
    "dfmini = dfmini[dfmini['country'].notnull()]\n",
    "\n",
    "na2 = dfmini[dfmini.isnull().any(axis=1)]\n",
    "na2"
   ]
  },
  {
   "cell_type": "code",
   "execution_count": 34,
   "metadata": {},
   "outputs": [
    {
     "data": {
      "text/html": [
       "<div>\n",
       "<style scoped>\n",
       "    .dataframe tbody tr th:only-of-type {\n",
       "        vertical-align: middle;\n",
       "    }\n",
       "\n",
       "    .dataframe tbody tr th {\n",
       "        vertical-align: top;\n",
       "    }\n",
       "\n",
       "    .dataframe thead th {\n",
       "        text-align: right;\n",
       "    }\n",
       "</style>\n",
       "<table border=\"1\" class=\"dataframe\">\n",
       "  <thead>\n",
       "    <tr style=\"text-align: right;\">\n",
       "      <th></th>\n",
       "      <th>ctry_cd</th>\n",
       "      <th>country</th>\n",
       "      <th>pop_2013</th>\n",
       "      <th>pop_var</th>\n",
       "      <th>prot_ani_ratio</th>\n",
       "      <th>prot_g_cap_day</th>\n",
       "      <th>food_kcal_cap_day</th>\n",
       "    </tr>\n",
       "  </thead>\n",
       "  <tbody>\n",
       "    <tr>\n",
       "      <th>0</th>\n",
       "      <td>1</td>\n",
       "      <td>Armenia</td>\n",
       "      <td>3.0</td>\n",
       "      <td>100.0</td>\n",
       "      <td>48.0</td>\n",
       "      <td>90.1</td>\n",
       "      <td>2,924.0</td>\n",
       "    </tr>\n",
       "    <tr>\n",
       "      <th>1</th>\n",
       "      <td>2</td>\n",
       "      <td>Afghanistan</td>\n",
       "      <td>30.6</td>\n",
       "      <td>113.0</td>\n",
       "      <td>21.0</td>\n",
       "      <td>58.3</td>\n",
       "      <td>2,087.0</td>\n",
       "    </tr>\n",
       "  </tbody>\n",
       "</table>\n",
       "</div>"
      ],
      "text/plain": [
       "   ctry_cd      country  pop_2013  pop_var  prot_ani_ratio  prot_g_cap_day  \\\n",
       "0        1      Armenia       3.0    100.0            48.0            90.1   \n",
       "1        2  Afghanistan      30.6    113.0            21.0            58.3   \n",
       "\n",
       "   food_kcal_cap_day  \n",
       "0            2,924.0  \n",
       "1            2,087.0  "
      ]
     },
     "execution_count": 34,
     "metadata": {},
     "output_type": "execute_result"
    }
   ],
   "source": [
    "# remplacement du NaN 'prot_g_cap_day' de North Macedonia par '78.370'\n",
    "dfmini['prot_g_cap_day']= dfmini['prot_g_cap_day'].fillna(78.370)\n",
    "\n",
    "# remplacement du NaN 'food_kcal_cap_day' de North Macedonia par '2,946.000'\n",
    "dfmini['food_kcal_cap_day']= dfmini['food_kcal_cap_day'].fillna(2946)\n",
    "\n",
    "# supression du NaN restant 'Sudan'\n",
    "dfmini = dfmini.dropna()\n",
    "dfmini.head(2)"
   ]
  },
  {
   "cell_type": "code",
   "execution_count": 35,
   "metadata": {},
   "outputs": [
    {
     "data": {
      "text/plain": [
       "ctry_cd              173\n",
       "country              173\n",
       "pop_2013             173\n",
       "pop_var              173\n",
       "prot_ani_ratio       173\n",
       "prot_g_cap_day       173\n",
       "food_kcal_cap_day    173\n",
       "dtype: int64"
      ]
     },
     "execution_count": 35,
     "metadata": {},
     "output_type": "execute_result"
    }
   ],
   "source": [
    "dfmini.count()"
   ]
  },
  {
   "cell_type": "code",
   "execution_count": 36,
   "metadata": {},
   "outputs": [
    {
     "data": {
      "text/html": [
       "<div>\n",
       "<style scoped>\n",
       "    .dataframe tbody tr th:only-of-type {\n",
       "        vertical-align: middle;\n",
       "    }\n",
       "\n",
       "    .dataframe tbody tr th {\n",
       "        vertical-align: top;\n",
       "    }\n",
       "\n",
       "    .dataframe thead th {\n",
       "        text-align: right;\n",
       "    }\n",
       "</style>\n",
       "<table border=\"1\" class=\"dataframe\">\n",
       "  <thead>\n",
       "    <tr style=\"text-align: right;\">\n",
       "      <th></th>\n",
       "      <th>pop_2013</th>\n",
       "      <th>pop_var</th>\n",
       "      <th>prot_ani_ratio</th>\n",
       "      <th>prot_g_cap_day</th>\n",
       "      <th>food_kcal_cap_day</th>\n",
       "    </tr>\n",
       "    <tr>\n",
       "      <th>country</th>\n",
       "      <th></th>\n",
       "      <th></th>\n",
       "      <th></th>\n",
       "      <th></th>\n",
       "      <th></th>\n",
       "    </tr>\n",
       "  </thead>\n",
       "  <tbody>\n",
       "    <tr>\n",
       "      <th>Armenia</th>\n",
       "      <td>3.0</td>\n",
       "      <td>100.0</td>\n",
       "      <td>48.0</td>\n",
       "      <td>90.1</td>\n",
       "      <td>2,924.0</td>\n",
       "    </tr>\n",
       "    <tr>\n",
       "      <th>Afghanistan</th>\n",
       "      <td>30.6</td>\n",
       "      <td>113.0</td>\n",
       "      <td>21.0</td>\n",
       "      <td>58.3</td>\n",
       "      <td>2,087.0</td>\n",
       "    </tr>\n",
       "  </tbody>\n",
       "</table>\n",
       "</div>"
      ],
      "text/plain": [
       "             pop_2013  pop_var  prot_ani_ratio  prot_g_cap_day  \\\n",
       "country                                                          \n",
       "Armenia           3.0    100.0            48.0            90.1   \n",
       "Afghanistan      30.6    113.0            21.0            58.3   \n",
       "\n",
       "             food_kcal_cap_day  \n",
       "country                         \n",
       "Armenia                2,924.0  \n",
       "Afghanistan            2,087.0  "
      ]
     },
     "execution_count": 36,
     "metadata": {},
     "output_type": "execute_result"
    }
   ],
   "source": [
    "df_mini = dfmini.copy()\n",
    "\n",
    "# prépa du df minimum demandé dans l'énoncé (je garde pop_2013)\n",
    "df_mini.drop(['ctry_cd'], axis=1, inplace = True)\n",
    "# indexation sur 'country'\n",
    "df_mini.index = df_mini.country\n",
    "df_mini = df_mini.drop('country', 1);\n",
    "df_mini.head(2)"
   ]
  },
  {
   "cell_type": "code",
   "execution_count": 37,
   "metadata": {},
   "outputs": [
    {
     "data": {
      "text/html": [
       "<div>\n",
       "<style scoped>\n",
       "    .dataframe tbody tr th:only-of-type {\n",
       "        vertical-align: middle;\n",
       "    }\n",
       "\n",
       "    .dataframe tbody tr th {\n",
       "        vertical-align: top;\n",
       "    }\n",
       "\n",
       "    .dataframe thead th {\n",
       "        text-align: right;\n",
       "    }\n",
       "</style>\n",
       "<table border=\"1\" class=\"dataframe\">\n",
       "  <thead>\n",
       "    <tr style=\"text-align: right;\">\n",
       "      <th></th>\n",
       "      <th>pop_2013</th>\n",
       "      <th>pop_var</th>\n",
       "      <th>prot_ani_ratio</th>\n",
       "      <th>prot_g_cap_day</th>\n",
       "      <th>food_kcal_cap_day</th>\n",
       "    </tr>\n",
       "  </thead>\n",
       "  <tbody>\n",
       "    <tr>\n",
       "      <th>count</th>\n",
       "      <td>173.0</td>\n",
       "      <td>173.0</td>\n",
       "      <td>173.0</td>\n",
       "      <td>173.0</td>\n",
       "      <td>173.0</td>\n",
       "    </tr>\n",
       "    <tr>\n",
       "      <th>mean</th>\n",
       "      <td>40.2</td>\n",
       "      <td>107.2</td>\n",
       "      <td>42.8</td>\n",
       "      <td>81.4</td>\n",
       "      <td>2,850.3</td>\n",
       "    </tr>\n",
       "    <tr>\n",
       "      <th>std</th>\n",
       "      <td>146.0</td>\n",
       "      <td>6.7</td>\n",
       "      <td>16.2</td>\n",
       "      <td>20.0</td>\n",
       "      <td>438.1</td>\n",
       "    </tr>\n",
       "    <tr>\n",
       "      <th>min</th>\n",
       "      <td>0.1</td>\n",
       "      <td>95.9</td>\n",
       "      <td>9.8</td>\n",
       "      <td>37.7</td>\n",
       "      <td>1,879.0</td>\n",
       "    </tr>\n",
       "    <tr>\n",
       "      <th>25%</th>\n",
       "      <td>2.3</td>\n",
       "      <td>102.7</td>\n",
       "      <td>28.5</td>\n",
       "      <td>64.3</td>\n",
       "      <td>2,537.0</td>\n",
       "    </tr>\n",
       "    <tr>\n",
       "      <th>50%</th>\n",
       "      <td>9.4</td>\n",
       "      <td>106.5</td>\n",
       "      <td>45.1</td>\n",
       "      <td>81.6</td>\n",
       "      <td>2,833.0</td>\n",
       "    </tr>\n",
       "    <tr>\n",
       "      <th>75%</th>\n",
       "      <td>27.8</td>\n",
       "      <td>110.7</td>\n",
       "      <td>56.5</td>\n",
       "      <td>95.0</td>\n",
       "      <td>3,188.0</td>\n",
       "    </tr>\n",
       "    <tr>\n",
       "      <th>max</th>\n",
       "      <td>1,385.6</td>\n",
       "      <td>140.0</td>\n",
       "      <td>73.1</td>\n",
       "      <td>133.1</td>\n",
       "      <td>3,770.0</td>\n",
       "    </tr>\n",
       "  </tbody>\n",
       "</table>\n",
       "</div>"
      ],
      "text/plain": [
       "       pop_2013  pop_var  prot_ani_ratio  prot_g_cap_day  food_kcal_cap_day\n",
       "count     173.0    173.0           173.0           173.0              173.0\n",
       "mean       40.2    107.2            42.8            81.4            2,850.3\n",
       "std       146.0      6.7            16.2            20.0              438.1\n",
       "min         0.1     95.9             9.8            37.7            1,879.0\n",
       "25%         2.3    102.7            28.5            64.3            2,537.0\n",
       "50%         9.4    106.5            45.1            81.6            2,833.0\n",
       "75%        27.8    110.7            56.5            95.0            3,188.0\n",
       "max     1,385.6    140.0            73.1           133.1            3,770.0"
      ]
     },
     "execution_count": 37,
     "metadata": {},
     "output_type": "execute_result"
    }
   ],
   "source": [
    "df_mini.describe()"
   ]
  },
  {
   "cell_type": "code",
   "execution_count": 38,
   "metadata": {},
   "outputs": [],
   "source": [
    "df_mini.to_csv('data/df_mini.csv')"
   ]
  },
  {
   "cell_type": "markdown",
   "metadata": {},
   "source": [
    "## Ajout de variables personnelles"
   ]
  },
  {
   "cell_type": "markdown",
   "metadata": {},
   "source": [
    "### GDP per cap 2013' et GDP ratio 2008-2013"
   ]
  },
  {
   "cell_type": "code",
   "execution_count": 39,
   "metadata": {},
   "outputs": [
    {
     "data": {
      "text/html": [
       "<div>\n",
       "<style scoped>\n",
       "    .dataframe tbody tr th:only-of-type {\n",
       "        vertical-align: middle;\n",
       "    }\n",
       "\n",
       "    .dataframe tbody tr th {\n",
       "        vertical-align: top;\n",
       "    }\n",
       "\n",
       "    .dataframe thead th {\n",
       "        text-align: right;\n",
       "    }\n",
       "</style>\n",
       "<table border=\"1\" class=\"dataframe\">\n",
       "  <thead>\n",
       "    <tr style=\"text-align: right;\">\n",
       "      <th></th>\n",
       "      <th>Domain Code</th>\n",
       "      <th>Domain</th>\n",
       "      <th>Area Code</th>\n",
       "      <th>Area</th>\n",
       "      <th>Element Code</th>\n",
       "      <th>Element</th>\n",
       "      <th>Item Code</th>\n",
       "      <th>Item</th>\n",
       "      <th>Year Code</th>\n",
       "      <th>Year</th>\n",
       "      <th>Unit</th>\n",
       "      <th>Value</th>\n",
       "      <th>Flag</th>\n",
       "      <th>Flag Description</th>\n",
       "      <th>Note</th>\n",
       "    </tr>\n",
       "  </thead>\n",
       "  <tbody>\n",
       "    <tr>\n",
       "      <th>0</th>\n",
       "      <td>MK</td>\n",
       "      <td>Macro Indicators</td>\n",
       "      <td>2</td>\n",
       "      <td>Afghanistan</td>\n",
       "      <td>6119</td>\n",
       "      <td>Value US$</td>\n",
       "      <td>22014</td>\n",
       "      <td>Gross Domestic Product per capita</td>\n",
       "      <td>2008</td>\n",
       "      <td>2008</td>\n",
       "      <td>nan</td>\n",
       "      <td>394.5</td>\n",
       "      <td>Fc</td>\n",
       "      <td>Calculated data</td>\n",
       "      <td>nan</td>\n",
       "    </tr>\n",
       "  </tbody>\n",
       "</table>\n",
       "</div>"
      ],
      "text/plain": [
       "  Domain Code            Domain  Area Code         Area  Element Code  \\\n",
       "0          MK  Macro Indicators          2  Afghanistan          6119   \n",
       "\n",
       "     Element  Item Code                               Item  Year Code  Year  \\\n",
       "0  Value US$      22014  Gross Domestic Product per capita       2008  2008   \n",
       "\n",
       "   Unit  Value Flag Flag Description  Note  \n",
       "0   nan  394.5   Fc  Calculated data   nan  "
      ]
     },
     "execution_count": 39,
     "metadata": {},
     "output_type": "execute_result"
    }
   ],
   "source": [
    "# Import des données 'gdp_cap_dollars_2008_2013'\n",
    "gdpratio = pd.read_csv('data/gdp_cap_dollars_2008_2013.csv')\n",
    "gdpratio.head(1)"
   ]
  },
  {
   "cell_type": "code",
   "execution_count": 40,
   "metadata": {
    "scrolled": true
   },
   "outputs": [
    {
     "data": {
      "text/html": [
       "<div>\n",
       "<style scoped>\n",
       "    .dataframe tbody tr th:only-of-type {\n",
       "        vertical-align: middle;\n",
       "    }\n",
       "\n",
       "    .dataframe tbody tr th {\n",
       "        vertical-align: top;\n",
       "    }\n",
       "\n",
       "    .dataframe thead th {\n",
       "        text-align: right;\n",
       "    }\n",
       "</style>\n",
       "<table border=\"1\" class=\"dataframe\">\n",
       "  <thead>\n",
       "    <tr style=\"text-align: right;\">\n",
       "      <th></th>\n",
       "      <th>ctry_cd</th>\n",
       "      <th>country</th>\n",
       "      <th>gdp_2008</th>\n",
       "      <th>gdp_2013</th>\n",
       "    </tr>\n",
       "  </thead>\n",
       "  <tbody>\n",
       "    <tr>\n",
       "      <th>0</th>\n",
       "      <td>1</td>\n",
       "      <td>Armenia</td>\n",
       "      <td>4,276.4</td>\n",
       "      <td>3,843.6</td>\n",
       "    </tr>\n",
       "    <tr>\n",
       "      <th>1</th>\n",
       "      <td>2</td>\n",
       "      <td>Afghanistan</td>\n",
       "      <td>394.5</td>\n",
       "      <td>681.0</td>\n",
       "    </tr>\n",
       "  </tbody>\n",
       "</table>\n",
       "</div>"
      ],
      "text/plain": [
       "   ctry_cd      country  gdp_2008  gdp_2013\n",
       "0        1      Armenia   4,276.4   3,843.6\n",
       "1        2  Afghanistan     394.5     681.0"
      ]
     },
     "execution_count": 40,
     "metadata": {},
     "output_type": "execute_result"
    }
   ],
   "source": [
    "gdpratio = gdpratio[['Area Code','Area','Year','Value']]\n",
    "# On renomme les variables de 'imp'\n",
    "gdpratio.columns = ['ctry_cd','country','year','gdp_cap']\n",
    "\n",
    "# pivot sur 'year'\n",
    "gdp = gdpratio.pivot_table(\n",
    "    index=['ctry_cd','country'],\n",
    "    columns = ['year'], values=['gdp_cap'], aggfunc=sum)\n",
    "gdp.columns = ['gdp_2008', 'gdp_2013']\n",
    "gdp = gdp.reset_index()\n",
    "gdp.head(2)"
   ]
  },
  {
   "cell_type": "code",
   "execution_count": 41,
   "metadata": {},
   "outputs": [
    {
     "data": {
      "text/html": [
       "<div>\n",
       "<style scoped>\n",
       "    .dataframe tbody tr th:only-of-type {\n",
       "        vertical-align: middle;\n",
       "    }\n",
       "\n",
       "    .dataframe tbody tr th {\n",
       "        vertical-align: top;\n",
       "    }\n",
       "\n",
       "    .dataframe thead th {\n",
       "        text-align: right;\n",
       "    }\n",
       "</style>\n",
       "<table border=\"1\" class=\"dataframe\">\n",
       "  <thead>\n",
       "    <tr style=\"text-align: right;\">\n",
       "      <th></th>\n",
       "      <th>ctry_cd</th>\n",
       "      <th>country</th>\n",
       "      <th>gdp_2013</th>\n",
       "      <th>gdp_var</th>\n",
       "    </tr>\n",
       "  </thead>\n",
       "  <tbody>\n",
       "    <tr>\n",
       "      <th>0</th>\n",
       "      <td>1</td>\n",
       "      <td>Armenia</td>\n",
       "      <td>3,843.6</td>\n",
       "      <td>89.9</td>\n",
       "    </tr>\n",
       "    <tr>\n",
       "      <th>1</th>\n",
       "      <td>2</td>\n",
       "      <td>Afghanistan</td>\n",
       "      <td>681.0</td>\n",
       "      <td>172.6</td>\n",
       "    </tr>\n",
       "  </tbody>\n",
       "</table>\n",
       "</div>"
      ],
      "text/plain": [
       "   ctry_cd      country  gdp_2013  gdp_var\n",
       "0        1      Armenia   3,843.6     89.9\n",
       "1        2  Afghanistan     681.0    172.6"
      ]
     },
     "execution_count": 41,
     "metadata": {},
     "output_type": "execute_result"
    }
   ],
   "source": [
    "# création de la colonne 'gdp_var'\n",
    "gdp['gdp_var'] = gdp['gdp_2013'] / gdp['gdp_2008'] * 100\n",
    "# drop gdp_2008\n",
    "gdp.drop(['gdp_2008'], axis=1, inplace = True)\n",
    "gdp.head(2)"
   ]
  },
  {
   "cell_type": "code",
   "execution_count": 42,
   "metadata": {},
   "outputs": [
    {
     "data": {
      "text/html": [
       "<div>\n",
       "<style scoped>\n",
       "    .dataframe tbody tr th:only-of-type {\n",
       "        vertical-align: middle;\n",
       "    }\n",
       "\n",
       "    .dataframe tbody tr th {\n",
       "        vertical-align: top;\n",
       "    }\n",
       "\n",
       "    .dataframe thead th {\n",
       "        text-align: right;\n",
       "    }\n",
       "</style>\n",
       "<table border=\"1\" class=\"dataframe\">\n",
       "  <thead>\n",
       "    <tr style=\"text-align: right;\">\n",
       "      <th></th>\n",
       "      <th>ctry_cd</th>\n",
       "      <th>country</th>\n",
       "      <th>gdp_2013</th>\n",
       "      <th>gdp_var</th>\n",
       "    </tr>\n",
       "  </thead>\n",
       "  <tbody>\n",
       "    <tr>\n",
       "      <th>125</th>\n",
       "      <td>151</td>\n",
       "      <td>Netherlands Antilles (former)</td>\n",
       "      <td>nan</td>\n",
       "      <td>nan</td>\n",
       "    </tr>\n",
       "  </tbody>\n",
       "</table>\n",
       "</div>"
      ],
      "text/plain": [
       "     ctry_cd                        country  gdp_2013  gdp_var\n",
       "125      151  Netherlands Antilles (former)       nan      nan"
      ]
     },
     "execution_count": 42,
     "metadata": {},
     "output_type": "execute_result"
    }
   ],
   "source": [
    "# recherche de NaN\n",
    "na1 = gdp[gdp.isnull().any(axis=1)]\n",
    "na1"
   ]
  },
  {
   "cell_type": "markdown",
   "metadata": {},
   "source": [
    "* [Antilles néerlandaises](https://fr.wikipedia.org/wiki/Dissolution_de_la_f%C3%A9d%C3%A9ration_des_Antilles_n%C3%A9erlandaises): Les Antilles néerlandaises sont dissoutes dans le cadre de la réforme étatique du Royaume des Pays-Bas du 10 octobre 2010 sous l'effet de l’amendement du statut du Royaume des Pays-Bas."
   ]
  },
  {
   "cell_type": "code",
   "execution_count": 43,
   "metadata": {},
   "outputs": [
    {
     "data": {
      "text/plain": [
       "ctry_cd     211\n",
       "country     211\n",
       "gdp_2013    211\n",
       "gdp_var     211\n",
       "dtype: int64"
      ]
     },
     "execution_count": 43,
     "metadata": {},
     "output_type": "execute_result"
    }
   ],
   "source": [
    "# on retire les NaN \n",
    "gdp = gdp[(gdp['country'] != 'Netherlands Antilles (former)')]\n",
    "gdp.count()"
   ]
  },
  {
   "cell_type": "markdown",
   "metadata": {},
   "source": [
    "### Création de variables pour 'Poultry Meat'"
   ]
  },
  {
   "cell_type": "markdown",
   "metadata": {},
   "source": [
    "**Variables à ajouter pour 'Poultry Meat'**\n",
    "* food (kg/cap/y)\n",
    "* food supply (kg/cap/y) \n",
    "* import / domestic supply\n",
    "    * Domestic supply quantity = Feed + Food + Losses + Other uses + Processing + Seed\n",
    "    * Domestic supply quantity = Import Quantity + Production + Stock Variation - Export Quantity\n",
    "<br><br>\n",
    "**poultry_import_ratio = Import Quantity/ Domestic supply quantity * 100**"
   ]
  },
  {
   "cell_type": "code",
   "execution_count": 44,
   "metadata": {
    "scrolled": true
   },
   "outputs": [
    {
     "data": {
      "text/html": [
       "<div>\n",
       "<style scoped>\n",
       "    .dataframe tbody tr th:only-of-type {\n",
       "        vertical-align: middle;\n",
       "    }\n",
       "\n",
       "    .dataframe tbody tr th {\n",
       "        vertical-align: top;\n",
       "    }\n",
       "\n",
       "    .dataframe thead th {\n",
       "        text-align: right;\n",
       "    }\n",
       "</style>\n",
       "<table border=\"1\" class=\"dataframe\">\n",
       "  <thead>\n",
       "    <tr style=\"text-align: right;\">\n",
       "      <th></th>\n",
       "      <th>ctry_cd</th>\n",
       "      <th>country</th>\n",
       "      <th>item_cd</th>\n",
       "      <th>item</th>\n",
       "      <th>origin</th>\n",
       "      <th>population</th>\n",
       "      <th>Domestic supply quantity</th>\n",
       "      <th>Export Quantity</th>\n",
       "      <th>Fat supply quantity (g/capita/day)</th>\n",
       "      <th>Feed</th>\n",
       "      <th>...</th>\n",
       "      <th>Food supply (kcal/capita/day)</th>\n",
       "      <th>Food supply quantity (kg/capita/yr)</th>\n",
       "      <th>Import Quantity</th>\n",
       "      <th>Losses</th>\n",
       "      <th>Other uses</th>\n",
       "      <th>Processing</th>\n",
       "      <th>Production</th>\n",
       "      <th>Protein supply quantity (g/capita/day)</th>\n",
       "      <th>Seed</th>\n",
       "      <th>Stock Variation</th>\n",
       "    </tr>\n",
       "  </thead>\n",
       "  <tbody>\n",
       "    <tr>\n",
       "      <th>0</th>\n",
       "      <td>1</td>\n",
       "      <td>Armenia</td>\n",
       "      <td>2511</td>\n",
       "      <td>Wheat and products</td>\n",
       "      <td>vegetal</td>\n",
       "      <td>2977000</td>\n",
       "      <td>554.0</td>\n",
       "      <td>1.0</td>\n",
       "      <td>3.6</td>\n",
       "      <td>93.0</td>\n",
       "      <td>...</td>\n",
       "      <td>1,024.0</td>\n",
       "      <td>130.6</td>\n",
       "      <td>361.0</td>\n",
       "      <td>32.0</td>\n",
       "      <td>0.0</td>\n",
       "      <td>10.0</td>\n",
       "      <td>312.0</td>\n",
       "      <td>30.5</td>\n",
       "      <td>30.0</td>\n",
       "      <td>-118.0</td>\n",
       "    </tr>\n",
       "    <tr>\n",
       "      <th>1</th>\n",
       "      <td>1</td>\n",
       "      <td>Armenia</td>\n",
       "      <td>2513</td>\n",
       "      <td>Barley and products</td>\n",
       "      <td>vegetal</td>\n",
       "      <td>2977000</td>\n",
       "      <td>198.0</td>\n",
       "      <td>0.0</td>\n",
       "      <td>0.0</td>\n",
       "      <td>137.0</td>\n",
       "      <td>...</td>\n",
       "      <td>0.0</td>\n",
       "      <td>0.0</td>\n",
       "      <td>9.0</td>\n",
       "      <td>15.0</td>\n",
       "      <td>26.0</td>\n",
       "      <td>7.0</td>\n",
       "      <td>189.0</td>\n",
       "      <td>0.0</td>\n",
       "      <td>14.0</td>\n",
       "      <td>0.0</td>\n",
       "    </tr>\n",
       "  </tbody>\n",
       "</table>\n",
       "<p>2 rows × 21 columns</p>\n",
       "</div>"
      ],
      "text/plain": [
       "   ctry_cd  country  item_cd                 item   origin  population  \\\n",
       "0        1  Armenia     2511   Wheat and products  vegetal     2977000   \n",
       "1        1  Armenia     2513  Barley and products  vegetal     2977000   \n",
       "\n",
       "   Domestic supply quantity  Export Quantity  \\\n",
       "0                     554.0              1.0   \n",
       "1                     198.0              0.0   \n",
       "\n",
       "   Fat supply quantity (g/capita/day)  Feed       ...         \\\n",
       "0                                 3.6  93.0       ...          \n",
       "1                                 0.0 137.0       ...          \n",
       "\n",
       "   Food supply (kcal/capita/day)  Food supply quantity (kg/capita/yr)  \\\n",
       "0                        1,024.0                                130.6   \n",
       "1                            0.0                                  0.0   \n",
       "\n",
       "   Import Quantity  Losses  Other uses  Processing  Production  \\\n",
       "0            361.0    32.0         0.0        10.0       312.0   \n",
       "1              9.0    15.0        26.0         7.0       189.0   \n",
       "\n",
       "   Protein supply quantity (g/capita/day)  Seed  Stock Variation  \n",
       "0                                    30.5  30.0           -118.0  \n",
       "1                                     0.0  14.0              0.0  \n",
       "\n",
       "[2 rows x 21 columns]"
      ]
     },
     "execution_count": 44,
     "metadata": {},
     "output_type": "execute_result"
    }
   ],
   "source": [
    "# Import du df du P3 ex3 'food_supply_prot_ctry'\n",
    "datap3 = pd.read_csv('data/data_p3q3.csv')\n",
    "\n",
    "datap3.head(2)"
   ]
  },
  {
   "cell_type": "code",
   "execution_count": 45,
   "metadata": {},
   "outputs": [
    {
     "data": {
      "text/html": [
       "<div>\n",
       "<style scoped>\n",
       "    .dataframe tbody tr th:only-of-type {\n",
       "        vertical-align: middle;\n",
       "    }\n",
       "\n",
       "    .dataframe tbody tr th {\n",
       "        vertical-align: top;\n",
       "    }\n",
       "\n",
       "    .dataframe thead th {\n",
       "        text-align: right;\n",
       "    }\n",
       "</style>\n",
       "<table border=\"1\" class=\"dataframe\">\n",
       "  <thead>\n",
       "    <tr style=\"text-align: right;\">\n",
       "      <th></th>\n",
       "      <th>ctry_cd</th>\n",
       "      <th>country</th>\n",
       "      <th>item</th>\n",
       "      <th>population</th>\n",
       "      <th>Food</th>\n",
       "      <th>Food supply quantity (kg/capita/yr)</th>\n",
       "      <th>Import Quantity</th>\n",
       "      <th>Domestic supply quantity</th>\n",
       "    </tr>\n",
       "  </thead>\n",
       "  <tbody>\n",
       "    <tr>\n",
       "      <th>68</th>\n",
       "      <td>1</td>\n",
       "      <td>Armenia</td>\n",
       "      <td>Poultry Meat</td>\n",
       "      <td>2977000</td>\n",
       "      <td>40.0</td>\n",
       "      <td>13.3</td>\n",
       "      <td>32.0</td>\n",
       "      <td>40.0</td>\n",
       "    </tr>\n",
       "    <tr>\n",
       "      <th>138</th>\n",
       "      <td>2</td>\n",
       "      <td>Afghanistan</td>\n",
       "      <td>Poultry Meat</td>\n",
       "      <td>30552000</td>\n",
       "      <td>75.0</td>\n",
       "      <td>2.5</td>\n",
       "      <td>48.0</td>\n",
       "      <td>75.0</td>\n",
       "    </tr>\n",
       "  </tbody>\n",
       "</table>\n",
       "</div>"
      ],
      "text/plain": [
       "     ctry_cd      country          item  population  Food  \\\n",
       "68         1      Armenia  Poultry Meat     2977000  40.0   \n",
       "138        2  Afghanistan  Poultry Meat    30552000  75.0   \n",
       "\n",
       "     Food supply quantity (kg/capita/yr)  Import Quantity  \\\n",
       "68                                  13.3             32.0   \n",
       "138                                  2.5             48.0   \n",
       "\n",
       "     Domestic supply quantity  \n",
       "68                       40.0  \n",
       "138                      75.0  "
      ]
     },
     "execution_count": 45,
     "metadata": {},
     "output_type": "execute_result"
    }
   ],
   "source": [
    "# sélection des variables utiles\n",
    "poultry = datap3[['ctry_cd','country','item','population','Food','Food supply quantity (kg/capita/yr)','Import Quantity','Domestic supply quantity']].copy()\n",
    "\n",
    "# sélection de 'Poultry Meat'\n",
    "poultry = poultry[poultry['item'].str.contains('Poultry Meat')]\n",
    "poultry.head(2)"
   ]
  },
  {
   "cell_type": "code",
   "execution_count": 46,
   "metadata": {},
   "outputs": [
    {
     "data": {
      "text/html": [
       "<div>\n",
       "<style scoped>\n",
       "    .dataframe tbody tr th:only-of-type {\n",
       "        vertical-align: middle;\n",
       "    }\n",
       "\n",
       "    .dataframe tbody tr th {\n",
       "        vertical-align: top;\n",
       "    }\n",
       "\n",
       "    .dataframe thead th {\n",
       "        text-align: right;\n",
       "    }\n",
       "</style>\n",
       "<table border=\"1\" class=\"dataframe\">\n",
       "  <thead>\n",
       "    <tr style=\"text-align: right;\">\n",
       "      <th></th>\n",
       "      <th>ctry_cd</th>\n",
       "      <th>country</th>\n",
       "      <th>poultry_foodsup_kg_cap_y</th>\n",
       "      <th>poultry_food_kg_cap_y</th>\n",
       "      <th>poultry_import_ratio</th>\n",
       "    </tr>\n",
       "  </thead>\n",
       "  <tbody>\n",
       "    <tr>\n",
       "      <th>68</th>\n",
       "      <td>1</td>\n",
       "      <td>Armenia</td>\n",
       "      <td>13.3</td>\n",
       "      <td>13.4</td>\n",
       "      <td>80.0</td>\n",
       "    </tr>\n",
       "    <tr>\n",
       "      <th>138</th>\n",
       "      <td>2</td>\n",
       "      <td>Afghanistan</td>\n",
       "      <td>2.5</td>\n",
       "      <td>2.5</td>\n",
       "      <td>64.0</td>\n",
       "    </tr>\n",
       "  </tbody>\n",
       "</table>\n",
       "</div>"
      ],
      "text/plain": [
       "     ctry_cd      country  poultry_foodsup_kg_cap_y  poultry_food_kg_cap_y  \\\n",
       "68         1      Armenia                      13.3                   13.4   \n",
       "138        2  Afghanistan                       2.5                    2.5   \n",
       "\n",
       "     poultry_import_ratio  \n",
       "68                   80.0  \n",
       "138                  64.0  "
      ]
     },
     "execution_count": 46,
     "metadata": {},
     "output_type": "execute_result"
    }
   ],
   "source": [
    "# création de la variable 'food_kg_cap_y' (Food * 1 million / population)\n",
    "poultry['poultry_food_kg_cap_y'] = (poultry['Food'] * 1000000) / poultry['population']\n",
    "\n",
    "# On renomme Protein supply (kg/ctry/y)'\n",
    "poultry.rename(columns={'Food supply quantity (kg/capita/yr)':'poultry_foodsup_kg_cap_y'}, inplace=True)\n",
    "\n",
    "# création de la variable ratio\n",
    "poultry['poultry_import_ratio'] = (poultry['Import Quantity'] / poultry['Domestic supply quantity'])  * 100\n",
    "\n",
    "# retrait des variables inutiles\n",
    "poultry.drop(['item','population','Food','Import Quantity','Domestic supply quantity'], axis=1, inplace = True)\n",
    "\n",
    "poultry.head(2)"
   ]
  },
  {
   "cell_type": "code",
   "execution_count": 47,
   "metadata": {},
   "outputs": [
    {
     "data": {
      "text/html": [
       "<div>\n",
       "<style scoped>\n",
       "    .dataframe tbody tr th:only-of-type {\n",
       "        vertical-align: middle;\n",
       "    }\n",
       "\n",
       "    .dataframe tbody tr th {\n",
       "        vertical-align: top;\n",
       "    }\n",
       "\n",
       "    .dataframe thead th {\n",
       "        text-align: right;\n",
       "    }\n",
       "</style>\n",
       "<table border=\"1\" class=\"dataframe\">\n",
       "  <thead>\n",
       "    <tr style=\"text-align: right;\">\n",
       "      <th></th>\n",
       "      <th>ctry_cd</th>\n",
       "      <th>country</th>\n",
       "      <th>poultry_foodsup_kg_cap_y</th>\n",
       "      <th>poultry_food_kg_cap_y</th>\n",
       "      <th>poultry_import_ratio</th>\n",
       "    </tr>\n",
       "  </thead>\n",
       "  <tbody>\n",
       "    <tr>\n",
       "      <th>7468</th>\n",
       "      <td>116</td>\n",
       "      <td>Democratic People's Republic of Korea</td>\n",
       "      <td>1.8</td>\n",
       "      <td>1.8</td>\n",
       "      <td>nan</td>\n",
       "    </tr>\n",
       "  </tbody>\n",
       "</table>\n",
       "</div>"
      ],
      "text/plain": [
       "      ctry_cd                                country  \\\n",
       "7468      116  Democratic People's Republic of Korea   \n",
       "\n",
       "      poultry_foodsup_kg_cap_y  poultry_food_kg_cap_y  poultry_import_ratio  \n",
       "7468                       1.8                    1.8                   nan  "
      ]
     },
     "execution_count": 47,
     "metadata": {},
     "output_type": "execute_result"
    }
   ],
   "source": [
    "# recherche de NaN\n",
    "na_imp = poultry[poultry.isnull().any(axis=1)]\n",
    "na_imp"
   ]
  },
  {
   "cell_type": "code",
   "execution_count": 48,
   "metadata": {},
   "outputs": [
    {
     "data": {
      "text/html": [
       "<div>\n",
       "<style scoped>\n",
       "    .dataframe tbody tr th:only-of-type {\n",
       "        vertical-align: middle;\n",
       "    }\n",
       "\n",
       "    .dataframe tbody tr th {\n",
       "        vertical-align: top;\n",
       "    }\n",
       "\n",
       "    .dataframe thead th {\n",
       "        text-align: right;\n",
       "    }\n",
       "</style>\n",
       "<table border=\"1\" class=\"dataframe\">\n",
       "  <thead>\n",
       "    <tr style=\"text-align: right;\">\n",
       "      <th></th>\n",
       "      <th>ctry_cd</th>\n",
       "      <th>poultry_foodsup_kg_cap_y</th>\n",
       "      <th>poultry_food_kg_cap_y</th>\n",
       "      <th>poultry_import_ratio</th>\n",
       "    </tr>\n",
       "  </thead>\n",
       "  <tbody>\n",
       "    <tr>\n",
       "      <th>count</th>\n",
       "      <td>174.0</td>\n",
       "      <td>174.0</td>\n",
       "      <td>174.0</td>\n",
       "      <td>174.0</td>\n",
       "    </tr>\n",
       "    <tr>\n",
       "      <th>mean</th>\n",
       "      <td>125.4</td>\n",
       "      <td>20.6</td>\n",
       "      <td>20.5</td>\n",
       "      <td>39.2</td>\n",
       "    </tr>\n",
       "    <tr>\n",
       "      <th>std</th>\n",
       "      <td>73.4</td>\n",
       "      <td>16.5</td>\n",
       "      <td>16.4</td>\n",
       "      <td>41.5</td>\n",
       "    </tr>\n",
       "    <tr>\n",
       "      <th>min</th>\n",
       "      <td>1.0</td>\n",
       "      <td>0.4</td>\n",
       "      <td>0.4</td>\n",
       "      <td>0.0</td>\n",
       "    </tr>\n",
       "    <tr>\n",
       "      <th>25%</th>\n",
       "      <td>63.8</td>\n",
       "      <td>6.2</td>\n",
       "      <td>6.3</td>\n",
       "      <td>4.1</td>\n",
       "    </tr>\n",
       "    <tr>\n",
       "      <th>50%</th>\n",
       "      <td>120.5</td>\n",
       "      <td>18.6</td>\n",
       "      <td>18.5</td>\n",
       "      <td>27.2</td>\n",
       "    </tr>\n",
       "    <tr>\n",
       "      <th>75%</th>\n",
       "      <td>187.2</td>\n",
       "      <td>29.7</td>\n",
       "      <td>28.4</td>\n",
       "      <td>69.9</td>\n",
       "    </tr>\n",
       "    <tr>\n",
       "      <th>max</th>\n",
       "      <td>276.0</td>\n",
       "      <td>72.9</td>\n",
       "      <td>73.4</td>\n",
       "      <td>264.1</td>\n",
       "    </tr>\n",
       "  </tbody>\n",
       "</table>\n",
       "</div>"
      ],
      "text/plain": [
       "       ctry_cd  poultry_foodsup_kg_cap_y  poultry_food_kg_cap_y  \\\n",
       "count    174.0                     174.0                  174.0   \n",
       "mean     125.4                      20.6                   20.5   \n",
       "std       73.4                      16.5                   16.4   \n",
       "min        1.0                       0.4                    0.4   \n",
       "25%       63.8                       6.2                    6.3   \n",
       "50%      120.5                      18.6                   18.5   \n",
       "75%      187.2                      29.7                   28.4   \n",
       "max      276.0                      72.9                   73.4   \n",
       "\n",
       "       poultry_import_ratio  \n",
       "count                 174.0  \n",
       "mean                   39.2  \n",
       "std                    41.5  \n",
       "min                     0.0  \n",
       "25%                     4.1  \n",
       "50%                    27.2  \n",
       "75%                    69.9  \n",
       "max                   264.1  "
      ]
     },
     "execution_count": 48,
     "metadata": {},
     "output_type": "execute_result"
    }
   ],
   "source": [
    "# remplacement des NaN par 0\n",
    "poultry= poultry.fillna(0)\n",
    "poultry.describe()"
   ]
  },
  {
   "cell_type": "code",
   "execution_count": 49,
   "metadata": {},
   "outputs": [
    {
     "data": {
      "text/html": [
       "<div>\n",
       "<style scoped>\n",
       "    .dataframe tbody tr th:only-of-type {\n",
       "        vertical-align: middle;\n",
       "    }\n",
       "\n",
       "    .dataframe tbody tr th {\n",
       "        vertical-align: top;\n",
       "    }\n",
       "\n",
       "    .dataframe thead th {\n",
       "        text-align: right;\n",
       "    }\n",
       "</style>\n",
       "<table border=\"1\" class=\"dataframe\">\n",
       "  <thead>\n",
       "    <tr style=\"text-align: right;\">\n",
       "      <th></th>\n",
       "      <th>ctry_cd</th>\n",
       "      <th>country</th>\n",
       "      <th>poultry_foodsup_kg_cap_y</th>\n",
       "      <th>poultry_food_kg_cap_y</th>\n",
       "      <th>poultry_import_ratio</th>\n",
       "    </tr>\n",
       "  </thead>\n",
       "  <tbody>\n",
       "    <tr>\n",
       "      <th>5734</th>\n",
       "      <td>96</td>\n",
       "      <td>China, Hong Kong SAR</td>\n",
       "      <td>54.9</td>\n",
       "      <td>54.8</td>\n",
       "      <td>264.1</td>\n",
       "    </tr>\n",
       "    <tr>\n",
       "      <th>9677</th>\n",
       "      <td>150</td>\n",
       "      <td>Netherlands</td>\n",
       "      <td>23.9</td>\n",
       "      <td>23.9</td>\n",
       "      <td>132.4</td>\n",
       "    </tr>\n",
       "    <tr>\n",
       "      <th>13684</th>\n",
       "      <td>221</td>\n",
       "      <td>Oman</td>\n",
       "      <td>31.5</td>\n",
       "      <td>31.4</td>\n",
       "      <td>103.5</td>\n",
       "    </tr>\n",
       "    <tr>\n",
       "      <th>15225</th>\n",
       "      <td>255</td>\n",
       "      <td>Belgium</td>\n",
       "      <td>12.2</td>\n",
       "      <td>12.2</td>\n",
       "      <td>176.2</td>\n",
       "    </tr>\n",
       "  </tbody>\n",
       "</table>\n",
       "</div>"
      ],
      "text/plain": [
       "       ctry_cd               country  poultry_foodsup_kg_cap_y  \\\n",
       "5734        96  China, Hong Kong SAR                      54.9   \n",
       "9677       150           Netherlands                      23.9   \n",
       "13684      221                  Oman                      31.5   \n",
       "15225      255               Belgium                      12.2   \n",
       "\n",
       "       poultry_food_kg_cap_y  poultry_import_ratio  \n",
       "5734                    54.8                 264.1  \n",
       "9677                    23.9                 132.4  \n",
       "13684                   31.4                 103.5  \n",
       "15225                   12.2                 176.2  "
      ]
     },
     "execution_count": 49,
     "metadata": {},
     "output_type": "execute_result"
    }
   ],
   "source": [
    "#sélection des valeurs de poultry_import_ratio > 100\n",
    "outlier_imp = poultry[poultry['poultry_import_ratio'] > 100]\n",
    "outlier_imp"
   ]
  },
  {
   "cell_type": "markdown",
   "metadata": {},
   "source": [
    "* Si le ratio est supérieur à 100, 'Production + Stock Variation - Export Quantity' est excédentaire (>0)\n",
    "* to be investigated"
   ]
  },
  {
   "cell_type": "markdown",
   "metadata": {},
   "source": [
    "### Ease of doing business (edb 2019)"
   ]
  },
  {
   "cell_type": "code",
   "execution_count": 50,
   "metadata": {},
   "outputs": [
    {
     "data": {
      "text/html": [
       "<div>\n",
       "<style scoped>\n",
       "    .dataframe tbody tr th:only-of-type {\n",
       "        vertical-align: middle;\n",
       "    }\n",
       "\n",
       "    .dataframe tbody tr th {\n",
       "        vertical-align: top;\n",
       "    }\n",
       "\n",
       "    .dataframe thead th {\n",
       "        text-align: right;\n",
       "    }\n",
       "</style>\n",
       "<table border=\"1\" class=\"dataframe\">\n",
       "  <thead>\n",
       "    <tr style=\"text-align: right;\">\n",
       "      <th></th>\n",
       "      <th>ctry_cd</th>\n",
       "      <th>country</th>\n",
       "      <th>edb_2019</th>\n",
       "    </tr>\n",
       "  </thead>\n",
       "  <tbody>\n",
       "    <tr>\n",
       "      <th>0</th>\n",
       "      <td>156</td>\n",
       "      <td>New Zealand</td>\n",
       "      <td>86.6</td>\n",
       "    </tr>\n",
       "    <tr>\n",
       "      <th>1</th>\n",
       "      <td>200</td>\n",
       "      <td>Singapore</td>\n",
       "      <td>85.2</td>\n",
       "    </tr>\n",
       "  </tbody>\n",
       "</table>\n",
       "</div>"
      ],
      "text/plain": [
       "   ctry_cd      country  edb_2019\n",
       "0      156  New Zealand      86.6\n",
       "1      200    Singapore      85.2"
      ]
     },
     "execution_count": 50,
     "metadata": {},
     "output_type": "execute_result"
    }
   ],
   "source": [
    "# import de la variable 'Ease of Doing Business Indicator'\n",
    "edb  = pd.read_excel('data/edb_2019.xls')\n",
    "edb.head(2)"
   ]
  },
  {
   "cell_type": "code",
   "execution_count": 51,
   "metadata": {},
   "outputs": [
    {
     "data": {
      "text/plain": [
       "ctry_cd     185\n",
       "country     185\n",
       "edb_2019    185\n",
       "dtype: int64"
      ]
     },
     "execution_count": 51,
     "metadata": {},
     "output_type": "execute_result"
    }
   ],
   "source": [
    "edb.count()"
   ]
  },
  {
   "cell_type": "markdown",
   "metadata": {},
   "source": [
    "### Consolidation des tables et export"
   ]
  },
  {
   "cell_type": "raw",
   "metadata": {},
   "source": [
    "dfextra.head()"
   ]
  },
  {
   "cell_type": "code",
   "execution_count": 52,
   "metadata": {},
   "outputs": [
    {
     "data": {
      "text/html": [
       "<div>\n",
       "<style scoped>\n",
       "    .dataframe tbody tr th:only-of-type {\n",
       "        vertical-align: middle;\n",
       "    }\n",
       "\n",
       "    .dataframe tbody tr th {\n",
       "        vertical-align: top;\n",
       "    }\n",
       "\n",
       "    .dataframe thead th {\n",
       "        text-align: right;\n",
       "    }\n",
       "</style>\n",
       "<table border=\"1\" class=\"dataframe\">\n",
       "  <thead>\n",
       "    <tr style=\"text-align: right;\">\n",
       "      <th></th>\n",
       "      <th>gdp_2013</th>\n",
       "      <th>poultry_food_kg_cap_y</th>\n",
       "      <th>poultry_import_ratio</th>\n",
       "      <th>edb_2019</th>\n",
       "    </tr>\n",
       "  </thead>\n",
       "  <tbody>\n",
       "    <tr>\n",
       "      <th>count</th>\n",
       "      <td>211.0</td>\n",
       "      <td>174.0</td>\n",
       "      <td>174.0</td>\n",
       "      <td>185.0</td>\n",
       "    </tr>\n",
       "    <tr>\n",
       "      <th>mean</th>\n",
       "      <td>17,030.1</td>\n",
       "      <td>20.5</td>\n",
       "      <td>39.2</td>\n",
       "      <td>63.2</td>\n",
       "    </tr>\n",
       "    <tr>\n",
       "      <th>std</th>\n",
       "      <td>25,862.8</td>\n",
       "      <td>16.4</td>\n",
       "      <td>41.5</td>\n",
       "      <td>12.7</td>\n",
       "    </tr>\n",
       "    <tr>\n",
       "      <th>min</th>\n",
       "      <td>106.5</td>\n",
       "      <td>0.4</td>\n",
       "      <td>0.0</td>\n",
       "      <td>30.6</td>\n",
       "    </tr>\n",
       "    <tr>\n",
       "      <th>25%</th>\n",
       "      <td>1,861.1</td>\n",
       "      <td>6.3</td>\n",
       "      <td>4.1</td>\n",
       "      <td>54.4</td>\n",
       "    </tr>\n",
       "    <tr>\n",
       "      <th>50%</th>\n",
       "      <td>6,760.2</td>\n",
       "      <td>18.5</td>\n",
       "      <td>27.2</td>\n",
       "      <td>63.0</td>\n",
       "    </tr>\n",
       "    <tr>\n",
       "      <th>75%</th>\n",
       "      <td>20,753.9</td>\n",
       "      <td>28.4</td>\n",
       "      <td>69.9</td>\n",
       "      <td>73.5</td>\n",
       "    </tr>\n",
       "    <tr>\n",
       "      <th>max</th>\n",
       "      <td>173,527.5</td>\n",
       "      <td>73.4</td>\n",
       "      <td>264.1</td>\n",
       "      <td>86.6</td>\n",
       "    </tr>\n",
       "  </tbody>\n",
       "</table>\n",
       "</div>"
      ],
      "text/plain": [
       "       gdp_2013  poultry_food_kg_cap_y  poultry_import_ratio  edb_2019\n",
       "count     211.0                  174.0                 174.0     185.0\n",
       "mean   17,030.1                   20.5                  39.2      63.2\n",
       "std    25,862.8                   16.4                  41.5      12.7\n",
       "min       106.5                    0.4                   0.0      30.6\n",
       "25%     1,861.1                    6.3                   4.1      54.4\n",
       "50%     6,760.2                   18.5                  27.2      63.0\n",
       "75%    20,753.9                   28.4                  69.9      73.5\n",
       "max   173,527.5                   73.4                 264.1      86.6"
      ]
     },
     "execution_count": 52,
     "metadata": {},
     "output_type": "execute_result"
    }
   ],
   "source": [
    "# méthode de groupement rapide trouvé ici : \n",
    "# https://stackoverflow.com/questions/23668427/pandas-three-way-joining-multiple-dataframes-on-columns\n",
    "\n",
    "from functools import reduce\n",
    "dfs = [gdp, poultry, edb]\n",
    "\n",
    "dfextra = reduce(lambda left,right: pd.merge(left,right,on=['ctry_cd','country'], how='outer'), dfs)\n",
    "dfextra.drop(['ctry_cd','gdp_var','poultry_foodsup_kg_cap_y'], axis=1, inplace = True)\n",
    "dfextra.reset_index()\n",
    "dfextra.describe()"
   ]
  },
  {
   "cell_type": "code",
   "execution_count": 53,
   "metadata": {},
   "outputs": [
    {
     "data": {
      "text/plain": [
       "country                  213\n",
       "gdp_2013                 211\n",
       "poultry_food_kg_cap_y    174\n",
       "poultry_import_ratio     174\n",
       "edb_2019                 185\n",
       "dtype: int64"
      ]
     },
     "execution_count": 53,
     "metadata": {},
     "output_type": "execute_result"
    }
   ],
   "source": [
    "dfextra.count()"
   ]
  },
  {
   "cell_type": "code",
   "execution_count": 54,
   "metadata": {},
   "outputs": [
    {
     "data": {
      "text/html": [
       "<div>\n",
       "<style scoped>\n",
       "    .dataframe tbody tr th:only-of-type {\n",
       "        vertical-align: middle;\n",
       "    }\n",
       "\n",
       "    .dataframe tbody tr th {\n",
       "        vertical-align: top;\n",
       "    }\n",
       "\n",
       "    .dataframe thead th {\n",
       "        text-align: right;\n",
       "    }\n",
       "</style>\n",
       "<table border=\"1\" class=\"dataframe\">\n",
       "  <thead>\n",
       "    <tr style=\"text-align: right;\">\n",
       "      <th></th>\n",
       "      <th>ctry_cd</th>\n",
       "      <th>country</th>\n",
       "      <th>pop_2013</th>\n",
       "      <th>pop_var</th>\n",
       "      <th>prot_ani_ratio</th>\n",
       "      <th>prot_g_cap_day</th>\n",
       "      <th>food_kcal_cap_day</th>\n",
       "      <th>gdp_2013</th>\n",
       "      <th>poultry_food_kg_cap_y</th>\n",
       "      <th>poultry_import_ratio</th>\n",
       "      <th>edb_2019</th>\n",
       "    </tr>\n",
       "  </thead>\n",
       "  <tbody>\n",
       "    <tr>\n",
       "      <th>0</th>\n",
       "      <td>1</td>\n",
       "      <td>Armenia</td>\n",
       "      <td>3.0</td>\n",
       "      <td>100.0</td>\n",
       "      <td>48.0</td>\n",
       "      <td>90.1</td>\n",
       "      <td>2,924.0</td>\n",
       "      <td>3,843.6</td>\n",
       "      <td>13.4</td>\n",
       "      <td>80.0</td>\n",
       "      <td>75.4</td>\n",
       "    </tr>\n",
       "    <tr>\n",
       "      <th>1</th>\n",
       "      <td>2</td>\n",
       "      <td>Afghanistan</td>\n",
       "      <td>30.6</td>\n",
       "      <td>113.0</td>\n",
       "      <td>21.0</td>\n",
       "      <td>58.3</td>\n",
       "      <td>2,087.0</td>\n",
       "      <td>681.0</td>\n",
       "      <td>2.5</td>\n",
       "      <td>64.0</td>\n",
       "      <td>47.8</td>\n",
       "    </tr>\n",
       "  </tbody>\n",
       "</table>\n",
       "</div>"
      ],
      "text/plain": [
       "   ctry_cd      country  pop_2013  pop_var  prot_ani_ratio  prot_g_cap_day  \\\n",
       "0        1      Armenia       3.0    100.0            48.0            90.1   \n",
       "1        2  Afghanistan      30.6    113.0            21.0            58.3   \n",
       "\n",
       "   food_kcal_cap_day  gdp_2013  poultry_food_kg_cap_y  poultry_import_ratio  \\\n",
       "0            2,924.0   3,843.6                   13.4                  80.0   \n",
       "1            2,087.0     681.0                    2.5                  64.0   \n",
       "\n",
       "   edb_2019  \n",
       "0      75.4  \n",
       "1      47.8  "
      ]
     },
     "execution_count": 54,
     "metadata": {},
     "output_type": "execute_result"
    }
   ],
   "source": [
    "# left join sur df1\n",
    "df_maxi = pd.merge(dfmini,dfextra, on=['country'], how='left')\n",
    "df_maxi.reset_index()\n",
    "df_maxi.head(2)"
   ]
  },
  {
   "cell_type": "code",
   "execution_count": 55,
   "metadata": {},
   "outputs": [
    {
     "data": {
      "text/plain": [
       "ctry_cd                  173\n",
       "country                  173\n",
       "pop_2013                 173\n",
       "pop_var                  173\n",
       "prot_ani_ratio           173\n",
       "prot_g_cap_day           173\n",
       "food_kcal_cap_day        173\n",
       "gdp_2013                 172\n",
       "poultry_food_kg_cap_y    172\n",
       "poultry_import_ratio     172\n",
       "edb_2019                 166\n",
       "dtype: int64"
      ]
     },
     "execution_count": 55,
     "metadata": {},
     "output_type": "execute_result"
    }
   ],
   "source": [
    "df_maxi.count()"
   ]
  },
  {
   "cell_type": "code",
   "execution_count": 56,
   "metadata": {
    "scrolled": true
   },
   "outputs": [
    {
     "data": {
      "text/html": [
       "<div>\n",
       "<style scoped>\n",
       "    .dataframe tbody tr th:only-of-type {\n",
       "        vertical-align: middle;\n",
       "    }\n",
       "\n",
       "    .dataframe tbody tr th {\n",
       "        vertical-align: top;\n",
       "    }\n",
       "\n",
       "    .dataframe thead th {\n",
       "        text-align: right;\n",
       "    }\n",
       "</style>\n",
       "<table border=\"1\" class=\"dataframe\">\n",
       "  <thead>\n",
       "    <tr style=\"text-align: right;\">\n",
       "      <th></th>\n",
       "      <th>pop_2013</th>\n",
       "      <th>pop_var</th>\n",
       "      <th>prot_ani_ratio</th>\n",
       "      <th>prot_g_cap_day</th>\n",
       "      <th>food_kcal_cap_day</th>\n",
       "      <th>gdp_2013</th>\n",
       "      <th>poultry_food_kg_cap_y</th>\n",
       "      <th>poultry_import_ratio</th>\n",
       "      <th>edb_2019</th>\n",
       "    </tr>\n",
       "    <tr>\n",
       "      <th>country</th>\n",
       "      <th></th>\n",
       "      <th></th>\n",
       "      <th></th>\n",
       "      <th></th>\n",
       "      <th></th>\n",
       "      <th></th>\n",
       "      <th></th>\n",
       "      <th></th>\n",
       "      <th></th>\n",
       "    </tr>\n",
       "  </thead>\n",
       "  <tbody>\n",
       "    <tr>\n",
       "      <th>Armenia</th>\n",
       "      <td>3.0</td>\n",
       "      <td>100.0</td>\n",
       "      <td>48.0</td>\n",
       "      <td>90.1</td>\n",
       "      <td>2,924.0</td>\n",
       "      <td>3,843.6</td>\n",
       "      <td>13.4</td>\n",
       "      <td>80.0</td>\n",
       "      <td>75.4</td>\n",
       "    </tr>\n",
       "    <tr>\n",
       "      <th>Afghanistan</th>\n",
       "      <td>30.6</td>\n",
       "      <td>113.0</td>\n",
       "      <td>21.0</td>\n",
       "      <td>58.3</td>\n",
       "      <td>2,087.0</td>\n",
       "      <td>681.0</td>\n",
       "      <td>2.5</td>\n",
       "      <td>64.0</td>\n",
       "      <td>47.8</td>\n",
       "    </tr>\n",
       "  </tbody>\n",
       "</table>\n",
       "</div>"
      ],
      "text/plain": [
       "             pop_2013  pop_var  prot_ani_ratio  prot_g_cap_day  \\\n",
       "country                                                          \n",
       "Armenia           3.0    100.0            48.0            90.1   \n",
       "Afghanistan      30.6    113.0            21.0            58.3   \n",
       "\n",
       "             food_kcal_cap_day  gdp_2013  poultry_food_kg_cap_y  \\\n",
       "country                                                           \n",
       "Armenia                2,924.0   3,843.6                   13.4   \n",
       "Afghanistan            2,087.0     681.0                    2.5   \n",
       "\n",
       "             poultry_import_ratio  edb_2019  \n",
       "country                                      \n",
       "Armenia                      80.0      75.4  \n",
       "Afghanistan                  64.0      47.8  "
      ]
     },
     "execution_count": 56,
     "metadata": {},
     "output_type": "execute_result"
    }
   ],
   "source": [
    "# prépa du df personnel\n",
    "df_maxi.drop(['ctry_cd'], axis=1, inplace = True)\n",
    "\n",
    "# indexation sur 'country'\n",
    "df_maxi.index = df_maxi.country\n",
    "df_maxi = df_maxi.drop('country', 1);\n",
    "df_maxi.head(2)"
   ]
  },
  {
   "cell_type": "code",
   "execution_count": 57,
   "metadata": {},
   "outputs": [
    {
     "data": {
      "text/plain": [
       "pop_2013                 173\n",
       "pop_var                  173\n",
       "prot_ani_ratio           173\n",
       "prot_g_cap_day           173\n",
       "food_kcal_cap_day        173\n",
       "gdp_2013                 172\n",
       "poultry_food_kg_cap_y    172\n",
       "poultry_import_ratio     172\n",
       "edb_2019                 166\n",
       "dtype: int64"
      ]
     },
     "execution_count": 57,
     "metadata": {},
     "output_type": "execute_result"
    }
   ],
   "source": [
    "df_maxi.count()"
   ]
  },
  {
   "cell_type": "code",
   "execution_count": 58,
   "metadata": {},
   "outputs": [
    {
     "data": {
      "text/html": [
       "<div>\n",
       "<style scoped>\n",
       "    .dataframe tbody tr th:only-of-type {\n",
       "        vertical-align: middle;\n",
       "    }\n",
       "\n",
       "    .dataframe tbody tr th {\n",
       "        vertical-align: top;\n",
       "    }\n",
       "\n",
       "    .dataframe thead th {\n",
       "        text-align: right;\n",
       "    }\n",
       "</style>\n",
       "<table border=\"1\" class=\"dataframe\">\n",
       "  <thead>\n",
       "    <tr style=\"text-align: right;\">\n",
       "      <th></th>\n",
       "      <th>pop_2013</th>\n",
       "      <th>pop_var</th>\n",
       "      <th>prot_ani_ratio</th>\n",
       "      <th>prot_g_cap_day</th>\n",
       "      <th>food_kcal_cap_day</th>\n",
       "      <th>gdp_2013</th>\n",
       "      <th>poultry_food_kg_cap_y</th>\n",
       "      <th>poultry_import_ratio</th>\n",
       "      <th>edb_2019</th>\n",
       "    </tr>\n",
       "    <tr>\n",
       "      <th>country</th>\n",
       "      <th></th>\n",
       "      <th></th>\n",
       "      <th></th>\n",
       "      <th></th>\n",
       "      <th></th>\n",
       "      <th></th>\n",
       "      <th></th>\n",
       "      <th></th>\n",
       "      <th></th>\n",
       "    </tr>\n",
       "  </thead>\n",
       "  <tbody>\n",
       "    <tr>\n",
       "      <th>Bermuda</th>\n",
       "      <td>0.1</td>\n",
       "      <td>100.0</td>\n",
       "      <td>66.7</td>\n",
       "      <td>90.4</td>\n",
       "      <td>2,668.0</td>\n",
       "      <td>90,329.8</td>\n",
       "      <td>30.8</td>\n",
       "      <td>100.0</td>\n",
       "      <td>nan</td>\n",
       "    </tr>\n",
       "    <tr>\n",
       "      <th>Cuba</th>\n",
       "      <td>11.3</td>\n",
       "      <td>99.7</td>\n",
       "      <td>35.0</td>\n",
       "      <td>90.9</td>\n",
       "      <td>3,402.0</td>\n",
       "      <td>6,760.2</td>\n",
       "      <td>20.1</td>\n",
       "      <td>85.9</td>\n",
       "      <td>nan</td>\n",
       "    </tr>\n",
       "    <tr>\n",
       "      <th>French Polynesia</th>\n",
       "      <td>0.3</td>\n",
       "      <td>105.3</td>\n",
       "      <td>65.6</td>\n",
       "      <td>97.3</td>\n",
       "      <td>2,923.0</td>\n",
       "      <td>22,045.7</td>\n",
       "      <td>50.5</td>\n",
       "      <td>100.0</td>\n",
       "      <td>nan</td>\n",
       "    </tr>\n",
       "    <tr>\n",
       "      <th>Democratic People's Republic of Korea</th>\n",
       "      <td>24.9</td>\n",
       "      <td>102.7</td>\n",
       "      <td>18.3</td>\n",
       "      <td>55.0</td>\n",
       "      <td>2,093.0</td>\n",
       "      <td>666.3</td>\n",
       "      <td>1.8</td>\n",
       "      <td>0.0</td>\n",
       "      <td>nan</td>\n",
       "    </tr>\n",
       "    <tr>\n",
       "      <th>China, Macao SAR</th>\n",
       "      <td>0.6</td>\n",
       "      <td>111.4</td>\n",
       "      <td>64.5</td>\n",
       "      <td>94.8</td>\n",
       "      <td>2,915.0</td>\n",
       "      <td>89,525.3</td>\n",
       "      <td>37.1</td>\n",
       "      <td>81.0</td>\n",
       "      <td>nan</td>\n",
       "    </tr>\n",
       "    <tr>\n",
       "      <th>New Caledonia</th>\n",
       "      <td>0.3</td>\n",
       "      <td>107.1</td>\n",
       "      <td>60.4</td>\n",
       "      <td>86.6</td>\n",
       "      <td>2,855.0</td>\n",
       "      <td>38,344.0</td>\n",
       "      <td>43.0</td>\n",
       "      <td>100.0</td>\n",
       "      <td>nan</td>\n",
       "    </tr>\n",
       "    <tr>\n",
       "      <th>North Macedonia</th>\n",
       "      <td>2.1</td>\n",
       "      <td>100.4</td>\n",
       "      <td>41.2</td>\n",
       "      <td>78.4</td>\n",
       "      <td>2,946.0</td>\n",
       "      <td>5,211.5</td>\n",
       "      <td>nan</td>\n",
       "      <td>nan</td>\n",
       "      <td>81.5</td>\n",
       "    </tr>\n",
       "    <tr>\n",
       "      <th>Turkmenistan</th>\n",
       "      <td>5.2</td>\n",
       "      <td>106.5</td>\n",
       "      <td>41.9</td>\n",
       "      <td>90.5</td>\n",
       "      <td>2,836.0</td>\n",
       "      <td>7,304.4</td>\n",
       "      <td>3.8</td>\n",
       "      <td>4.8</td>\n",
       "      <td>nan</td>\n",
       "    </tr>\n",
       "    <tr>\n",
       "      <th>China, Taiwan Province of</th>\n",
       "      <td>23.3</td>\n",
       "      <td>101.4</td>\n",
       "      <td>48.5</td>\n",
       "      <td>89.7</td>\n",
       "      <td>2,998.0</td>\n",
       "      <td>nan</td>\n",
       "      <td>32.1</td>\n",
       "      <td>15.5</td>\n",
       "      <td>80.9</td>\n",
       "    </tr>\n",
       "  </tbody>\n",
       "</table>\n",
       "</div>"
      ],
      "text/plain": [
       "                                       pop_2013  pop_var  prot_ani_ratio  \\\n",
       "country                                                                    \n",
       "Bermuda                                     0.1    100.0            66.7   \n",
       "Cuba                                       11.3     99.7            35.0   \n",
       "French Polynesia                            0.3    105.3            65.6   \n",
       "Democratic People's Republic of Korea      24.9    102.7            18.3   \n",
       "China, Macao SAR                            0.6    111.4            64.5   \n",
       "New Caledonia                               0.3    107.1            60.4   \n",
       "North Macedonia                             2.1    100.4            41.2   \n",
       "Turkmenistan                                5.2    106.5            41.9   \n",
       "China, Taiwan Province of                  23.3    101.4            48.5   \n",
       "\n",
       "                                       prot_g_cap_day  food_kcal_cap_day  \\\n",
       "country                                                                    \n",
       "Bermuda                                          90.4            2,668.0   \n",
       "Cuba                                             90.9            3,402.0   \n",
       "French Polynesia                                 97.3            2,923.0   \n",
       "Democratic People's Republic of Korea            55.0            2,093.0   \n",
       "China, Macao SAR                                 94.8            2,915.0   \n",
       "New Caledonia                                    86.6            2,855.0   \n",
       "North Macedonia                                  78.4            2,946.0   \n",
       "Turkmenistan                                     90.5            2,836.0   \n",
       "China, Taiwan Province of                        89.7            2,998.0   \n",
       "\n",
       "                                       gdp_2013  poultry_food_kg_cap_y  \\\n",
       "country                                                                  \n",
       "Bermuda                                90,329.8                   30.8   \n",
       "Cuba                                    6,760.2                   20.1   \n",
       "French Polynesia                       22,045.7                   50.5   \n",
       "Democratic People's Republic of Korea     666.3                    1.8   \n",
       "China, Macao SAR                       89,525.3                   37.1   \n",
       "New Caledonia                          38,344.0                   43.0   \n",
       "North Macedonia                         5,211.5                    nan   \n",
       "Turkmenistan                            7,304.4                    3.8   \n",
       "China, Taiwan Province of                   nan                   32.1   \n",
       "\n",
       "                                       poultry_import_ratio  edb_2019  \n",
       "country                                                                \n",
       "Bermuda                                               100.0       nan  \n",
       "Cuba                                                   85.9       nan  \n",
       "French Polynesia                                      100.0       nan  \n",
       "Democratic People's Republic of Korea                   0.0       nan  \n",
       "China, Macao SAR                                       81.0       nan  \n",
       "New Caledonia                                         100.0       nan  \n",
       "North Macedonia                                         nan      81.5  \n",
       "Turkmenistan                                            4.8       nan  \n",
       "China, Taiwan Province of                              15.5      80.9  "
      ]
     },
     "execution_count": 58,
     "metadata": {},
     "output_type": "execute_result"
    }
   ],
   "source": [
    "# recherche de NaN\n",
    "na_maxi = df_maxi[df_maxi.isnull().any(axis=1)]\n",
    "na_maxi"
   ]
  },
  {
   "cell_type": "code",
   "execution_count": 59,
   "metadata": {},
   "outputs": [
    {
     "data": {
      "text/html": [
       "<div>\n",
       "<style scoped>\n",
       "    .dataframe tbody tr th:only-of-type {\n",
       "        vertical-align: middle;\n",
       "    }\n",
       "\n",
       "    .dataframe tbody tr th {\n",
       "        vertical-align: top;\n",
       "    }\n",
       "\n",
       "    .dataframe thead th {\n",
       "        text-align: right;\n",
       "    }\n",
       "</style>\n",
       "<table border=\"1\" class=\"dataframe\">\n",
       "  <thead>\n",
       "    <tr style=\"text-align: right;\">\n",
       "      <th></th>\n",
       "      <th>pop_2013</th>\n",
       "      <th>pop_var</th>\n",
       "      <th>prot_ani_ratio</th>\n",
       "      <th>prot_g_cap_day</th>\n",
       "      <th>food_kcal_cap_day</th>\n",
       "      <th>gdp_2013</th>\n",
       "      <th>poultry_food_kg_cap_y</th>\n",
       "      <th>poultry_import_ratio</th>\n",
       "      <th>edb_2019</th>\n",
       "    </tr>\n",
       "  </thead>\n",
       "  <tbody>\n",
       "    <tr>\n",
       "      <th>count</th>\n",
       "      <td>164.0</td>\n",
       "      <td>164.0</td>\n",
       "      <td>164.0</td>\n",
       "      <td>164.0</td>\n",
       "      <td>164.0</td>\n",
       "      <td>164.0</td>\n",
       "      <td>164.0</td>\n",
       "      <td>164.0</td>\n",
       "      <td>164.0</td>\n",
       "    </tr>\n",
       "    <tr>\n",
       "      <th>mean</th>\n",
       "      <td>42.0</td>\n",
       "      <td>107.4</td>\n",
       "      <td>42.4</td>\n",
       "      <td>81.1</td>\n",
       "      <td>2,850.4</td>\n",
       "      <td>14,104.7</td>\n",
       "      <td>20.3</td>\n",
       "      <td>38.1</td>\n",
       "      <td>63.7</td>\n",
       "    </tr>\n",
       "    <tr>\n",
       "      <th>std</th>\n",
       "      <td>149.8</td>\n",
       "      <td>6.8</td>\n",
       "      <td>16.2</td>\n",
       "      <td>20.3</td>\n",
       "      <td>443.5</td>\n",
       "      <td>19,645.9</td>\n",
       "      <td>16.4</td>\n",
       "      <td>41.1</td>\n",
       "      <td>12.4</td>\n",
       "    </tr>\n",
       "    <tr>\n",
       "      <th>min</th>\n",
       "      <td>0.1</td>\n",
       "      <td>95.9</td>\n",
       "      <td>9.8</td>\n",
       "      <td>37.7</td>\n",
       "      <td>1,879.0</td>\n",
       "      <td>314.7</td>\n",
       "      <td>0.4</td>\n",
       "      <td>0.0</td>\n",
       "      <td>30.6</td>\n",
       "    </tr>\n",
       "    <tr>\n",
       "      <th>25%</th>\n",
       "      <td>2.9</td>\n",
       "      <td>102.9</td>\n",
       "      <td>27.9</td>\n",
       "      <td>63.8</td>\n",
       "      <td>2,523.2</td>\n",
       "      <td>1,832.7</td>\n",
       "      <td>6.4</td>\n",
       "      <td>3.5</td>\n",
       "      <td>55.1</td>\n",
       "    </tr>\n",
       "    <tr>\n",
       "      <th>50%</th>\n",
       "      <td>9.5</td>\n",
       "      <td>106.6</td>\n",
       "      <td>45.1</td>\n",
       "      <td>80.9</td>\n",
       "      <td>2,821.5</td>\n",
       "      <td>6,093.5</td>\n",
       "      <td>18.2</td>\n",
       "      <td>26.0</td>\n",
       "      <td>63.3</td>\n",
       "    </tr>\n",
       "    <tr>\n",
       "      <th>75%</th>\n",
       "      <td>29.1</td>\n",
       "      <td>111.3</td>\n",
       "      <td>56.1</td>\n",
       "      <td>96.0</td>\n",
       "      <td>3,223.0</td>\n",
       "      <td>15,801.9</td>\n",
       "      <td>27.6</td>\n",
       "      <td>67.4</td>\n",
       "      <td>73.7</td>\n",
       "    </tr>\n",
       "    <tr>\n",
       "      <th>max</th>\n",
       "      <td>1,385.6</td>\n",
       "      <td>140.0</td>\n",
       "      <td>73.1</td>\n",
       "      <td>133.1</td>\n",
       "      <td>3,770.0</td>\n",
       "      <td>113,341.2</td>\n",
       "      <td>73.4</td>\n",
       "      <td>264.1</td>\n",
       "      <td>86.6</td>\n",
       "    </tr>\n",
       "  </tbody>\n",
       "</table>\n",
       "</div>"
      ],
      "text/plain": [
       "       pop_2013  pop_var  prot_ani_ratio  prot_g_cap_day  food_kcal_cap_day  \\\n",
       "count     164.0    164.0           164.0           164.0              164.0   \n",
       "mean       42.0    107.4            42.4            81.1            2,850.4   \n",
       "std       149.8      6.8            16.2            20.3              443.5   \n",
       "min         0.1     95.9             9.8            37.7            1,879.0   \n",
       "25%         2.9    102.9            27.9            63.8            2,523.2   \n",
       "50%         9.5    106.6            45.1            80.9            2,821.5   \n",
       "75%        29.1    111.3            56.1            96.0            3,223.0   \n",
       "max     1,385.6    140.0            73.1           133.1            3,770.0   \n",
       "\n",
       "       gdp_2013  poultry_food_kg_cap_y  poultry_import_ratio  edb_2019  \n",
       "count     164.0                  164.0                 164.0     164.0  \n",
       "mean   14,104.7                   20.3                  38.1      63.7  \n",
       "std    19,645.9                   16.4                  41.1      12.4  \n",
       "min       314.7                    0.4                   0.0      30.6  \n",
       "25%     1,832.7                    6.4                   3.5      55.1  \n",
       "50%     6,093.5                   18.2                  26.0      63.3  \n",
       "75%    15,801.9                   27.6                  67.4      73.7  \n",
       "max   113,341.2                   73.4                 264.1      86.6  "
      ]
     },
     "execution_count": 59,
     "metadata": {},
     "output_type": "execute_result"
    }
   ],
   "source": [
    "# pour le moment, je les exclue\n",
    "df_maxi = df_maxi.dropna()\n",
    "df_maxi.describe()"
   ]
  },
  {
   "cell_type": "code",
   "execution_count": 60,
   "metadata": {},
   "outputs": [
    {
     "name": "stdout",
     "output_type": "stream",
     "text": [
      "['pop_2013', 'pop_var', 'prot_ani_ratio', 'prot_g_cap_day', 'food_kcal_cap_day', 'gdp_2013', 'poultry_food_kg_cap_y', 'poultry_import_ratio', 'edb_2019']\n"
     ]
    }
   ],
   "source": [
    "cols = list(df_maxi.columns.values)\n",
    "print(cols)"
   ]
  },
  {
   "cell_type": "code",
   "execution_count": 61,
   "metadata": {},
   "outputs": [
    {
     "data": {
      "text/html": [
       "<div>\n",
       "<style scoped>\n",
       "    .dataframe tbody tr th:only-of-type {\n",
       "        vertical-align: middle;\n",
       "    }\n",
       "\n",
       "    .dataframe tbody tr th {\n",
       "        vertical-align: top;\n",
       "    }\n",
       "\n",
       "    .dataframe thead th {\n",
       "        text-align: right;\n",
       "    }\n",
       "</style>\n",
       "<table border=\"1\" class=\"dataframe\">\n",
       "  <thead>\n",
       "    <tr style=\"text-align: right;\">\n",
       "      <th></th>\n",
       "      <th>pop_2013</th>\n",
       "      <th>pop_var</th>\n",
       "      <th>gdp_2013</th>\n",
       "      <th>edb_2019</th>\n",
       "      <th>food_kcal_cap_day</th>\n",
       "      <th>prot_g_cap_day</th>\n",
       "      <th>prot_ani_ratio</th>\n",
       "      <th>poultry_food_kg_cap_y</th>\n",
       "      <th>poultry_import_ratio</th>\n",
       "    </tr>\n",
       "  </thead>\n",
       "  <tbody>\n",
       "    <tr>\n",
       "      <th>count</th>\n",
       "      <td>164.0</td>\n",
       "      <td>164.0</td>\n",
       "      <td>164.0</td>\n",
       "      <td>164.0</td>\n",
       "      <td>164.0</td>\n",
       "      <td>164.0</td>\n",
       "      <td>164.0</td>\n",
       "      <td>164.0</td>\n",
       "      <td>164.0</td>\n",
       "    </tr>\n",
       "    <tr>\n",
       "      <th>mean</th>\n",
       "      <td>42.0</td>\n",
       "      <td>107.4</td>\n",
       "      <td>14,104.7</td>\n",
       "      <td>63.7</td>\n",
       "      <td>2,850.4</td>\n",
       "      <td>81.1</td>\n",
       "      <td>42.4</td>\n",
       "      <td>20.3</td>\n",
       "      <td>38.1</td>\n",
       "    </tr>\n",
       "    <tr>\n",
       "      <th>std</th>\n",
       "      <td>149.8</td>\n",
       "      <td>6.8</td>\n",
       "      <td>19,645.9</td>\n",
       "      <td>12.4</td>\n",
       "      <td>443.5</td>\n",
       "      <td>20.3</td>\n",
       "      <td>16.2</td>\n",
       "      <td>16.4</td>\n",
       "      <td>41.1</td>\n",
       "    </tr>\n",
       "    <tr>\n",
       "      <th>min</th>\n",
       "      <td>0.1</td>\n",
       "      <td>95.9</td>\n",
       "      <td>314.7</td>\n",
       "      <td>30.6</td>\n",
       "      <td>1,879.0</td>\n",
       "      <td>37.7</td>\n",
       "      <td>9.8</td>\n",
       "      <td>0.4</td>\n",
       "      <td>0.0</td>\n",
       "    </tr>\n",
       "    <tr>\n",
       "      <th>25%</th>\n",
       "      <td>2.9</td>\n",
       "      <td>102.9</td>\n",
       "      <td>1,832.7</td>\n",
       "      <td>55.1</td>\n",
       "      <td>2,523.2</td>\n",
       "      <td>63.8</td>\n",
       "      <td>27.9</td>\n",
       "      <td>6.4</td>\n",
       "      <td>3.5</td>\n",
       "    </tr>\n",
       "    <tr>\n",
       "      <th>50%</th>\n",
       "      <td>9.5</td>\n",
       "      <td>106.6</td>\n",
       "      <td>6,093.5</td>\n",
       "      <td>63.3</td>\n",
       "      <td>2,821.5</td>\n",
       "      <td>80.9</td>\n",
       "      <td>45.1</td>\n",
       "      <td>18.2</td>\n",
       "      <td>26.0</td>\n",
       "    </tr>\n",
       "    <tr>\n",
       "      <th>75%</th>\n",
       "      <td>29.1</td>\n",
       "      <td>111.3</td>\n",
       "      <td>15,801.9</td>\n",
       "      <td>73.7</td>\n",
       "      <td>3,223.0</td>\n",
       "      <td>96.0</td>\n",
       "      <td>56.1</td>\n",
       "      <td>27.6</td>\n",
       "      <td>67.4</td>\n",
       "    </tr>\n",
       "    <tr>\n",
       "      <th>max</th>\n",
       "      <td>1,385.6</td>\n",
       "      <td>140.0</td>\n",
       "      <td>113,341.2</td>\n",
       "      <td>86.6</td>\n",
       "      <td>3,770.0</td>\n",
       "      <td>133.1</td>\n",
       "      <td>73.1</td>\n",
       "      <td>73.4</td>\n",
       "      <td>264.1</td>\n",
       "    </tr>\n",
       "  </tbody>\n",
       "</table>\n",
       "</div>"
      ],
      "text/plain": [
       "       pop_2013  pop_var  gdp_2013  edb_2019  food_kcal_cap_day  \\\n",
       "count     164.0    164.0     164.0     164.0              164.0   \n",
       "mean       42.0    107.4  14,104.7      63.7            2,850.4   \n",
       "std       149.8      6.8  19,645.9      12.4              443.5   \n",
       "min         0.1     95.9     314.7      30.6            1,879.0   \n",
       "25%         2.9    102.9   1,832.7      55.1            2,523.2   \n",
       "50%         9.5    106.6   6,093.5      63.3            2,821.5   \n",
       "75%        29.1    111.3  15,801.9      73.7            3,223.0   \n",
       "max     1,385.6    140.0 113,341.2      86.6            3,770.0   \n",
       "\n",
       "       prot_g_cap_day  prot_ani_ratio  poultry_food_kg_cap_y  \\\n",
       "count           164.0           164.0                  164.0   \n",
       "mean             81.1            42.4                   20.3   \n",
       "std              20.3            16.2                   16.4   \n",
       "min              37.7             9.8                    0.4   \n",
       "25%              63.8            27.9                    6.4   \n",
       "50%              80.9            45.1                   18.2   \n",
       "75%              96.0            56.1                   27.6   \n",
       "max             133.1            73.1                   73.4   \n",
       "\n",
       "       poultry_import_ratio  \n",
       "count                 164.0  \n",
       "mean                   38.1  \n",
       "std                    41.1  \n",
       "min                     0.0  \n",
       "25%                     3.5  \n",
       "50%                    26.0  \n",
       "75%                    67.4  \n",
       "max                   264.1  "
      ]
     },
     "execution_count": 61,
     "metadata": {},
     "output_type": "execute_result"
    }
   ],
   "source": [
    "# réorganisation des variables\n",
    "df_maxi = df_maxi[['pop_2013', 'pop_var', 'gdp_2013', 'edb_2019', 'food_kcal_cap_day', 'prot_g_cap_day', 'prot_ani_ratio', \n",
    "                   'poultry_food_kg_cap_y', 'poultry_import_ratio']]\n",
    "\n",
    "#export\n",
    "df_maxi.to_csv('data/df_maxi.csv')\n",
    "df_maxi.describe()"
   ]
  },
  {
   "cell_type": "markdown",
   "metadata": {},
   "source": [
    "## Boxplots des variables retenues"
   ]
  },
  {
   "cell_type": "markdown",
   "metadata": {},
   "source": [
    "### Variables imposées"
   ]
  },
  {
   "cell_type": "code",
   "execution_count": 62,
   "metadata": {},
   "outputs": [
    {
     "data": {
      "text/html": [
       "<div>\n",
       "<style scoped>\n",
       "    .dataframe tbody tr th:only-of-type {\n",
       "        vertical-align: middle;\n",
       "    }\n",
       "\n",
       "    .dataframe tbody tr th {\n",
       "        vertical-align: top;\n",
       "    }\n",
       "\n",
       "    .dataframe thead th {\n",
       "        text-align: right;\n",
       "    }\n",
       "</style>\n",
       "<table border=\"1\" class=\"dataframe\">\n",
       "  <thead>\n",
       "    <tr style=\"text-align: right;\">\n",
       "      <th></th>\n",
       "      <th>pop_2013</th>\n",
       "      <th>pop_var</th>\n",
       "      <th>prot_ani_ratio</th>\n",
       "      <th>prot_g_cap_day</th>\n",
       "      <th>food_kcal_cap_day</th>\n",
       "    </tr>\n",
       "  </thead>\n",
       "  <tbody>\n",
       "    <tr>\n",
       "      <th>count</th>\n",
       "      <td>173.0</td>\n",
       "      <td>173.0</td>\n",
       "      <td>173.0</td>\n",
       "      <td>173.0</td>\n",
       "      <td>173.0</td>\n",
       "    </tr>\n",
       "    <tr>\n",
       "      <th>mean</th>\n",
       "      <td>40.2</td>\n",
       "      <td>107.2</td>\n",
       "      <td>42.8</td>\n",
       "      <td>81.4</td>\n",
       "      <td>2,850.3</td>\n",
       "    </tr>\n",
       "    <tr>\n",
       "      <th>std</th>\n",
       "      <td>146.0</td>\n",
       "      <td>6.7</td>\n",
       "      <td>16.2</td>\n",
       "      <td>20.0</td>\n",
       "      <td>438.1</td>\n",
       "    </tr>\n",
       "    <tr>\n",
       "      <th>min</th>\n",
       "      <td>0.1</td>\n",
       "      <td>95.9</td>\n",
       "      <td>9.8</td>\n",
       "      <td>37.7</td>\n",
       "      <td>1,879.0</td>\n",
       "    </tr>\n",
       "    <tr>\n",
       "      <th>25%</th>\n",
       "      <td>2.3</td>\n",
       "      <td>102.7</td>\n",
       "      <td>28.5</td>\n",
       "      <td>64.3</td>\n",
       "      <td>2,537.0</td>\n",
       "    </tr>\n",
       "    <tr>\n",
       "      <th>50%</th>\n",
       "      <td>9.4</td>\n",
       "      <td>106.5</td>\n",
       "      <td>45.1</td>\n",
       "      <td>81.6</td>\n",
       "      <td>2,833.0</td>\n",
       "    </tr>\n",
       "    <tr>\n",
       "      <th>75%</th>\n",
       "      <td>27.8</td>\n",
       "      <td>110.7</td>\n",
       "      <td>56.5</td>\n",
       "      <td>95.0</td>\n",
       "      <td>3,188.0</td>\n",
       "    </tr>\n",
       "    <tr>\n",
       "      <th>max</th>\n",
       "      <td>1,385.6</td>\n",
       "      <td>140.0</td>\n",
       "      <td>73.1</td>\n",
       "      <td>133.1</td>\n",
       "      <td>3,770.0</td>\n",
       "    </tr>\n",
       "  </tbody>\n",
       "</table>\n",
       "</div>"
      ],
      "text/plain": [
       "       pop_2013  pop_var  prot_ani_ratio  prot_g_cap_day  food_kcal_cap_day\n",
       "count     173.0    173.0           173.0           173.0              173.0\n",
       "mean       40.2    107.2            42.8            81.4            2,850.3\n",
       "std       146.0      6.7            16.2            20.0              438.1\n",
       "min         0.1     95.9             9.8            37.7            1,879.0\n",
       "25%         2.3    102.7            28.5            64.3            2,537.0\n",
       "50%         9.4    106.5            45.1            81.6            2,833.0\n",
       "75%        27.8    110.7            56.5            95.0            3,188.0\n",
       "max     1,385.6    140.0            73.1           133.1            3,770.0"
      ]
     },
     "execution_count": 62,
     "metadata": {},
     "output_type": "execute_result"
    }
   ],
   "source": [
    "# import des données du 'df_mini'\n",
    "p = pd.read_csv('data/df_mini.csv')\n",
    "p.describe()"
   ]
  },
  {
   "cell_type": "code",
   "execution_count": 63,
   "metadata": {},
   "outputs": [
    {
     "data": {
      "text/html": [
       "<div>\n",
       "<style scoped>\n",
       "    .dataframe tbody tr th:only-of-type {\n",
       "        vertical-align: middle;\n",
       "    }\n",
       "\n",
       "    .dataframe tbody tr th {\n",
       "        vertical-align: top;\n",
       "    }\n",
       "\n",
       "    .dataframe thead th {\n",
       "        text-align: right;\n",
       "    }\n",
       "</style>\n",
       "<table border=\"1\" class=\"dataframe\">\n",
       "  <thead>\n",
       "    <tr style=\"text-align: right;\">\n",
       "      <th></th>\n",
       "      <th>pop_2013</th>\n",
       "      <th>pop_var</th>\n",
       "      <th>prot_ani_ratio</th>\n",
       "      <th>prot_g_cap_day</th>\n",
       "      <th>food_kcal_cap_day</th>\n",
       "    </tr>\n",
       "  </thead>\n",
       "  <tbody>\n",
       "    <tr>\n",
       "      <th>count</th>\n",
       "      <td>173.0</td>\n",
       "      <td>173.0</td>\n",
       "      <td>173.0</td>\n",
       "      <td>173.0</td>\n",
       "      <td>173.0</td>\n",
       "    </tr>\n",
       "    <tr>\n",
       "      <th>mean</th>\n",
       "      <td>40.2</td>\n",
       "      <td>107.2</td>\n",
       "      <td>42.8</td>\n",
       "      <td>81.4</td>\n",
       "      <td>2,850.3</td>\n",
       "    </tr>\n",
       "    <tr>\n",
       "      <th>std</th>\n",
       "      <td>146.0</td>\n",
       "      <td>6.7</td>\n",
       "      <td>16.2</td>\n",
       "      <td>20.0</td>\n",
       "      <td>438.1</td>\n",
       "    </tr>\n",
       "    <tr>\n",
       "      <th>min</th>\n",
       "      <td>0.1</td>\n",
       "      <td>95.9</td>\n",
       "      <td>9.8</td>\n",
       "      <td>37.7</td>\n",
       "      <td>1,879.0</td>\n",
       "    </tr>\n",
       "    <tr>\n",
       "      <th>25%</th>\n",
       "      <td>2.3</td>\n",
       "      <td>102.7</td>\n",
       "      <td>28.5</td>\n",
       "      <td>64.3</td>\n",
       "      <td>2,537.0</td>\n",
       "    </tr>\n",
       "    <tr>\n",
       "      <th>50%</th>\n",
       "      <td>9.4</td>\n",
       "      <td>106.5</td>\n",
       "      <td>45.1</td>\n",
       "      <td>81.6</td>\n",
       "      <td>2,833.0</td>\n",
       "    </tr>\n",
       "    <tr>\n",
       "      <th>75%</th>\n",
       "      <td>27.8</td>\n",
       "      <td>110.7</td>\n",
       "      <td>56.5</td>\n",
       "      <td>95.0</td>\n",
       "      <td>3,188.0</td>\n",
       "    </tr>\n",
       "    <tr>\n",
       "      <th>max</th>\n",
       "      <td>1,385.6</td>\n",
       "      <td>140.0</td>\n",
       "      <td>73.1</td>\n",
       "      <td>133.1</td>\n",
       "      <td>3,770.0</td>\n",
       "    </tr>\n",
       "  </tbody>\n",
       "</table>\n",
       "</div>"
      ],
      "text/plain": [
       "       pop_2013  pop_var  prot_ani_ratio  prot_g_cap_day  food_kcal_cap_day\n",
       "count     173.0    173.0           173.0           173.0              173.0\n",
       "mean       40.2    107.2            42.8            81.4            2,850.3\n",
       "std       146.0      6.7            16.2            20.0              438.1\n",
       "min         0.1     95.9             9.8            37.7            1,879.0\n",
       "25%         2.3    102.7            28.5            64.3            2,537.0\n",
       "50%         9.4    106.5            45.1            81.6            2,833.0\n",
       "75%        27.8    110.7            56.5            95.0            3,188.0\n",
       "max     1,385.6    140.0            73.1           133.1            3,770.0"
      ]
     },
     "execution_count": 63,
     "metadata": {},
     "output_type": "execute_result"
    }
   ],
   "source": [
    "# import des données du 'df_mini'\n",
    "p = pd.read_csv('data/df_mini.csv')\n",
    "p.describe()"
   ]
  },
  {
   "cell_type": "markdown",
   "metadata": {},
   "source": [
    "* **Les variables ont des valeurs trop différentes pour être représentées ensemble**\n",
    "* **On fait une graphique par variable**"
   ]
  },
  {
   "cell_type": "code",
   "execution_count": 64,
   "metadata": {},
   "outputs": [
    {
     "data": {
      "text/html": [
       "<div>\n",
       "<style scoped>\n",
       "    .dataframe tbody tr th:only-of-type {\n",
       "        vertical-align: middle;\n",
       "    }\n",
       "\n",
       "    .dataframe tbody tr th {\n",
       "        vertical-align: top;\n",
       "    }\n",
       "\n",
       "    .dataframe thead th {\n",
       "        text-align: right;\n",
       "    }\n",
       "</style>\n",
       "<table border=\"1\" class=\"dataframe\">\n",
       "  <thead>\n",
       "    <tr style=\"text-align: right;\">\n",
       "      <th></th>\n",
       "      <th>country</th>\n",
       "      <th>measure</th>\n",
       "      <th>value</th>\n",
       "    </tr>\n",
       "  </thead>\n",
       "  <tbody>\n",
       "    <tr>\n",
       "      <th>0</th>\n",
       "      <td>Armenia</td>\n",
       "      <td>pop_2013</td>\n",
       "      <td>3.0</td>\n",
       "    </tr>\n",
       "    <tr>\n",
       "      <th>1</th>\n",
       "      <td>Afghanistan</td>\n",
       "      <td>pop_2013</td>\n",
       "      <td>30.6</td>\n",
       "    </tr>\n",
       "  </tbody>\n",
       "</table>\n",
       "</div>"
      ],
      "text/plain": [
       "       country   measure  value\n",
       "0      Armenia  pop_2013    3.0\n",
       "1  Afghanistan  pop_2013   30.6"
      ]
     },
     "execution_count": 64,
     "metadata": {},
     "output_type": "execute_result"
    }
   ],
   "source": [
    "# melt : pivot des variables dans une colonne 'measure' et 'value'\n",
    "pivot=p.melt(id_vars=['country'], var_name='measure')\n",
    "pivot.reset_index()\n",
    "pivot.head(2)"
   ]
  },
  {
   "cell_type": "code",
   "execution_count": 65,
   "metadata": {},
   "outputs": [],
   "source": [
    "# création d'un df par variable\n",
    "p1=pivot.groupby('measure').get_group('pop_2013') \n",
    "p2=pivot.groupby('measure').get_group('pop_var') \n",
    "p3=pivot.groupby('measure').get_group('prot_ani_ratio') \n",
    "p4=pivot.groupby('measure').get_group('prot_g_cap_day') \n",
    "p5=pivot.groupby('measure').get_group('food_kcal_cap_day')"
   ]
  },
  {
   "cell_type": "markdown",
   "metadata": {},
   "source": [
    "#### pop_2013"
   ]
  },
  {
   "cell_type": "code",
   "execution_count": 66,
   "metadata": {},
   "outputs": [
    {
     "data": {
      "image/png": "[encoded data removed]",
      "text/plain": [
       "<Figure size 86.4x432 with 1 Axes>"
      ]
     },
     "metadata": {},
     "output_type": "display_data"
    }
   ],
   "source": [
    "# sélection de 'pop_2013'\n",
    "sns.set_style(\"whitegrid\")\n",
    "plt.figure(figsize=(1.2,6))\n",
    "#plt.title(\"pop_var\", fontsize=12, color = 'navy')\n",
    "plt.xlabel(\"pop_2013\",color='dimgrey', size=12)\n",
    "\n",
    "# plot 'pop_2013'\n",
    "sns.boxplot(data=p1,width =0.7, color=\"tan\")\n",
    "sns.swarmplot(data=p1, color=\"royalblue\")\n",
    "\n",
    "plt.savefig('img/P5.1_boxplot1.png', dpi=120, bbox_inches='tight')\n",
    "\n",
    "plt.show()\n",
    "plt.close()"
   ]
  },
  {
   "cell_type": "markdown",
   "metadata": {},
   "source": [
    "#### pop_var"
   ]
  },
  {
   "cell_type": "code",
   "execution_count": 67,
   "metadata": {},
   "outputs": [
    {
     "data": {
      "image/png": "[encoded data removed]",
      "text/plain": [
       "<Figure size 86.4x432 with 1 Axes>"
      ]
     },
     "metadata": {},
     "output_type": "display_data"
    }
   ],
   "source": [
    "# sélection de 'pop_var'\n",
    "sns.set_style(\"whitegrid\")\n",
    "plt.figure(figsize=(1.2,6))\n",
    "#plt.title(\"pop_var\", fontsize=12, color = 'navy')\n",
    "plt.xlabel(\"pop_var\",color='dimgrey', size=12)\n",
    "\n",
    "# plot 'pop_var'\n",
    "sns.boxplot(data=p2,width =0.7, color=\"tan\")\n",
    "sns.swarmplot(data=p2, color=\"royalblue\")\n",
    "\n",
    "plt.savefig('img/P5.1_boxplot2.png', dpi=120, bbox_inches='tight')\n",
    "\n",
    "plt.show()\n",
    "plt.close()"
   ]
  },
  {
   "cell_type": "markdown",
   "metadata": {},
   "source": [
    "#### prot_ani_ratio"
   ]
  },
  {
   "cell_type": "code",
   "execution_count": 68,
   "metadata": {},
   "outputs": [
    {
     "data": {
      "image/png": "[encoded data removed]",
      "text/plain": [
       "<Figure size 86.4x432 with 1 Axes>"
      ]
     },
     "metadata": {},
     "output_type": "display_data"
    }
   ],
   "source": [
    "# sélection de 'prot_ani_ratio'\n",
    "sns.set_style(\"whitegrid\")\n",
    "plt.figure(figsize=(1.2,6))\n",
    "#plt.title(\"pop_var\", fontsize=12, color = 'navy')\n",
    "plt.xlabel(\"prot_ani_ratio\",color='dimgrey', size=12)\n",
    "\n",
    "# plot 'prot_ani_ratio'\n",
    "sns.boxplot(data=p3,width =0.7, color=\"tan\")\n",
    "sns.swarmplot(data=p3, color=\"royalblue\")\n",
    "\n",
    "plt.savefig('img/P5.1_boxplot3.png', dpi=120, bbox_inches='tight')\n",
    "\n",
    "plt.show()\n",
    "plt.close()"
   ]
  },
  {
   "cell_type": "markdown",
   "metadata": {},
   "source": [
    "#### prot_g_cap_day"
   ]
  },
  {
   "cell_type": "code",
   "execution_count": 69,
   "metadata": {},
   "outputs": [
    {
     "data": {
      "image/png": "[encoded data removed]",
      "text/plain": [
       "<Figure size 86.4x432 with 1 Axes>"
      ]
     },
     "metadata": {},
     "output_type": "display_data"
    }
   ],
   "source": [
    "# sélection de 'prot_g_cap_day'\n",
    "sns.set_style(\"whitegrid\")\n",
    "plt.figure(figsize=(1.2,6))\n",
    "#plt.title(\"pop_var\", fontsize=12,prot_g_cap_daylor = 'navy')\n",
    "plt.xlabel(\"prot_g_cap_day\",color='dimgrey', size=12)\n",
    "\n",
    "# plot 'prot_g_cap_day'\n",
    "sns.boxplot(data=p4,width =0.7, color=\"tan\")\n",
    "sns.swarmplot(data=p4, color=\"royalblue\")\n",
    "\n",
    "plt.savefig('img/P5.1_boxplot4.png', dpi=120, bbox_inches='tight')\n",
    "\n",
    "plt.show()\n",
    "plt.close()"
   ]
  },
  {
   "cell_type": "markdown",
   "metadata": {},
   "source": [
    "#### food_kcal_cap_day"
   ]
  },
  {
   "cell_type": "code",
   "execution_count": 70,
   "metadata": {
    "scrolled": false
   },
   "outputs": [
    {
     "data": {
      "image/png": "[encoded data removed]",
      "text/plain": [
       "<Figure size 86.4x432 with 1 Axes>"
      ]
     },
     "metadata": {},
     "output_type": "display_data"
    }
   ],
   "source": [
    "# sélection de 'food_kcal_cap_day'\n",
    "sns.set_style(\"whitegrid\")\n",
    "plt.figure(figsize=(1.2,6))\n",
    "#plt.title(\"pop_var\", fontsize=12,prot_g_cap_daylor = 'navy')\n",
    "plt.xlabel(\"food_kcal_cap_day\",color='dimgrey', size=12)\n",
    "\n",
    "# plot 'food_kcal_cap_day'\n",
    "sns.boxplot(data=p5, width =0.7, color=\"tan\")\n",
    "sns.swarmplot(data=p5, color=\"royalblue\")\n",
    "\n",
    "plt.savefig('img/P5.1_boxplot5.png', dpi=120, bbox_inches='tight')\n",
    "\n",
    "plt.show()\n",
    "plt.close()"
   ]
  },
  {
   "cell_type": "markdown",
   "metadata": {},
   "source": [
    "### Variables personnelles"
   ]
  },
  {
   "cell_type": "code",
   "execution_count": 71,
   "metadata": {},
   "outputs": [
    {
     "data": {
      "text/html": [
       "<div>\n",
       "<style scoped>\n",
       "    .dataframe tbody tr th:only-of-type {\n",
       "        vertical-align: middle;\n",
       "    }\n",
       "\n",
       "    .dataframe tbody tr th {\n",
       "        vertical-align: top;\n",
       "    }\n",
       "\n",
       "    .dataframe thead th {\n",
       "        text-align: right;\n",
       "    }\n",
       "</style>\n",
       "<table border=\"1\" class=\"dataframe\">\n",
       "  <thead>\n",
       "    <tr style=\"text-align: right;\">\n",
       "      <th></th>\n",
       "      <th>gdp_2013</th>\n",
       "      <th>edb_2019</th>\n",
       "      <th>poultry_food_kg_cap_y</th>\n",
       "      <th>poultry_import_ratio</th>\n",
       "    </tr>\n",
       "  </thead>\n",
       "  <tbody>\n",
       "    <tr>\n",
       "      <th>count</th>\n",
       "      <td>164.0</td>\n",
       "      <td>164.0</td>\n",
       "      <td>164.0</td>\n",
       "      <td>164.0</td>\n",
       "    </tr>\n",
       "    <tr>\n",
       "      <th>mean</th>\n",
       "      <td>14,104.7</td>\n",
       "      <td>63.7</td>\n",
       "      <td>20.3</td>\n",
       "      <td>38.1</td>\n",
       "    </tr>\n",
       "    <tr>\n",
       "      <th>std</th>\n",
       "      <td>19,645.9</td>\n",
       "      <td>12.4</td>\n",
       "      <td>16.4</td>\n",
       "      <td>41.1</td>\n",
       "    </tr>\n",
       "    <tr>\n",
       "      <th>min</th>\n",
       "      <td>314.7</td>\n",
       "      <td>30.6</td>\n",
       "      <td>0.4</td>\n",
       "      <td>0.0</td>\n",
       "    </tr>\n",
       "    <tr>\n",
       "      <th>25%</th>\n",
       "      <td>1,832.7</td>\n",
       "      <td>55.1</td>\n",
       "      <td>6.4</td>\n",
       "      <td>3.5</td>\n",
       "    </tr>\n",
       "    <tr>\n",
       "      <th>50%</th>\n",
       "      <td>6,093.5</td>\n",
       "      <td>63.3</td>\n",
       "      <td>18.2</td>\n",
       "      <td>26.0</td>\n",
       "    </tr>\n",
       "    <tr>\n",
       "      <th>75%</th>\n",
       "      <td>15,801.9</td>\n",
       "      <td>73.7</td>\n",
       "      <td>27.6</td>\n",
       "      <td>67.4</td>\n",
       "    </tr>\n",
       "    <tr>\n",
       "      <th>max</th>\n",
       "      <td>113,341.2</td>\n",
       "      <td>86.6</td>\n",
       "      <td>73.4</td>\n",
       "      <td>264.1</td>\n",
       "    </tr>\n",
       "  </tbody>\n",
       "</table>\n",
       "</div>"
      ],
      "text/plain": [
       "       gdp_2013  edb_2019  poultry_food_kg_cap_y  poultry_import_ratio\n",
       "count     164.0     164.0                  164.0                 164.0\n",
       "mean   14,104.7      63.7                   20.3                  38.1\n",
       "std    19,645.9      12.4                   16.4                  41.1\n",
       "min       314.7      30.6                    0.4                   0.0\n",
       "25%     1,832.7      55.1                    6.4                   3.5\n",
       "50%     6,093.5      63.3                   18.2                  26.0\n",
       "75%    15,801.9      73.7                   27.6                  67.4\n",
       "max   113,341.2      86.6                   73.4                 264.1"
      ]
     },
     "execution_count": 71,
     "metadata": {},
     "output_type": "execute_result"
    }
   ],
   "source": [
    "# import des données du 'df_mini'\n",
    "q = pd.read_csv('data/df_maxi.csv')\n",
    "# supression des valeurs déjà exprimées dans 'df_mini'\n",
    "q.drop(['pop_2013','pop_var','food_kcal_cap_day','prot_g_cap_day','prot_ani_ratio'], axis=1, inplace = True)\n",
    "q.describe()"
   ]
  },
  {
   "cell_type": "code",
   "execution_count": 72,
   "metadata": {},
   "outputs": [
    {
     "data": {
      "text/html": [
       "<div>\n",
       "<style scoped>\n",
       "    .dataframe tbody tr th:only-of-type {\n",
       "        vertical-align: middle;\n",
       "    }\n",
       "\n",
       "    .dataframe tbody tr th {\n",
       "        vertical-align: top;\n",
       "    }\n",
       "\n",
       "    .dataframe thead th {\n",
       "        text-align: right;\n",
       "    }\n",
       "</style>\n",
       "<table border=\"1\" class=\"dataframe\">\n",
       "  <thead>\n",
       "    <tr style=\"text-align: right;\">\n",
       "      <th></th>\n",
       "      <th>country</th>\n",
       "      <th>gdp_2013</th>\n",
       "      <th>edb_2019</th>\n",
       "      <th>poultry_food_kg_cap_y</th>\n",
       "      <th>poultry_import_ratio</th>\n",
       "    </tr>\n",
       "  </thead>\n",
       "  <tbody>\n",
       "    <tr>\n",
       "      <th>60</th>\n",
       "      <td>China, Hong Kong SAR</td>\n",
       "      <td>38,566.7</td>\n",
       "      <td>84.2</td>\n",
       "      <td>54.8</td>\n",
       "      <td>264.1</td>\n",
       "    </tr>\n",
       "    <tr>\n",
       "      <th>160</th>\n",
       "      <td>Belgium</td>\n",
       "      <td>46,713.5</td>\n",
       "      <td>74.0</td>\n",
       "      <td>12.2</td>\n",
       "      <td>176.2</td>\n",
       "    </tr>\n",
       "    <tr>\n",
       "      <th>102</th>\n",
       "      <td>Netherlands</td>\n",
       "      <td>51,466.5</td>\n",
       "      <td>76.0</td>\n",
       "      <td>23.9</td>\n",
       "      <td>132.4</td>\n",
       "    </tr>\n",
       "    <tr>\n",
       "      <th>143</th>\n",
       "      <td>Oman</td>\n",
       "      <td>21,268.8</td>\n",
       "      <td>67.2</td>\n",
       "      <td>31.4</td>\n",
       "      <td>103.5</td>\n",
       "    </tr>\n",
       "    <tr>\n",
       "      <th>45</th>\n",
       "      <td>Djibouti</td>\n",
       "      <td>1,553.2</td>\n",
       "      <td>62.0</td>\n",
       "      <td>2.3</td>\n",
       "      <td>100.0</td>\n",
       "    </tr>\n",
       "  </tbody>\n",
       "</table>\n",
       "</div>"
      ],
      "text/plain": [
       "                  country  gdp_2013  edb_2019  poultry_food_kg_cap_y  \\\n",
       "60   China, Hong Kong SAR  38,566.7      84.2                   54.8   \n",
       "160               Belgium  46,713.5      74.0                   12.2   \n",
       "102           Netherlands  51,466.5      76.0                   23.9   \n",
       "143                  Oman  21,268.8      67.2                   31.4   \n",
       "45               Djibouti   1,553.2      62.0                    2.3   \n",
       "\n",
       "     poultry_import_ratio  \n",
       "60                  264.1  \n",
       "160                 176.2  \n",
       "102                 132.4  \n",
       "143                 103.5  \n",
       "45                  100.0  "
      ]
     },
     "execution_count": 72,
     "metadata": {},
     "output_type": "execute_result"
    }
   ],
   "source": [
    "q.sort_values(by=['poultry_import_ratio'], inplace=True, ascending=False)\n",
    "q.head()"
   ]
  },
  {
   "cell_type": "code",
   "execution_count": 73,
   "metadata": {},
   "outputs": [
    {
     "data": {
      "text/html": [
       "<div>\n",
       "<style scoped>\n",
       "    .dataframe tbody tr th:only-of-type {\n",
       "        vertical-align: middle;\n",
       "    }\n",
       "\n",
       "    .dataframe tbody tr th {\n",
       "        vertical-align: top;\n",
       "    }\n",
       "\n",
       "    .dataframe thead th {\n",
       "        text-align: right;\n",
       "    }\n",
       "</style>\n",
       "<table border=\"1\" class=\"dataframe\">\n",
       "  <thead>\n",
       "    <tr style=\"text-align: right;\">\n",
       "      <th></th>\n",
       "      <th>country</th>\n",
       "      <th>measure</th>\n",
       "      <th>value</th>\n",
       "    </tr>\n",
       "  </thead>\n",
       "  <tbody>\n",
       "    <tr>\n",
       "      <th>0</th>\n",
       "      <td>China, Hong Kong SAR</td>\n",
       "      <td>gdp_2013</td>\n",
       "      <td>38,566.7</td>\n",
       "    </tr>\n",
       "    <tr>\n",
       "      <th>1</th>\n",
       "      <td>Belgium</td>\n",
       "      <td>gdp_2013</td>\n",
       "      <td>46,713.5</td>\n",
       "    </tr>\n",
       "  </tbody>\n",
       "</table>\n",
       "</div>"
      ],
      "text/plain": [
       "                country   measure    value\n",
       "0  China, Hong Kong SAR  gdp_2013 38,566.7\n",
       "1               Belgium  gdp_2013 46,713.5"
      ]
     },
     "execution_count": 73,
     "metadata": {},
     "output_type": "execute_result"
    }
   ],
   "source": [
    "# melt : pivot des variables dans une colonne 'measure' et 'value'\n",
    "pivot2=q.melt(id_vars=['country'], var_name='measure')\n",
    "pivot2.reset_index()\n",
    "pivot2.head(2)"
   ]
  },
  {
   "cell_type": "code",
   "execution_count": 74,
   "metadata": {},
   "outputs": [],
   "source": [
    "# création d'un df par variable\n",
    "q1=pivot2.groupby('measure').get_group('gdp_2013') \n",
    "q2=pivot2.groupby('measure').get_group('edb_2019') \n",
    "q3=pivot2.groupby('measure').get_group('poultry_food_kg_cap_y') \n",
    "q4=pivot2.groupby('measure').get_group('poultry_import_ratio')"
   ]
  },
  {
   "cell_type": "markdown",
   "metadata": {},
   "source": [
    "#### gdp_2013"
   ]
  },
  {
   "cell_type": "code",
   "execution_count": 75,
   "metadata": {},
   "outputs": [
    {
     "data": {
      "image/png": "[encoded data removed]",
      "text/plain": [
       "<Figure size 86.4x432 with 1 Axes>"
      ]
     },
     "metadata": {},
     "output_type": "display_data"
    }
   ],
   "source": [
    "# sélection de 'gdp_2013'\n",
    "sns.set_style(\"whitegrid\")\n",
    "plt.figure(figsize=(1.2,6))\n",
    "#plt.title(\"pop_var\", fontsize=12, color = 'navy')\n",
    "plt.xlabel(\"gdp_2013\",color='dimgrey', size=12)\n",
    "\n",
    "# plot 'pop_2013'\n",
    "sns.boxplot(data=q1,width =0.7, color=\"tan\")\n",
    "sns.swarmplot(data=q1, color=\"royalblue\")\n",
    "\n",
    "plt.savefig('img/P5.1_boxplot6.png', dpi=120, bbox_inches='tight')\n",
    "\n",
    "plt.show()\n",
    "plt.close()"
   ]
  },
  {
   "cell_type": "markdown",
   "metadata": {},
   "source": [
    "#### edb_2013"
   ]
  },
  {
   "cell_type": "code",
   "execution_count": 76,
   "metadata": {},
   "outputs": [
    {
     "data": {
      "image/png": "[encoded data removed]",
      "text/plain": [
       "<Figure size 86.4x432 with 1 Axes>"
      ]
     },
     "metadata": {},
     "output_type": "display_data"
    }
   ],
   "source": [
    "# sélection de 'gdp_2013'\n",
    "sns.set_style(\"whitegrid\")\n",
    "plt.figure(figsize=(1.2,6))\n",
    "#plt.title(\"pop_var\", fontsize=12, color = 'navy')\n",
    "plt.xlabel(\"edb_2019\",color='dimgrey', size=12)\n",
    "\n",
    "# plot 'pop_2013'\n",
    "sns.boxplot(data=q2,width =0.7, color=\"tan\")\n",
    "sns.swarmplot(data=q2, color=\"royalblue\")\n",
    "\n",
    "plt.savefig('img/P5.1_boxplot7.png', dpi=120, bbox_inches='tight')\n",
    "\n",
    "plt.show()\n",
    "plt.close()"
   ]
  },
  {
   "cell_type": "markdown",
   "metadata": {},
   "source": [
    "#### poultry_food_kg_cap_y"
   ]
  },
  {
   "cell_type": "code",
   "execution_count": 77,
   "metadata": {},
   "outputs": [
    {
     "data": {
      "image/png": "[encoded data removed]",
      "text/plain": [
       "<Figure size 86.4x432 with 1 Axes>"
      ]
     },
     "metadata": {},
     "output_type": "display_data"
    }
   ],
   "source": [
    "# sélection de 'poultry_food_kg_cap_y'\n",
    "sns.set_style(\"whitegrid\")\n",
    "plt.figure(figsize=(1.2,6))\n",
    "#plt.title(\"pop_var\", fontsize=12, color = 'navy')\n",
    "plt.xlabel(\"poultry_food_kg_cap_y\",color='dimgrey', size=12)\n",
    "\n",
    "# plot 'pop_2013'\n",
    "sns.boxplot(data=q3,width =0.7, color=\"tan\")\n",
    "sns.swarmplot(data=q3, color=\"royalblue\")\n",
    "\n",
    "plt.savefig('img/P5.1_boxplot8.png', dpi=120, bbox_inches='tight')\n",
    "\n",
    "plt.show()\n",
    "plt.close()"
   ]
  },
  {
   "cell_type": "markdown",
   "metadata": {},
   "source": [
    "#### poultry_import_ratio"
   ]
  },
  {
   "cell_type": "code",
   "execution_count": 78,
   "metadata": {},
   "outputs": [
    {
     "data": {
      "image/png": "[encoded data removed]",
      "text/plain": [
       "<Figure size 86.4x432 with 1 Axes>"
      ]
     },
     "metadata": {},
     "output_type": "display_data"
    }
   ],
   "source": [
    "# sélection de 'poultry_food_kg_cap_y'\n",
    "sns.set_style(\"whitegrid\")\n",
    "plt.figure(figsize=(1.2,6))\n",
    "#plt.title(\"pop_var\", fontsize=12, color = 'navy')\n",
    "plt.xlabel(\"poultry_import_ratio\",color='dimgrey', size=12)\n",
    "\n",
    "# plot 'pop_2013'\n",
    "sns.boxplot(data=q4,width =0.7, color=\"tan\")\n",
    "sns.swarmplot(data=q4, color=\"royalblue\")\n",
    "\n",
    "plt.savefig('img/P5.1_boxplot9.png', dpi=120, bbox_inches='tight')\n",
    "\n",
    "plt.show()\n",
    "plt.close()"
   ]
  },
  {
   "cell_type": "code",
   "execution_count": null,
   "metadata": {},
   "outputs": [],
   "source": []
  }
 ],
 "metadata": {
  "celltoolbar": "Aucun(e)",
  "kernelspec": {
   "display_name": "Python 3",
   "language": "python",
   "name": "python3"
  },
  "language_info": {
   "codemirror_mode": {
    "name": "ipython",
    "version": 3
   },
   "file_extension": ".py",
   "mimetype": "text/x-python",
   "name": "python",
   "nbconvert_exporter": "python",
   "pygments_lexer": "ipython3",
   "version": "3.7.1"
  },
  "toc": {
   "base_numbering": 1,
   "nav_menu": {},
   "number_sections": true,
   "sideBar": true,
   "skip_h1_title": true,
   "title_cell": "Table des matières",
   "title_sidebar": "TDM",
   "toc_cell": true,
   "toc_position": {
    "height": "calc(100% - 180px)",
    "left": "10px",
    "top": "150px",
    "width": "231.4px"
   },
   "toc_section_display": true,
   "toc_window_display": true
  }
 },
 "nbformat": 4,
 "nbformat_minor": 2
}
