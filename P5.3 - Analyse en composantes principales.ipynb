{
 "cells": [
  {
   "cell_type": "markdown",
   "metadata": {
    "toc": true
   },
   "source": [
    "<h1>Table of Contents<span class=\"tocSkip\"></span></h1>\n",
    "<div class=\"toc\"><ul class=\"toc-item\"><li><span><a href=\"#Importation-des-données\" data-toc-modified-id=\"Importation-des-données-1\"><span class=\"toc-item-num\">1&nbsp;&nbsp;</span>Importation des données</a></span></li><li><span><a href=\"#Instanciation-et-lancement-des-calculs\" data-toc-modified-id=\"Instanciation-et-lancement-des-calculs-2\"><span class=\"toc-item-num\">2&nbsp;&nbsp;</span>Instanciation et lancement des calculs</a></span></li><li><span><a href=\"#Scree-plot\" data-toc-modified-id=\"Scree-plot-3\"><span class=\"toc-item-num\">3&nbsp;&nbsp;</span>Scree plot</a></span></li><li><span><a href=\"#Cercle-des-corrélations\" data-toc-modified-id=\"Cercle-des-corrélations-4\"><span class=\"toc-item-num\">4&nbsp;&nbsp;</span>Cercle des corrélations</a></span></li><li><span><a href=\"#Représentation-des-individus-sur-le-plan-factoriel-F1-F2\" data-toc-modified-id=\"Représentation-des-individus-sur-le-plan-factoriel-F1-F2-5\"><span class=\"toc-item-num\">5&nbsp;&nbsp;</span>Représentation des individus sur le plan factoriel F1-F2</a></span></li><li><span><a href=\"#Représentation-des-variables-–-Outils-pour-l’aide-à-l’interprétation\" data-toc-modified-id=\"Représentation-des-variables-–-Outils-pour-l’aide-à-l’interprétation-6\"><span class=\"toc-item-num\">6&nbsp;&nbsp;</span>Représentation des variables – Outils pour l’aide à l’interprétation</a></span><ul class=\"toc-item\"><li><span><a href=\"#contribution-des-individus-à-l'inertie-totale\" data-toc-modified-id=\"contribution-des-individus-à-l'inertie-totale-6.1\"><span class=\"toc-item-num\">6.1&nbsp;&nbsp;</span>contribution des individus à l'inertie totale</a></span></li><li><span><a href=\"#qualité-de-représentation-des-individus---COS2\" data-toc-modified-id=\"qualité-de-représentation-des-individus---COS2-6.2\"><span class=\"toc-item-num\">6.2&nbsp;&nbsp;</span>qualité de représentation des individus - COS2</a></span></li><li><span><a href=\"#Contribution-des-individus-aux-axes\" data-toc-modified-id=\"Contribution-des-individus-aux-axes-6.3\"><span class=\"toc-item-num\">6.3&nbsp;&nbsp;</span>Contribution des individus aux axes</a></span></li><li><span><a href=\"#cosinus-carré-des-variables\" data-toc-modified-id=\"cosinus-carré-des-variables-6.4\"><span class=\"toc-item-num\">6.4&nbsp;&nbsp;</span>cosinus carré des variables</a></span></li><li><span><a href=\"#Contribution-des-individus-aux-axes\" data-toc-modified-id=\"Contribution-des-individus-aux-axes-6.5\"><span class=\"toc-item-num\">6.5&nbsp;&nbsp;</span>Contribution des individus aux axes</a></span></li></ul></li><li><span><a href=\"#Analyse-et-conclusion\" data-toc-modified-id=\"Analyse-et-conclusion-7\"><span class=\"toc-item-num\">7&nbsp;&nbsp;</span>Analyse et conclusion</a></span><ul class=\"toc-item\"><li><span><a href=\"#sélection-des-3-pays-ayant-le-meilleur-potentiels\" data-toc-modified-id=\"sélection-des-3-pays-ayant-le-meilleur-potentiels-7.1\"><span class=\"toc-item-num\">7.1&nbsp;&nbsp;</span>sélection des 3 pays ayant le meilleur potentiels</a></span></li></ul></li></ul></div>"
   ]
  },
  {
   "cell_type": "code",
   "execution_count": 1,
   "metadata": {},
   "outputs": [],
   "source": [
    "import numpy as np    # linear algebra\n",
    "import pandas as pd   # data frames\n",
    "\n",
    "import sklearn\n",
    "from sklearn import decomposition\n",
    "from sklearn import preprocessing\n",
    "from sklearn.preprocessing import StandardScaler\n",
    "\n",
    "# visualisation\n",
    "import matplotlib.pyplot as plt\n",
    "from matplotlib.collections import LineCollection\n",
    "%matplotlib inline\n",
    "import seaborn as sns"
   ]
  },
  {
   "cell_type": "code",
   "execution_count": 2,
   "metadata": {},
   "outputs": [],
   "source": [
    "# sépatateurs milliers = , et 2 décimales\n",
    "pd.options.display.float_format = '{:,.2f}'.format"
   ]
  },
  {
   "cell_type": "markdown",
   "metadata": {},
   "source": [
    "## Importation des données"
   ]
  },
  {
   "cell_type": "code",
   "execution_count": 3,
   "metadata": {},
   "outputs": [
    {
     "data": {
      "text/html": [
       "<div>\n",
       "<style scoped>\n",
       "    .dataframe tbody tr th:only-of-type {\n",
       "        vertical-align: middle;\n",
       "    }\n",
       "\n",
       "    .dataframe tbody tr th {\n",
       "        vertical-align: top;\n",
       "    }\n",
       "\n",
       "    .dataframe thead th {\n",
       "        text-align: right;\n",
       "    }\n",
       "</style>\n",
       "<table border=\"1\" class=\"dataframe\">\n",
       "  <thead>\n",
       "    <tr style=\"text-align: right;\">\n",
       "      <th></th>\n",
       "      <th>clust</th>\n",
       "    </tr>\n",
       "    <tr>\n",
       "      <th>country</th>\n",
       "      <th></th>\n",
       "    </tr>\n",
       "  </thead>\n",
       "  <tbody>\n",
       "    <tr>\n",
       "      <th>Armenia</th>\n",
       "      <td>2</td>\n",
       "    </tr>\n",
       "  </tbody>\n",
       "</table>\n",
       "</div>"
      ],
      "text/plain": [
       "         clust\n",
       "country       \n",
       "Armenia      2"
      ]
     },
     "execution_count": 3,
     "metadata": {},
     "output_type": "execute_result"
    }
   ],
   "source": [
    "# import de clust_key_it1\n",
    "pk  = pd.read_csv('data/clustkey_it1.csv', index_col=0)\n",
    "pk.head(1)"
   ]
  },
  {
   "cell_type": "code",
   "execution_count": 4,
   "metadata": {},
   "outputs": [
    {
     "data": {
      "text/html": [
       "<div>\n",
       "<style scoped>\n",
       "    .dataframe tbody tr th:only-of-type {\n",
       "        vertical-align: middle;\n",
       "    }\n",
       "\n",
       "    .dataframe tbody tr th {\n",
       "        vertical-align: top;\n",
       "    }\n",
       "\n",
       "    .dataframe thead th {\n",
       "        text-align: right;\n",
       "    }\n",
       "</style>\n",
       "<table border=\"1\" class=\"dataframe\">\n",
       "  <thead>\n",
       "    <tr style=\"text-align: right;\">\n",
       "      <th></th>\n",
       "      <th>pop_2013</th>\n",
       "      <th>pop_var</th>\n",
       "      <th>gdp_2013</th>\n",
       "      <th>edb_2019</th>\n",
       "      <th>food_kcal_cap_day</th>\n",
       "      <th>prot_g_cap_day</th>\n",
       "      <th>prot_ani_ratio</th>\n",
       "      <th>poultry_food_kg_cap_y</th>\n",
       "      <th>poultry_import_ratio</th>\n",
       "      <th>clust</th>\n",
       "    </tr>\n",
       "    <tr>\n",
       "      <th>country</th>\n",
       "      <th></th>\n",
       "      <th></th>\n",
       "      <th></th>\n",
       "      <th></th>\n",
       "      <th></th>\n",
       "      <th></th>\n",
       "      <th></th>\n",
       "      <th></th>\n",
       "      <th></th>\n",
       "      <th></th>\n",
       "    </tr>\n",
       "  </thead>\n",
       "  <tbody>\n",
       "    <tr>\n",
       "      <th>Armenia</th>\n",
       "      <td>2.98</td>\n",
       "      <td>100.00</td>\n",
       "      <td>3,843.59</td>\n",
       "      <td>75.37</td>\n",
       "      <td>2,924.00</td>\n",
       "      <td>90.06</td>\n",
       "      <td>48.01</td>\n",
       "      <td>13.44</td>\n",
       "      <td>80.00</td>\n",
       "      <td>2</td>\n",
       "    </tr>\n",
       "  </tbody>\n",
       "</table>\n",
       "</div>"
      ],
      "text/plain": [
       "         pop_2013  pop_var  gdp_2013  edb_2019  food_kcal_cap_day  \\\n",
       "country                                                             \n",
       "Armenia      2.98   100.00  3,843.59     75.37           2,924.00   \n",
       "\n",
       "         prot_g_cap_day  prot_ani_ratio  poultry_food_kg_cap_y  \\\n",
       "country                                                          \n",
       "Armenia           90.06           48.01                  13.44   \n",
       "\n",
       "         poultry_import_ratio  clust  \n",
       "country                               \n",
       "Armenia                 80.00      2  "
      ]
     },
     "execution_count": 4,
     "metadata": {},
     "output_type": "execute_result"
    }
   ],
   "source": [
    "# import de data_it1\n",
    "data  = pd.read_csv('data/data_it1.csv', index_col=0)\n",
    "data.head(1)"
   ]
  },
  {
   "cell_type": "code",
   "execution_count": 5,
   "metadata": {},
   "outputs": [
    {
     "name": "stdout",
     "output_type": "stream",
     "text": [
      "(164, 10)\n"
     ]
    }
   ],
   "source": [
    "# dimensions du df\n",
    "print(data.shape)\n",
    "\n",
    "#nombre d'observations\n",
    "n = data.shape[0]\n",
    "#nombre de variables\n",
    "p = data.shape[1]"
   ]
  },
  {
   "cell_type": "markdown",
   "metadata": {},
   "source": [
    "## Instanciation et lancement des calculs"
   ]
  },
  {
   "cell_type": "code",
   "execution_count": 6,
   "metadata": {},
   "outputs": [
    {
     "data": {
      "text/plain": [
       "PCA(copy=True, iterated_power='auto', n_components=9, random_state=None,\n",
       "  svd_solver='full', tol=0.0, whiten=False)"
      ]
     },
     "execution_count": 6,
     "metadata": {},
     "output_type": "execute_result"
    }
   ],
   "source": [
    "# choix du nombre de composantes à calculer\n",
    "n_comp = 9\n",
    "\n",
    "# clusters auxquels appartiennent les pays\n",
    "statut = [pk.loc[statut, 'clust'] for statut in data.index]\n",
    "\n",
    "# selection des colonnes à prendre en compte dans l'ACP\n",
    "data_pca = data[['pop_2013','pop_var','gdp_2013','edb_2019','food_kcal_cap_day','prot_g_cap_day',\n",
    "                 'prot_ani_ratio','poultry_food_kg_cap_y','poultry_import_ratio']]\n",
    "\n",
    "# préparation des données pour l'ACP\n",
    "X = data_pca.values\n",
    "names = data[\"clust\"] # ou data.index pour avoir les intitulés\n",
    "features = data.columns\n",
    "\n",
    "# Centrage et Réduction\n",
    "std_scale = preprocessing.StandardScaler().fit(X)\n",
    "X_scaled = std_scale.transform(X)\n",
    "\n",
    "# Calcul des composantes principales\n",
    "acp = decomposition.PCA(svd_solver='full',n_components=n_comp)\n",
    "acp.fit(X_scaled)\n",
    "\n"
   ]
  },
  {
   "cell_type": "raw",
   "metadata": {},
   "source": [
    "df_comp = pd.DataFrame(Z, index = X.index, columns = ['F'+str(i+1) for i in range(n_comp)])\n",
    "df_comp.describe()"
   ]
  },
  {
   "cell_type": "code",
   "execution_count": 7,
   "metadata": {},
   "outputs": [
    {
     "name": "stdout",
     "output_type": "stream",
     "text": [
      "[4.21991755 1.32988995 0.86339031 0.81326787 0.7285906  0.42441261\n",
      " 0.33062283 0.19092943 0.09897885]\n"
     ]
    }
   ],
   "source": [
    "# variance corrigée méthode 1\n",
    "eigval = (n-1)/n*acp.explained_variance_\n",
    "print(eigval)"
   ]
  },
  {
   "cell_type": "markdown",
   "metadata": {},
   "source": [
    "## Scree plot"
   ]
  },
  {
   "cell_type": "code",
   "execution_count": 8,
   "metadata": {},
   "outputs": [
    {
     "data": {
      "image/png": "[encoded data removed]",
      "text/plain": [
       "<Figure size 864x432 with 1 Axes>"
      ]
     },
     "metadata": {},
     "output_type": "display_data"
    }
   ],
   "source": [
    "#scree plot 2\n",
    "sns.set_style(\"whitegrid\")\n",
    "plt.figure(figsize=(12,6))\n",
    "\n",
    "def display_scree_plot(acp):\n",
    "    scree = acp.singular_values_**2/n \n",
    "    plt.bar(np.arange(len(scree))+1, scree)\n",
    "    plt.plot(np.arange(len(scree))+1, scree.cumsum(),c=\"red\",marker='o')\n",
    "    \n",
    "    plt.xlabel(\"rang de l'axe d'inertie\",size=14, fontweight='bold')\n",
    "    plt.ylabel(\"inertie\",size=14, fontweight='bold')\n",
    "    plt.title(\"Eboulis des valeurs propres\",color='navy', size=18)\n",
    "    plt.axvline(2, linestyle='dashed', color = 'grey')\n",
    "    plt.axvline(6, linestyle='dashed', color = 'grey')\n",
    "\n",
    "display_scree_plot(acp)\n",
    "\n",
    "v=np.cumsum(acp.explained_variance_ratio_)*100\n",
    "plt.text(1,-1.6, \"                        Variance cumulée : %s\" %np.round(v,0), color ='navy', size=15)\n",
    "plt.savefig('img/P5.3_screeplot2.png', dpi=120, bbox_inches='tight')\n",
    "\n",
    "plt.show()\n",
    "plt.close()  "
   ]
  },
  {
   "cell_type": "code",
   "execution_count": 9,
   "metadata": {},
   "outputs": [
    {
     "name": "stdout",
     "output_type": "stream",
     "text": [
      "[0.46887973 0.14776555 0.09593226 0.0903631  0.08095451 0.04715696\n",
      " 0.03673587 0.02121438 0.01099765]\n"
     ]
    }
   ],
   "source": [
    "# Proportion de variance expliquée\n",
    "print(acp.explained_variance_ratio_)"
   ]
  },
  {
   "cell_type": "markdown",
   "metadata": {},
   "source": [
    "**Analyse**<br>\n",
    "* Le coude apparaît dès la deuxième composante, mais cela coïncide avec les demandes du commenditaire, nous étudierons donc que le premier plan factoriel avec les composantes 1 et 2\n",
    "* Le premier plan factoriel représente 62 % de la variance cumulée"
   ]
  },
  {
   "cell_type": "markdown",
   "metadata": {},
   "source": [
    "## Cercle des corrélations"
   ]
  },
  {
   "cell_type": "raw",
   "metadata": {},
   "source": [
    "def display_circles(pcs, n_comp, pca, axis_ranks, labels=None, label_rotation=0, lims=None):\n",
    "    for d1, d2 in axis_ranks: # On affiche les 3 premiers plans factoriels, donc les 6 premières composantes\n",
    "        if d2 < n_comp:\n",
    "\n",
    "            # initialisation de la figure\n",
    "            fig, ax = plt.subplots(figsize=(8,8))\n",
    "\n",
    "            # détermination des limites du graphique\n",
    "            if lims is not None :\n",
    "                xmin, xmax, ymin, ymax = lims\n",
    "            elif pcs.shape[1] < 30 :\n",
    "                xmin, xmax, ymin, ymax = -1, 1, -1, 1\n",
    "            else :\n",
    "                xmin, xmax, ymin, ymax = min(pcs[d1,:]), max(pcs[d1,:]), min(pcs[d2,:]), max(pcs[d2,:])\n",
    "\n",
    "            # affichage des flèches\n",
    "            # s'il y a plus de 30 flèches, on n'affiche pas le triangle à leur extrémité\n",
    "            if pcs.shape[1] < 30 :\n",
    "                plt.quiver(np.zeros(pcs.shape[1]), np.zeros(pcs.shape[1]),\n",
    "                   pcs[d1,:], pcs[d2,:], \n",
    "                   angles='xy', scale_units='xy', scale=1, color=\"darkred\")\n",
    "                # (voir la doc : https://matplotlib.org/api/_as_gen/matplotlib.pyplot.quiver.html)\n",
    "            else:\n",
    "                lines = [[[0,0],[x,y]] for x,y in pcs[[d1,d2]].T]\n",
    "                ax.add_collection(LineCollection(lines, axes=ax, alpha=.1, color='black'))\n",
    "            \n",
    "            # affichage des noms des variables  \n",
    "            if labels is not None:  \n",
    "                for i,(x, y) in enumerate(pcs[[d1,d2]].T):\n",
    "                    if x >= xmin and x <= xmax and y >= ymin and y <= ymax :\n",
    "                        plt.text(x, y, labels[i], fontsize='12', ha='left', va='center', rotation=label_rotation, color=\"navy\", alpha=0.5)\n",
    "            \n",
    "            # affichage du cercle\n",
    "            circle = plt.Circle((0,0), 1, facecolor='none', edgecolor='b')\n",
    "            plt.gca().add_artist(circle)\n",
    "\n",
    "            # définition des limites du graphique\n",
    "            plt.xlim(xmin, xmax)\n",
    "            plt.ylim(ymin, ymax)\n",
    "        \n",
    "            # affichage des lignes horizontales et verticales\n",
    "            plt.plot([-1, 1], [0, 0], color='grey', ls='--')\n",
    "            plt.plot([0, 0], [-1, 1], color='grey', ls='--')\n",
    "\n",
    "            # nom des axes, avec le pourcentage d'inertie expliqué\n",
    "            plt.xlabel('F{} ({}%)'.format(d1+1, round(100*pca.explained_variance_ratio_[d1],1)),size=13, fontweight='bold')\n",
    "            plt.ylabel('F{} ({}%)'.format(d2+1, round(100*pca.explained_variance_ratio_[d2],1)),size=13, fontweight='bold')\n",
    "\n",
    "            plt.title(\"Cercle des corrélations (F{} et F{})\".format(d1+1, d2+1),color='navy', size=16)\n",
    "            plt.show(block=False)\n",
    "        \n",
    "def get_correlation(pca, X_scaled):\n",
    "    (n, p) = X_scaled.shape\n",
    "    n_comp = len(pca.components_)\n",
    "    \n",
    "    eigval = pca.singular_values_**2/n\n",
    "    sqrt_eigval = np.sqrt(eigval)\n",
    "\n",
    "    covar = np.zeros((p, n_comp))\n",
    "    for k in range(n_comp):\n",
    "        covar[:,k] = pca.components_[k,:] * sqrt_eigval[k]\n",
    "        \n",
    "    return covar.T"
   ]
  },
  {
   "cell_type": "code",
   "execution_count": 10,
   "metadata": {},
   "outputs": [
    {
     "ename": "NameError",
     "evalue": "name 'get_correlation' is not defined",
     "output_type": "error",
     "traceback": [
      "\u001b[1;31m---------------------------------------------------------------------------\u001b[0m",
      "\u001b[1;31mNameError\u001b[0m                                 Traceback (most recent call last)",
      "\u001b[1;32m<ipython-input-10-2e7a7b3cc434>\u001b[0m in \u001b[0;36m<module>\u001b[1;34m\u001b[0m\n\u001b[0;32m      1\u001b[0m \u001b[1;31m# Cercle des corrélations\u001b[0m\u001b[1;33m\u001b[0m\u001b[1;33m\u001b[0m\u001b[1;33m\u001b[0m\u001b[0m\n\u001b[0;32m      2\u001b[0m \u001b[0mfeatures\u001b[0m \u001b[1;33m=\u001b[0m \u001b[0mdata_pca\u001b[0m\u001b[1;33m.\u001b[0m\u001b[0mcolumns\u001b[0m\u001b[1;33m\u001b[0m\u001b[1;33m\u001b[0m\u001b[0m\n\u001b[1;32m----> 3\u001b[1;33m \u001b[0mpcs\u001b[0m \u001b[1;33m=\u001b[0m \u001b[0mget_correlation\u001b[0m\u001b[1;33m(\u001b[0m\u001b[0macp\u001b[0m\u001b[1;33m,\u001b[0m \u001b[0mX_scaled\u001b[0m\u001b[1;33m)\u001b[0m\u001b[1;33m\u001b[0m\u001b[1;33m\u001b[0m\u001b[0m\n\u001b[0m\u001b[0;32m      4\u001b[0m \u001b[0mdisplay_circles\u001b[0m\u001b[1;33m(\u001b[0m\u001b[0mpcs\u001b[0m\u001b[1;33m,\u001b[0m \u001b[0mn_comp\u001b[0m\u001b[1;33m,\u001b[0m \u001b[0macp\u001b[0m\u001b[1;33m,\u001b[0m \u001b[1;33m[\u001b[0m\u001b[1;33m(\u001b[0m\u001b[1;36m0\u001b[0m\u001b[1;33m,\u001b[0m\u001b[1;36m1\u001b[0m\u001b[1;33m)\u001b[0m\u001b[1;33m]\u001b[0m\u001b[1;33m,\u001b[0m \u001b[0mlabels\u001b[0m \u001b[1;33m=\u001b[0m \u001b[0mnp\u001b[0m\u001b[1;33m.\u001b[0m\u001b[0marray\u001b[0m\u001b[1;33m(\u001b[0m\u001b[0mfeatures\u001b[0m\u001b[1;33m)\u001b[0m\u001b[1;33m)\u001b[0m\u001b[1;33m\u001b[0m\u001b[1;33m\u001b[0m\u001b[0m\n\u001b[0;32m      5\u001b[0m \u001b[1;33m\u001b[0m\u001b[0m\n",
      "\u001b[1;31mNameError\u001b[0m: name 'get_correlation' is not defined"
     ]
    }
   ],
   "source": [
    "# Cercle des corrélations \n",
    "features = data_pca.columns\n",
    "pcs = get_correlation(acp, X_scaled)\n",
    "display_circles(pcs, n_comp, acp, [(0,1)], labels = np.array(features))\n",
    "\n",
    "           \n",
    "#plt.savefig('img/P5.3_cor_circle.png', dpi=120, bbox_inches='tight')"
   ]
  },
  {
   "cell_type": "markdown",
   "metadata": {},
   "source": [
    "**Analyse**<br>\n",
    "* Il apparaît clairement que les variables  prot_g_cap_day,  prot_ani_ratio , food_kcal_cap_day ,  edb_2019 , gdp_2013 et, dans une moindre mesure, poultry_food_ kg_cap_day sont très bien représentées sur l’axe de du premier plan\n",
    "* Il faut également noter une anti-corrélation sur ce plan entre pop_var et edb_2019\n",
    "* Sur le deuxième plan, nous avons une projection anti-corrélée entre pop_2013 et poultry_import_ratio\n",
    "* Il faut privilégier les individus les mieux positivement représentés sur l’axe F1\n",
    "* Nous devons donc chercher les individus représentés le plus à droite sur le premier plan factoriel F1"
   ]
  },
  {
   "cell_type": "markdown",
   "metadata": {},
   "source": [
    "## Représentation des individus sur le plan factoriel F1-F2"
   ]
  },
  {
   "cell_type": "code",
   "execution_count": null,
   "metadata": {},
   "outputs": [],
   "source": [
    "def display_factorial_planes(X_projected, n_comp, pca, axis_ranks, labels=None, alpha=1, illustrative_var=None):\n",
    "    for d1,d2 in axis_ranks:\n",
    "        if d2 < n_comp:\n",
    " \n",
    "            # initialisation de la figure       \n",
    "            fig = plt.figure(figsize=(8,8))\n",
    "        \n",
    "            # affichage des points\n",
    "            if illustrative_var is None:\n",
    "                plt.scatter(X_projected[:, d1], X_projected[:, d2], alpha=alpha)\n",
    "            else:\n",
    "                illustrative_var = np.array(illustrative_var)\n",
    "                for value in np.unique(illustrative_var):\n",
    "                    selected = np.where(illustrative_var == value)\n",
    "                    plt.scatter(X_projected[selected, d1], X_projected[selected, d2], alpha=alpha, label=value)\n",
    "                plt.legend()\n",
    "\n",
    "            # affichage des labels des points\n",
    "            if labels is not None:\n",
    "                for i,(x,y) in enumerate(X_projected[:,[d1,d2]]):\n",
    "                    plt.text(x, y, labels[i],\n",
    "                              fontsize='12', ha='center',va='center') \n",
    "                \n",
    "            # détermination des limites du graphique\n",
    "            boundary = np.max(np.abs(X_projected[:, [d1,d2]])) * 1.1\n",
    "            plt.xlim([-boundary,boundary])\n",
    "            plt.ylim([-boundary,boundary])\n",
    "        \n",
    "            # affichage des lignes horizontales et verticales\n",
    "            plt.plot([-100, 100], [0, 0], color='grey', ls='--')\n",
    "            plt.plot([0, 0], [-100, 100], color='grey', ls='--')\n",
    "\n",
    "            # nom des axes, avec le pourcentage d'inertie expliqué\n",
    "            plt.xlabel('F{} ({}%)'.format(d1+1, round(100*pca.explained_variance_ratio_[d1],1)),size=13, fontweight='bold')\n",
    "            plt.ylabel('F{} ({}%)'.format(d2+1, round(100*pca.explained_variance_ratio_[d2],1)),size=13, fontweight='bold')\n",
    "\n",
    "            plt.title(\"Projection des individus (sur F{} et F{})\".format(d1+1, d2+1),color='navy', size=16)\n",
    "            plt.show(block=False)\n"
   ]
  },
  {
   "cell_type": "code",
   "execution_count": null,
   "metadata": {},
   "outputs": [],
   "source": [
    "# Projection des individus\n",
    "X_projected = acp.transform(X_scaled)\n",
    "display_factorial_planes(X_projected, n_comp, acp, [(0,1)], labels = None, illustrative_var = statut, alpha = 0.8)\n",
    "\n",
    "plt.savefig('img/P5.3_individus.png', dpi=120, bbox_inches='tight')\n",
    "\n",
    "plt.show()"
   ]
  },
  {
   "cell_type": "markdown",
   "metadata": {},
   "source": [
    "**Analyse**<br>\n",
    "* Selon le cercle des corrélations, nous cherchons donc les individus qui ont les valeurs les plus élevées sur l’axe F1\n",
    "* Graphiquement, on constate que cela concerne le cluster 1, ainsi qu’un ou deux des éléments des clusters 2 et 3"
   ]
  },
  {
   "cell_type": "markdown",
   "metadata": {},
   "source": [
    "## Représentation des variables – Outils pour l’aide à l’interprétation"
   ]
  },
  {
   "cell_type": "markdown",
   "metadata": {},
   "source": [
    "### contribution des individus à l'inertie totale"
   ]
  },
  {
   "cell_type": "code",
   "execution_count": null,
   "metadata": {
    "scrolled": true
   },
   "outputs": [],
   "source": [
    "#contribution des individus dans l'inertie totale\n",
    "di = np.sum(X_scaled**2,axis=1)\n",
    "# Création du data frame\n",
    "contrib = pd.DataFrame({'ID':data.index,'d_i':di})\n",
    "contrib.sort_values('d_i', axis = 0, ascending = False, inplace = True) \n",
    "contrib.head(10)"
   ]
  },
  {
   "cell_type": "markdown",
   "metadata": {},
   "source": [
    "### qualité de représentation des individus - COS2"
   ]
  },
  {
   "cell_type": "code",
   "execution_count": null,
   "metadata": {},
   "outputs": [],
   "source": [
    "# qualité de représentation des individus - COS2\n",
    "cos2 = pcs.T**2\n",
    "\n",
    "ind_q = pd.DataFrame({'id':features,'COS2_1':cos2[:,0],'COS2_2':cos2[:,1]})\n",
    "\n",
    "# tri décroissant 'COS2_1'\n",
    "ind_q.sort_values('COS2_1', axis = 0, ascending = False, inplace = True) \n",
    "ind_q.head()"
   ]
  },
  {
   "cell_type": "code",
   "execution_count": null,
   "metadata": {},
   "outputs": [],
   "source": [
    "# tri décroissant 'COS2_2'\n",
    "ind_q.sort_values('COS2_2', axis = 0, ascending = False, inplace = True) \n",
    "ind_q.head()"
   ]
  },
  {
   "cell_type": "markdown",
   "metadata": {},
   "source": [
    "### Contribution des individus aux axes"
   ]
  },
  {
   "cell_type": "code",
   "execution_count": null,
   "metadata": {},
   "outputs": [],
   "source": [
    "#contributions\n",
    "ctr = X_projected**2\n",
    "\n",
    "for k in range(n_comp):\n",
    "     ctr[:,k] = ctr[:,k]/(n*eigval[k])\n",
    "        \n",
    "#on n'affiche que pour les deux premiers axes\n",
    "ctr = pd.DataFrame({'id':data.index,'CTR_1':ctr[:,0],'CTR_2':ctr[:,1]})\n",
    "\n",
    "# tri décroissant sur CTR_1\n",
    "ctr.sort_values('CTR_1', axis = 0, ascending = False, inplace = True) \n",
    "ctr.head()"
   ]
  },
  {
   "cell_type": "code",
   "execution_count": null,
   "metadata": {},
   "outputs": [],
   "source": [
    "# tri décroissant sur CTR_1\n",
    "ctr.sort_values('CTR_2', axis = 0, ascending = False, inplace = True) \n",
    "ctr.head()"
   ]
  },
  {
   "cell_type": "markdown",
   "metadata": {},
   "source": [
    "### cosinus carré des variables"
   ]
  },
  {
   "cell_type": "code",
   "execution_count": null,
   "metadata": {},
   "outputs": [],
   "source": [
    "# cosinus carré des variables\n",
    "cos2var = pcs.T**2\n",
    "cos2 = pd.DataFrame({'id':features,'COS2_1':cos2var[:,0],'COS2_2':cos2var[:,1]})\n",
    "cos2"
   ]
  },
  {
   "cell_type": "markdown",
   "metadata": {},
   "source": [
    "### Contribution des individus aux axes"
   ]
  },
  {
   "cell_type": "code",
   "execution_count": null,
   "metadata": {},
   "outputs": [],
   "source": [
    "#contributions aux axes\n",
    "ctrvar = cos2var\n",
    "for k in range(n_comp):\n",
    "    ctrvar[:,k] = ctrvar[:,k]/eigval[k]\n",
    "    \n",
    "#on n'affiche que pour les deux premiers axes\n",
    "ctr = pd.DataFrame({'id':features,'CTR_1':ctrvar[:,0],'CTR_2':ctrvar[:,1]})\n",
    "ctr"
   ]
  },
  {
   "cell_type": "markdown",
   "metadata": {},
   "source": [
    "## Analyse et conclusion"
   ]
  },
  {
   "cell_type": "code",
   "execution_count": null,
   "metadata": {},
   "outputs": [],
   "source": [
    "# Sélection des 12 pays les mieux représentés sur F1\n",
    "df = pd.DataFrame(X_projected, index=data.index, columns = ['F1','F2','F3','F4','F5','F6','F7','F8','F9'])\n",
    "df.drop(['F2','F3','F4','F5','F6','F7','F8','F9'], axis=1, inplace = True)\n",
    "\n",
    "# tri décroissant 'COS2_1'\n",
    "df.sort_values('F1', axis = 0, ascending = False, inplace = True) \n",
    "df.head(12)"
   ]
  },
  {
   "cell_type": "code",
   "execution_count": null,
   "metadata": {
    "scrolled": false
   },
   "outputs": [],
   "source": [
    "# left joint sur df \n",
    "select = pd.merge(df, data, on='country', how = 'inner')\n",
    "select.head(12)"
   ]
  },
  {
   "cell_type": "markdown",
   "metadata": {},
   "source": [
    "### sélection des 3 pays ayant le meilleur potentiels"
   ]
  },
  {
   "cell_type": "markdown",
   "metadata": {},
   "source": [
    "* Nous partons du principe que le comanditaire est européen, nous excluons Hong Kong, USA, Australia et Israel\n",
    "* Luxembourg et Iceland ont moins d'un million d'habitants, cela semble insuffisant pour développer un marché\n",
    "* Austria et Finland consomment moins de 20kg de volaille par an\n",
    "* Poultry import ratio élevé pour Netherlands, le pays exporte 2 fois plus de volaille qu'il n'en consomme\n"
   ]
  },
  {
   "cell_type": "markdown",
   "metadata": {},
   "source": [
    "**Les trois pays retenus sont donc : Norway, Denmark, Ireland** (ces pays sont dans le cluster 1)"
   ]
  },
  {
   "cell_type": "code",
   "execution_count": null,
   "metadata": {},
   "outputs": [],
   "source": []
  }
 ],
 "metadata": {
  "kernelspec": {
   "display_name": "Python 3",
   "language": "python",
   "name": "python3"
  },
  "language_info": {
   "codemirror_mode": {
    "name": "ipython",
    "version": 3
   },
   "file_extension": ".py",
   "mimetype": "text/x-python",
   "name": "python",
   "nbconvert_exporter": "python",
   "pygments_lexer": "ipython3",
   "version": "3.7.3"
  },
  "toc": {
   "base_numbering": 1,
   "nav_menu": {},
   "number_sections": true,
   "sideBar": true,
   "skip_h1_title": true,
   "title_cell": "Table of Contents",
   "title_sidebar": "Contents",
   "toc_cell": true,
   "toc_position": {},
   "toc_section_display": true,
   "toc_window_display": false
  }
 },
 "nbformat": 4,
 "nbformat_minor": 2
}
